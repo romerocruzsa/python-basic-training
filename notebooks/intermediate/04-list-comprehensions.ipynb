{
  "nbformat": 4,
  "nbformat_minor": 0,
  "metadata": {
    "colab": {
      "provenance": [],
      "authorship_tag": "ABX9TyOx/dZUyaAC2hYA2CZM8VBc",
      "include_colab_link": true
    },
    "kernelspec": {
      "name": "python3",
      "display_name": "Python 3"
    },
    "language_info": {
      "name": "python"
    }
  },
  "cells": [
    {
      "cell_type": "markdown",
      "metadata": {
        "id": "view-in-github",
        "colab_type": "text"
      },
      "source": [
        "<a href=\"https://colab.research.google.com/github/romerocruzsa/python-basic-training/blob/intermediate-uploads/PythonIntermediate_Part4.ipynb\" target=\"_parent\"><img src=\"https://colab.research.google.com/assets/colab-badge.svg\" alt=\"Open In Colab\"/></a>"
      ]
    },
    {
      "cell_type": "markdown",
      "source": [
        "Copyright 2020 Google LLC.\n",
        "\n",
        "*Changes made subject to discretion of revision author, Sebastián A. Cruz Romero*"
      ],
      "metadata": {
        "id": "VacbToADDZkW"
      }
    },
    {
      "cell_type": "code",
      "source": [
        "# Licensed under the Apache License, Version 2.0 (the \"License\");\n",
        "# you may not use this file except in compliance with the License.\n",
        "# You may obtain a copy of the License at\n",
        "#\n",
        "# https://www.apache.org/licenses/LICENSE-2.0\n",
        "#\n",
        "# Unless required by applicable law or agreed to in writing, software\n",
        "# distributed under the License is distributed on an \"AS IS\" BASIS,\n",
        "# WITHOUT WARRANTIES OR CONDITIONS OF ANY KIND, either express or implied.\n",
        "# See the License for the specific language governing permissions and\n",
        "# limitations under the License."
      ],
      "metadata": {
        "id": "L0TGNyDDDaSi"
      },
      "execution_count": 1,
      "outputs": []
    },
    {
      "cell_type": "markdown",
      "source": [
        "# Python Intermediate - Part 4\n",
        "\n"
      ],
      "metadata": {
        "id": "Ief-DfBf420S"
      }
    },
    {
      "cell_type": "markdown",
      "source": [
        "### **This notebook will cover the following topics:**\n",
        "1. List Comprehension"
      ],
      "metadata": {
        "id": "CnaJiFdm5EKq"
      }
    },
    {
      "cell_type": "markdown",
      "source": [
        "## List Comprehension"
      ],
      "metadata": {
        "id": "Wds5K7P96ool"
      }
    },
    {
      "cell_type": "markdown",
      "source": [
        "List comprehension is a compact way to create a list of data. Say you want to create a list containing ten random numbers. One way to do this is to just hard-code a ten-element-list."
      ],
      "metadata": {
        "id": "Jb4e-BCN627w"
      }
    },
    {
      "cell_type": "code",
      "execution_count": 2,
      "metadata": {
        "colab": {
          "base_uri": "https://localhost:8080/"
        },
        "id": "ooZtHD0Q408j",
        "outputId": "78d60b9b-6039-4042-fad0-f856b49d9325"
      },
      "outputs": [
        {
          "output_type": "execute_result",
          "data": {
            "text/plain": [
              "[17, 82, 56, 61, 99, 81, 44, 43, 13, 88]"
            ]
          },
          "metadata": {},
          "execution_count": 2
        }
      ],
      "source": [
        "import random\n",
        "\n",
        "[\n",
        "  random.randint(0, 100),\n",
        "  random.randint(0, 100),\n",
        "  random.randint(0, 100),\n",
        "  random.randint(0, 100),\n",
        "  random.randint(0, 100),\n",
        "  random.randint(0, 100),\n",
        "  random.randint(0, 100),\n",
        "  random.randint(0, 100),\n",
        "  random.randint(0, 100),\n",
        "  random.randint(0, 100),\n",
        "]"
      ]
    },
    {
      "cell_type": "markdown",
      "source": [
        "> *Note*: In the code above, we've introduced the **random** module. `random` is a Python package that comes as part of the standard Python distribution. To use Python packages we rely on the **import** keyword.\n",
        "\n",
        "That's pretty intensive, and requires a bit of copy-paste work. We could clean it up with a `for` loop:"
      ],
      "metadata": {
        "id": "IeFzEtL4LU6S"
      }
    },
    {
      "cell_type": "code",
      "source": [
        "import random\n",
        "\n",
        "my_list = []\n",
        "for _ in range(10):\n",
        "  my_list.append(random.randint(0, 100))\n",
        "\n",
        "my_list"
      ],
      "metadata": {
        "id": "oFFgbZgh7Nct",
        "colab": {
          "base_uri": "https://localhost:8080/"
        },
        "outputId": "1ade852e-55df-4d2a-dd1f-58f6c98aedb1"
      },
      "execution_count": 3,
      "outputs": [
        {
          "output_type": "execute_result",
          "data": {
            "text/plain": [
              "[92, 99, 50, 39, 47, 3, 69, 37, 76, 60]"
            ]
          },
          "metadata": {},
          "execution_count": 3
        }
      ]
    },
    {
      "cell_type": "markdown",
      "source": [
        "This looks much nicer. Less repetition is always a good thing.\n",
        "\n",
        "> *Note*: Did you notice the use of the underscore to consume the value returned from range? You can use this when you don't actually need the range value, and it saves Python from assigning it to memory.\n",
        "\n",
        "There is an even more idiomatic way of creating this list of numbers in Python. Here is an example of a list comprehension:"
      ],
      "metadata": {
        "id": "ldaA5pDrHROI"
      }
    },
    {
      "cell_type": "code",
      "source": [
        "import random\n",
        "\n",
        "my_list = [random.randint(0, 100) for _ in range(10)]\n",
        "my_list"
      ],
      "metadata": {
        "colab": {
          "base_uri": "https://localhost:8080/"
        },
        "id": "NHlQpvKU7ogE",
        "outputId": "941071c4-9c39-4095-fd6a-05ccab2af29c"
      },
      "execution_count": 4,
      "outputs": [
        {
          "output_type": "execute_result",
          "data": {
            "text/plain": [
              "[8, 27, 19, 93, 42, 72, 18, 22, 74, 6]"
            ]
          },
          "metadata": {},
          "execution_count": 4
        }
      ]
    },
    {
      "cell_type": "markdown",
      "source": [
        "Let's start by looking at the \"`for _ in range()`\" part. This looks like the for loop that we are familiar with. In this case, it is a loop over the range from zero through nine.\n",
        "\n",
        "The strange part is the `for` doesn't start the expression. We are used to seeing a `for` loop with a body of statements indented below it. In this case, the body of the for loop is to the left of the `for` keyword.\n",
        "\n",
        "This is the signature of list comprehension. The body of the loop comes first and the `for` range comes last."
      ],
      "metadata": {
        "id": "Ub4ylvNr8MgO"
      }
    },
    {
      "cell_type": "markdown",
      "source": [
        "`for` isn't the only option for list comprehensions. You can also add an `if` condition."
      ],
      "metadata": {
        "id": "8lilfWu1L6YV"
      }
    },
    {
      "cell_type": "code",
      "source": [
        "[x for x in range(10) if x % 2 == 0]"
      ],
      "metadata": {
        "id": "Itbifo0x8HIh",
        "colab": {
          "base_uri": "https://localhost:8080/"
        },
        "outputId": "016f9d6b-20d7-4150-9f1e-431f55e4ea19"
      },
      "execution_count": 5,
      "outputs": [
        {
          "output_type": "execute_result",
          "data": {
            "text/plain": [
              "[0, 2, 4, 6, 8]"
            ]
          },
          "metadata": {},
          "execution_count": 5
        }
      ]
    },
    {
      "cell_type": "markdown",
      "source": [
        "You can ad multiple `if` statements by using boolean operators"
      ],
      "metadata": {
        "id": "VZpHIglR7t9H"
      }
    },
    {
      "cell_type": "code",
      "source": [
        "print([x for x in range(10) if x % 2 == 0 and x % 3 == 0])\n",
        "print([x for x in range(10) if x % 2 == 0 or x % 3 == 0])"
      ],
      "metadata": {
        "colab": {
          "base_uri": "https://localhost:8080/"
        },
        "id": "8eRl5-tI7vI-",
        "outputId": "debe7a01-d530-4b07-d6f4-0a5e8ed493c8"
      },
      "execution_count": 6,
      "outputs": [
        {
          "output_type": "stream",
          "name": "stdout",
          "text": [
            "[0, 6]\n",
            "[0, 2, 3, 4, 6, 8, 9]\n"
          ]
        }
      ]
    },
    {
      "cell_type": "markdown",
      "source": [
        "You can even have multiple loops chained in a single list comprehension. The left-most loop is the outer loop and the subsequent loops are nested within. However, when cases become sufficiently complicated, we recommend using standard loop notation, to enhance code readability."
      ],
      "metadata": {
        "id": "gJBN7u5T_hVZ"
      }
    },
    {
      "cell_type": "code",
      "source": [
        "[(x, y) for x in range(5) for y in range(3)]"
      ],
      "metadata": {
        "colab": {
          "base_uri": "https://localhost:8080/"
        },
        "id": "r7czhQZI8x0G",
        "outputId": "5cf5c069-5e9f-4bf0-d832-cae0dae73dba"
      },
      "execution_count": 7,
      "outputs": [
        {
          "output_type": "execute_result",
          "data": {
            "text/plain": [
              "[(0, 0),\n",
              " (0, 1),\n",
              " (0, 2),\n",
              " (1, 0),\n",
              " (1, 1),\n",
              " (1, 2),\n",
              " (2, 0),\n",
              " (2, 1),\n",
              " (2, 2),\n",
              " (3, 0),\n",
              " (3, 1),\n",
              " (3, 2),\n",
              " (4, 0),\n",
              " (4, 1),\n",
              " (4, 2)]"
            ]
          },
          "metadata": {},
          "execution_count": 7
        }
      ]
    },
    {
      "cell_type": "markdown",
      "source": [
        "## Practice Exercises"
      ],
      "metadata": {
        "id": "qgMKJjjWCMSi"
      }
    },
    {
      "cell_type": "markdown",
      "source": [
        "#### **Exercise 1**"
      ],
      "metadata": {
        "id": "03_8SGf6D3wd"
      }
    },
    {
      "cell_type": "markdown",
      "source": [
        "Create a list expansion that builds a list of numbers between 5 and 67 (inclusive) that are divisible by 7 but not divisible by 3."
      ],
      "metadata": {
        "id": "MBtQHwxgD6JS"
      }
    },
    {
      "cell_type": "markdown",
      "source": [
        "**Student Solution**"
      ],
      "metadata": {
        "id": "D_KN-PWRD7rG"
      }
    },
    {
      "cell_type": "code",
      "source": [
        "# Your code goes here"
      ],
      "metadata": {
        "id": "U2vyO85tIqQc"
      },
      "execution_count": 8,
      "outputs": []
    },
    {
      "cell_type": "markdown",
      "source": [
        "#### **Exercise 2**"
      ],
      "metadata": {
        "id": "TkhV5oVxCOOm"
      }
    },
    {
      "cell_type": "markdown",
      "source": [
        "Use list comprehension to find the lengths of all the words in the following sentence."
      ],
      "metadata": {
        "id": "gPk-eFyzCWLa"
      }
    },
    {
      "cell_type": "markdown",
      "source": [
        "**Student Solution**"
      ],
      "metadata": {
        "id": "BbARTQozCwQ1"
      }
    },
    {
      "cell_type": "code",
      "source": [
        "sentence = \"I love list comprehension so much it makes me want to cry\"\n",
        "words = sentence.split()\n",
        "print(words)\n",
        "\n",
        "# Your code goes here"
      ],
      "metadata": {
        "id": "ElCLJhFUCoKg",
        "colab": {
          "base_uri": "https://localhost:8080/"
        },
        "outputId": "56dc4334-9fc9-4451-e0e3-a003cbae8ecf"
      },
      "execution_count": 9,
      "outputs": [
        {
          "output_type": "stream",
          "name": "stdout",
          "text": [
            "['I', 'love', 'list', 'comprehension', 'so', 'much', 'it', 'makes', 'me', 'want', 'to', 'cry']\n"
          ]
        }
      ]
    },
    {
      "cell_type": "code",
      "source": [],
      "metadata": {
        "id": "iu1QjM_fMSR0"
      },
      "execution_count": 9,
      "outputs": []
    }
  ]
}