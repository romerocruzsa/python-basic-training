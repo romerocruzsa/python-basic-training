{
  "nbformat": 4,
  "nbformat_minor": 0,
  "metadata": {
    "colab": {
      "provenance": [],
      "authorship_tag": "ABX9TyNCB0u2X/RDXTgholz3dc29",
      "include_colab_link": true
    },
    "kernelspec": {
      "name": "python3",
      "display_name": "Python 3"
    },
    "language_info": {
      "name": "python"
    }
  },
  "cells": [
    {
      "cell_type": "markdown",
      "metadata": {
        "id": "view-in-github",
        "colab_type": "text"
      },
      "source": [
        "<a href=\"https://colab.research.google.com/github/romerocruzsa/python-basic-training/blob/intermediate-uploads/PythonIntermediate_Part1.ipynb\" target=\"_parent\"><img src=\"https://colab.research.google.com/assets/colab-badge.svg\" alt=\"Open In Colab\"/></a>"
      ]
    },
    {
      "cell_type": "markdown",
      "source": [
        "Copyright 2020 Google LLC.\n",
        "\n",
        "*Changes made subject to discretion of revision author, Sebastián A. Cruz Romero*"
      ],
      "metadata": {
        "id": "VacbToADDZkW"
      }
    },
    {
      "cell_type": "code",
      "source": [
        "# Licensed under the Apache License, Version 2.0 (the \"License\");\n",
        "# you may not use this file except in compliance with the License.\n",
        "# You may obtain a copy of the License at\n",
        "#\n",
        "# https://www.apache.org/licenses/LICENSE-2.0\n",
        "#\n",
        "# Unless required by applicable law or agreed to in writing, software\n",
        "# distributed under the License is distributed on an \"AS IS\" BASIS,\n",
        "# WITHOUT WARRANTIES OR CONDITIONS OF ANY KIND, either express or implied.\n",
        "# See the License for the specific language governing permissions and\n",
        "# limitations under the License."
      ],
      "metadata": {
        "id": "L0TGNyDDDaSi"
      },
      "execution_count": 1,
      "outputs": []
    },
    {
      "cell_type": "markdown",
      "source": [
        "# Python Intermediate - Part 1"
      ],
      "metadata": {
        "id": "Ief-DfBf420S"
      }
    },
    {
      "cell_type": "markdown",
      "source": [
        "At this point in your Python journey, you should be familiar with the following concepts and when to use them.\n",
        "\n",
        "* Different Data Types:\n",
        "  * String\n",
        "  * Number(s)\n",
        "    * Integers\n",
        "    * Floating-points\n",
        "  * Booleans\n",
        "* Different Data Structures\n",
        "  * Lists\n",
        "  * Tuples\n",
        "  * Dictionaries\n",
        "* Printing\n",
        "* `for` and `while` Loops\n",
        "* `if`/`else` Statements\n",
        "* Functions\n",
        "\n",
        "We'll move into the more advanced concept of objects. You may have heard of object-oriented programming, especially in other languages. If not, don't worry. This will be a gentle introduction that will give you the skills you need to know in order to build your own objects in Python."
      ],
      "metadata": {
        "id": "blRqctBt5BLf"
      }
    },
    {
      "cell_type": "markdown",
      "source": [
        "### **This notebook will cover the following topics:**\n",
        "1. Object"
      ],
      "metadata": {
        "id": "CnaJiFdm5EKq"
      }
    },
    {
      "cell_type": "markdown",
      "source": [
        "## Objects"
      ],
      "metadata": {
        "id": "Wds5K7P96ool"
      }
    },
    {
      "cell_type": "markdown",
      "source": [
        "### Introduction"
      ],
      "metadata": {
        "id": "enJSEKz7-BXi"
      }
    },
    {
      "cell_type": "markdown",
      "source": [
        "It is likely that you have seen programs written in a procedural programming style. These programs consist of procedures (also called functions and methods) that operate on data passed to them.\n",
        "\n",
        "Imagine that you had a function `compute_paycheck` that computed the weekly paycheck for a worker. If you wanted to compute the paycheck of a given employee in a procedural style, you would pass the necessary data to compute the pay to the `compute_paycheck` function.\n",
        "\n",
        "```\n",
        "  employee_data = get_employee_data()\n",
        "  pay = compute_paycheck(employee_data)\n",
        "```\n",
        "\n",
        "Though you *could* write something like this in Python, it isn't necessarily idiomatic to the language. What this means is that Python tends to work better and look better when you use **object-oriented programming**.\n",
        "\n",
        "Python is an object-oriented language. This means that your program can be modeled as logical objects with methods built in to the object to operate on data.\n",
        "\n",
        "In an object-oriented programming style, you could encode each employee as its own object, and write a method called `compute_paycheck` which returns the weekly paycheck for a given employee. In that case, computing an employee's paycheck would look more like the following:\n",
        "\n",
        "```\n",
        "  employee_data = get_employee_data()\n",
        "  pay = employee_data.compute_paycheck()\n",
        "```\n",
        "\n",
        "In this case, `compute_paycheck` is a **method** that is bound to the returned argument `employee_data`, and can be called directly on this type.\n",
        "\n",
        "A method is just a function that is tied to an object. However, the terms \"function\" and \"method\" are often used interchangeably. See [here](https://stackoverflow.com/questions/155609/whats-the-difference-between-a-method-and-a-function) for a more in-depth discussion.\n",
        "\n",
        "Using object-oriented programming does not mean that you can't pass data to functions/methods. Imagine that the employee data only contained information like hourly wage and tax holdouts. In this case, `compute_paycheck` would need to know the number of hours worked in order to calculate the employee's pay.\n",
        "\n",
        "```\n",
        "  employee_data = get_employee_data()\n",
        "  hours_worked = get_hours_worked()\n",
        "  pay = employee_data.compute_paycheck(hours_worked)\n",
        "```\n",
        "\n",
        "In the example above, you can see the procedural and object-oriented styles mixed together in the same block. (The `hours_worked` variable is computed using the `get_hours_worked` function, and the employee_data variable is computed using the `get_employee_data` function.) However, even these variables could be computed in an object-oriented style. For example, `hours_worked` could come from an object representing the time clock, and `employee_data` could come from an object representing the HR system.\n",
        "\n",
        "```\n",
        "  employee_data = hr.get_employee_data()\n",
        "  hours_worked = timeclock.get_hours_worked()\n",
        "  employee_data.compute_pay(hours_worked)\n",
        "```"
      ],
      "metadata": {
        "id": "Jb4e-BCN627w"
      }
    },
    {
      "cell_type": "markdown",
      "source": [
        "In Python, everything is an object. The code below uses the inbuilt `isinstance` function to check if each item is an instance of an `object`."
      ],
      "metadata": {
        "id": "fPIVnnp469ec"
      }
    },
    {
      "cell_type": "code",
      "execution_count": 2,
      "metadata": {
        "colab": {
          "base_uri": "https://localhost:8080/"
        },
        "id": "ooZtHD0Q408j",
        "outputId": "1c5563f5-8cec-4b39-b3a4-166b286d2a14"
      },
      "outputs": [
        {
          "output_type": "stream",
          "name": "stdout",
          "text": [
            "Is <class 'int'> an object? True\n",
            "Is <class 'float'> an object? True\n",
            "Is <class 'str'> an object? True\n",
            "Is <class 'tuple'> an object? True\n",
            "Is <class 'list'> an object? True\n",
            "Is <class 'dict'> an object? True\n"
          ]
        }
      ],
      "source": [
        "for data in (\n",
        "  1,                         # integer\n",
        "  3.5,                       # float\n",
        "  \"Hello Python\",            # string\n",
        "  (1, \"funny\", \"tuple\"),     # tuple\n",
        "  [\"a\", \"list\"],             # list\n",
        "  {\"and\": \"a\", \"dict\": 2}    # dictionary\n",
        "  ):\n",
        "  print(\"Is {} an object? {}\".format(type(data), isinstance(data, object)))"
      ]
    },
    {
      "cell_type": "markdown",
      "source": [
        "You can create your own object using the `class` keyword."
      ],
      "metadata": {
        "id": "UVlIJ07m7RlQ"
      }
    },
    {
      "cell_type": "code",
      "source": [
        "class Cow:\n",
        "  pass"
      ],
      "metadata": {
        "id": "oFFgbZgh7Nct"
      },
      "execution_count": 3,
      "outputs": []
    },
    {
      "cell_type": "markdown",
      "source": [
        "Why did we use the keyword `class` and not `object`? You can think of the class as a template for the object, and the object itself as an instance of the class. To create an object from a class, you use parentheses to instantiate the class."
      ],
      "metadata": {
        "id": "Vawjuvwy70Gj"
      }
    },
    {
      "cell_type": "code",
      "source": [
        "# Create an instance of Cow called elsie\n",
        "elsie = Cow()\n",
        "\n",
        "# Create an instance of Cow called annabelle\n",
        "annabelle = Cow()\n",
        "\n",
        "print(Cow)\n",
        "print(elsie)\n",
        "print(annabelle)"
      ],
      "metadata": {
        "colab": {
          "base_uri": "https://localhost:8080/"
        },
        "id": "NHlQpvKU7ogE",
        "outputId": "95395aa8-b7bf-46b7-d7c4-acef1c41fb96"
      },
      "execution_count": 4,
      "outputs": [
        {
          "output_type": "stream",
          "name": "stdout",
          "text": [
            "<class '__main__.Cow'>\n",
            "<__main__.Cow object at 0x7c0629145f60>\n",
            "<__main__.Cow object at 0x7c0629145600>\n"
          ]
        }
      ]
    },
    {
      "cell_type": "markdown",
      "source": [
        "Notice that `Cow` is a `class` and that `elsie` and `annabelle` are Cow objects. The text following `at` indicates where in memory these objects are stored. You might have to look closely, but `elsie` and `annabelle` are located at different locations in memory."
      ],
      "metadata": {
        "id": "Ub4ylvNr8MgO"
      }
    },
    {
      "cell_type": "markdown",
      "source": [
        "Adding methods to a class is easy. You simply create a function, but have it indented so that it is inside the class."
      ],
      "metadata": {
        "id": "p_x1Qbtq7nnY"
      }
    },
    {
      "cell_type": "code",
      "source": [
        "class Cow:\n",
        "  def talk():\n",
        "    print(\"Moooo\")"
      ],
      "metadata": {
        "id": "Itbifo0x8HIh"
      },
      "execution_count": 5,
      "outputs": []
    },
    {
      "cell_type": "markdown",
      "source": [
        "You can then call the method directly on the class."
      ],
      "metadata": {
        "id": "VZpHIglR7t9H"
      }
    },
    {
      "cell_type": "code",
      "source": [
        "Cow.talk()"
      ],
      "metadata": {
        "colab": {
          "base_uri": "https://localhost:8080/"
        },
        "id": "8eRl5-tI7vI-",
        "outputId": "fe9252e7-b28b-4acc-b163-f2985efe21f3"
      },
      "execution_count": 6,
      "outputs": [
        {
          "output_type": "stream",
          "name": "stdout",
          "text": [
            "Moooo\n"
          ]
        }
      ]
    },
    {
      "cell_type": "markdown",
      "source": [
        "While you can call `talk()` on the `Cow` class, you can't actually call `talk()` on any instances of `Cow`, such as `elsie` and `annabelle`."
      ],
      "metadata": {
        "id": "gJBN7u5T_hVZ"
      }
    },
    {
      "cell_type": "markdown",
      "source": [
        "In order to make Elsie and Annabelle talk, we need to pass the `self` keyword to the `talk` method. In general, all object functions should pass **`self`** as the first parameter."
      ],
      "metadata": {
        "id": "I5aapsAv8230"
      }
    },
    {
      "cell_type": "markdown",
      "source": [
        "Let's modify the `Cow` class to make `talk` an object (also known as instance) function instead of a class function."
      ],
      "metadata": {
        "id": "-ZP7qeeB87bb"
      }
    },
    {
      "cell_type": "code",
      "source": [
        "class Cow:\n",
        "  def talk(self):\n",
        "    print(\"Moooo\")\n",
        "\n",
        "elsie = Cow()\n",
        "elsie.talk()"
      ],
      "metadata": {
        "colab": {
          "base_uri": "https://localhost:8080/"
        },
        "id": "r7czhQZI8x0G",
        "outputId": "ff74ad6a-4296-4a7e-805d-7a0b28563d21"
      },
      "execution_count": 7,
      "outputs": [
        {
          "output_type": "stream",
          "name": "stdout",
          "text": [
            "Moooo\n"
          ]
        }
      ]
    },
    {
      "cell_type": "markdown",
      "source": [
        "Now `talk` can be called on objects of type `Cow`, but not on the `Cow` class itself."
      ],
      "metadata": {
        "id": "7EQO11ZH9AIy"
      }
    },
    {
      "cell_type": "markdown",
      "source": [
        "You can add as many methods as you want to a class."
      ],
      "metadata": {
        "id": "fYjMc3gn9IqQ"
      }
    },
    {
      "cell_type": "code",
      "source": [
        "class Cow:\n",
        "  def talk(self):\n",
        "    print(\"Moooo\")\n",
        "\n",
        "  def eat(self):\n",
        "    print(\"Munch... Munch... Munch...\")\n",
        "\n",
        "elsie = Cow()\n",
        "elsie.eat()\n",
        "elsie.talk()"
      ],
      "metadata": {
        "colab": {
          "base_uri": "https://localhost:8080/"
        },
        "id": "OZUylP5y8_Bo",
        "outputId": "b0b7476a-b55b-4140-a227-e9125c3d694e"
      },
      "execution_count": 8,
      "outputs": [
        {
          "output_type": "stream",
          "name": "stdout",
          "text": [
            "Munch... Munch... Munch...\n",
            "Moooo\n"
          ]
        }
      ]
    },
    {
      "cell_type": "markdown",
      "source": [
        "### Initialization"
      ],
      "metadata": {
        "id": "AS2IjmXQ9PpL"
      }
    },
    {
      "cell_type": "markdown",
      "source": [
        "There are special functions that you can define in a class. These functions do things like initialize an object, convert an object to a string, determine the length of an object, and more.\n",
        "\n",
        "These special functions all start and end with double-underscores. The most common of these is `__init__`. `__init__` initializes the class. Let's add an initializer to our `Cow` class."
      ],
      "metadata": {
        "id": "wF1F7G38-s29"
      }
    },
    {
      "cell_type": "code",
      "source": [
        "class Cow:\n",
        "  def __init__(self, name):\n",
        "    self.__name = name\n",
        "\n",
        "  def talk(self):\n",
        "    print(\"{} says Moooo\".format(self.__name))\n",
        "\n",
        "annie = Cow(\"Annabelle\")\n",
        "annie.talk()\n",
        "\n",
        "elly = Cow(\"Elsie\")\n",
        "elly.talk()"
      ],
      "metadata": {
        "colab": {
          "base_uri": "https://localhost:8080/"
        },
        "id": "hRUnjR3J9OVf",
        "outputId": "3c85c459-8d77-478d-cfa2-9b3f511d145c"
      },
      "execution_count": 9,
      "outputs": [
        {
          "output_type": "stream",
          "name": "stdout",
          "text": [
            "Annabelle says Moooo\n",
            "Elsie says Moooo\n"
          ]
        }
      ]
    },
    {
      "cell_type": "markdown",
      "source": [
        "There are a few new concepts in the code above.\n",
        "\n",
        "1. `__init__`\n",
        "\n",
        "You can see that `__init__` is passed the object itself, commonly referred to as **self**.\n",
        "\n",
        "`__init__` can also accept any number of other arguments. In this case, we want the name of the cow. We save that name in the object (represented by `self`), and also use it in the `talk` method.\n",
        "\n",
        "2. `__name`\n",
        "Notice that the instance variable `__name` has two underscores before it. This naming is a way to tell Python to hide the variable from the rest of the program, so that it is only accessible to other methods within the object. This data hiding provides [encapsulation](https://en.wikipedia.org/wiki/Encapsulation_(computer_programming) which is an important concept in object-oriented programming.\n",
        "\n",
        "Had `__name` been called `name` or `_name` (single-underscore), it would not be hidden, and could then be accessed on the object (eg. `annie.name`).\n",
        "\n",
        "There are many different double-underscore (dunder) methods. They are all documented in the [official Python documentation](https://docs.python.org/3/reference/datamodel.html#special-method-names)."
      ],
      "metadata": {
        "id": "nicq64EM9XQk"
      }
    },
    {
      "cell_type": "markdown",
      "source": [
        "### Inheritance"
      ],
      "metadata": {
        "id": "50Gx0NY5_6zW"
      }
    },
    {
      "cell_type": "markdown",
      "source": [
        "\n",
        "Python objects are able to inherit functionality from other Python objects. Let's look at an example."
      ],
      "metadata": {
        "id": "Cj1cV-udAKy2"
      }
    },
    {
      "cell_type": "code",
      "source": [
        "class Animal:\n",
        "  def talk(self):\n",
        "    print(\"...\")  # The sound of silence\n",
        "\n",
        "  def eat(self):\n",
        "    print(\"Munch... Munch... Munch...\")\n",
        "\n",
        "class Cow(Animal):\n",
        "  def talk(self):\n",
        "    print(\"Moooo\")\n",
        "\n",
        "class Worm(Animal):\n",
        "  pass\n",
        "\n",
        "cow = Cow()\n",
        "worm = Worm()\n",
        "\n",
        "cow.talk()\n",
        "cow.eat()\n",
        "worm.talk()\n",
        "worm.eat()"
      ],
      "metadata": {
        "colab": {
          "base_uri": "https://localhost:8080/"
        },
        "id": "IpvwrTMVAHRU",
        "outputId": "e0c2b840-9c67-4aa3-b835-9298e0da9b34"
      },
      "execution_count": 10,
      "outputs": [
        {
          "output_type": "stream",
          "name": "stdout",
          "text": [
            "Moooo\n",
            "Munch... Munch... Munch...\n",
            "...\n",
            "Munch... Munch... Munch...\n"
          ]
        }
      ]
    },
    {
      "cell_type": "markdown",
      "source": [
        "In the code above, we create an `Animal` class that has a generic implementation of the `talk` and `eat` functions that we created earlier. We then create a `Cow` object that implements its own `talk` function but relies on the `Animal`'s `eat` function. We also create a `Worm` class that fully relies on `Animal` to provide `talk` and `eat` functions.\n",
        "\n",
        "The reason this is so useful is that we can scaffold classes to inherit base features. For example, we might want different base classes `Plant` and `Animal` that represent generic plants and animals respectively. Then, we could create different plants such as `Cactus` and `Sunflower` inheriting from the `Plant` class, and different animals such as `Cow` and `Worm`."
      ],
      "metadata": {
        "id": "Oky6G4gyASyH"
      }
    },
    {
      "cell_type": "markdown",
      "source": [
        "Python also supports multiple inheritance and many layers of inheritance. In the code below, `move` and `eat` are methods of the base class `Animal`, which are then inherited by different types of animals."
      ],
      "metadata": {
        "id": "QgzGOqx9A0U3"
      }
    },
    {
      "cell_type": "code",
      "source": [
        "class Animal:\n",
        "  def move(self):\n",
        "    pass\n",
        "\n",
        "  def eat(self):\n",
        "    pass\n",
        "\n",
        "class Legless(Animal):\n",
        "  def move(self):\n",
        "    print(\"Wriggle wriggle\")\n",
        "\n",
        "class Legged(Animal):\n",
        "  def move(self):\n",
        "    print(\"Trot trot trot\")\n",
        "\n",
        "class Toothless(Animal):\n",
        "  def eat(self):\n",
        "    print(\"Slurp\")\n",
        "\n",
        "class Toothed(Animal):\n",
        "  def eat(self):\n",
        "    print(\"Chomp\")\n",
        "\n",
        "class Worm(Legless, Toothless):\n",
        "  pass\n",
        "\n",
        "class Cow(Legged, Toothed):\n",
        "  pass\n",
        "\n",
        "class Rock:\n",
        "  pass\n",
        "\n",
        "def live(animal):\n",
        "  if isinstance(animal, Animal):\n",
        "    animal.move()\n",
        "    animal.eat()\n",
        "\n",
        "w = Worm()\n",
        "c = Cow()\n",
        "r = Rock()\n",
        "\n",
        "print(\"The worm goes...\")\n",
        "live(w)\n",
        "\n",
        "print(\"The cow goes...\")\n",
        "live(c)\n",
        "\n",
        "print(\"The rock goes...\")\n",
        "live(r)"
      ],
      "metadata": {
        "colab": {
          "base_uri": "https://localhost:8080/"
        },
        "id": "iBLDj5ED9R96",
        "outputId": "3b67d5c5-0d27-4d64-eb37-756a62d6ad7c"
      },
      "execution_count": 11,
      "outputs": [
        {
          "output_type": "stream",
          "name": "stdout",
          "text": [
            "The worm goes...\n",
            "Wriggle wriggle\n",
            "Slurp\n",
            "The cow goes...\n",
            "Trot trot trot\n",
            "Chomp\n",
            "The rock goes...\n"
          ]
        }
      ]
    },
    {
      "cell_type": "markdown",
      "source": [
        "## Practice Exercises"
      ],
      "metadata": {
        "id": "qgMKJjjWCMSi"
      }
    },
    {
      "cell_type": "markdown",
      "source": [
        "#### **Exercise 1**"
      ],
      "metadata": {
        "id": "03_8SGf6D3wd"
      }
    },
    {
      "cell_type": "markdown",
      "source": [
        "In the code block below, create a `Cow` class that has an `__init__` method that accepts a name and breed so that a cow can be created like:\n",
        "\n",
        "```\n",
        "  elsie = Cow(\"Elsie\", \"Jersey\")\n",
        "```\n",
        "\n",
        "Name the class variables **name** and **breed**.\n",
        "\n",
        "Make sure that if the name and breed of cow passed to the constructor are changed, the values stored in the instance variables reflect the different names. In other words, don't hard-code \"Elsie\" and \"Jersey\"."
      ],
      "metadata": {
        "id": "MBtQHwxgD6JS"
      }
    },
    {
      "cell_type": "markdown",
      "source": [
        "**Student Solution**"
      ],
      "metadata": {
        "id": "D_KN-PWRD7rG"
      }
    },
    {
      "cell_type": "code",
      "source": [
        "# Your code goes here\n",
        "class Cow:\n",
        "  pass"
      ],
      "metadata": {
        "id": "PuKYkgAxEAKu"
      },
      "execution_count": 12,
      "outputs": []
    },
    {
      "cell_type": "markdown",
      "source": [
        "#### **Exercise 2**"
      ],
      "metadata": {
        "id": "TkhV5oVxCOOm"
      }
    },
    {
      "cell_type": "markdown",
      "source": [
        "Take the Cow class that you implemented in exercise one, and add a double-underscore method so that if you create a cow using:\n",
        "\n",
        "```\n",
        "  cow = Cow(\"Elsie\", \"Shorthorn\")\n",
        "```\n",
        "Calling `print(cow)` prints:\n",
        "> Elsie is a Shorthorn cow.\n",
        "\n",
        "*Hint: you may want to look through the [Python documentation on special method names](https://docs.python.org/3/reference/datamodel.html#special-method-names) to find the dunder method that dictates a string representation of the object.*"
      ],
      "metadata": {
        "id": "gPk-eFyzCWLa"
      }
    },
    {
      "cell_type": "markdown",
      "source": [
        "**Student Solution**"
      ],
      "metadata": {
        "id": "BbARTQozCwQ1"
      }
    },
    {
      "cell_type": "code",
      "source": [
        "# Your code goes here\n",
        "class Cow:\n",
        "  pass"
      ],
      "metadata": {
        "id": "ElCLJhFUCoKg"
      },
      "execution_count": 13,
      "outputs": []
    },
    {
      "cell_type": "markdown",
      "source": [
        "#### **Exercise 3**"
      ],
      "metadata": {
        "id": "ZhOKmQtHCWOT"
      }
    },
    {
      "cell_type": "markdown",
      "source": [
        "Take the `Cow` class that you implemented in exercise two (or one), and add a double-underscore method so that `print(repr(elsie))` prints:\n",
        "> Cow(\"Elsie\", \"Jersey\")"
      ],
      "metadata": {
        "id": "CwxDsiqBCvg1"
      }
    },
    {
      "cell_type": "markdown",
      "source": [
        "**Student Solution**"
      ],
      "metadata": {
        "id": "tZ0BRlXdCyWg"
      }
    },
    {
      "cell_type": "code",
      "source": [
        "# Your code goes here\n",
        "class Cow:\n",
        "  pass"
      ],
      "metadata": {
        "id": "CDwDcD8OCfhI"
      },
      "execution_count": 14,
      "outputs": []
    },
    {
      "cell_type": "markdown",
      "source": [
        "#### **Exercise 4**"
      ],
      "metadata": {
        "id": "L_JBf3TlERSY"
      }
    },
    {
      "cell_type": "markdown",
      "source": [
        "Fix the Car class in the code inheritance below so that \"Vroom!\" is printed."
      ],
      "metadata": {
        "id": "X0wFYEyJEV1X"
      }
    },
    {
      "cell_type": "markdown",
      "source": [
        "**Student Solution**"
      ],
      "metadata": {
        "id": "FhSJIV_yEYOy"
      }
    },
    {
      "cell_type": "code",
      "source": [
        "\n",
        "# Your code goes here\n",
        "class Vehicle:\n",
        "  pass\n",
        "\n",
        "class Car(Vehicle):\n",
        "  pass\n",
        "\n",
        "# No changes below here!\n",
        "car = Car()\n",
        "if isinstance(car, Vehicle):\n",
        "  car.go()"
      ],
      "metadata": {
        "id": "5dwezx6TETiM",
        "colab": {
          "base_uri": "https://localhost:8080/",
          "height": 173
        },
        "outputId": "b3d78063-cc72-4a4b-dc3b-a32fae08023f"
      },
      "execution_count": 15,
      "outputs": [
        {
          "output_type": "error",
          "ename": "AttributeError",
          "evalue": "'Car' object has no attribute 'go'",
          "traceback": [
            "\u001b[0;31m---------------------------------------------------------------------------\u001b[0m",
            "\u001b[0;31mAttributeError\u001b[0m                            Traceback (most recent call last)",
            "\u001b[0;32m<ipython-input-15-099e65eb289b>\u001b[0m in \u001b[0;36m<cell line: 10>\u001b[0;34m()\u001b[0m\n\u001b[1;32m      9\u001b[0m \u001b[0mcar\u001b[0m \u001b[0;34m=\u001b[0m \u001b[0mCar\u001b[0m\u001b[0;34m(\u001b[0m\u001b[0;34m)\u001b[0m\u001b[0;34m\u001b[0m\u001b[0;34m\u001b[0m\u001b[0m\n\u001b[1;32m     10\u001b[0m \u001b[0;32mif\u001b[0m \u001b[0misinstance\u001b[0m\u001b[0;34m(\u001b[0m\u001b[0mcar\u001b[0m\u001b[0;34m,\u001b[0m \u001b[0mVehicle\u001b[0m\u001b[0;34m)\u001b[0m\u001b[0;34m:\u001b[0m\u001b[0;34m\u001b[0m\u001b[0;34m\u001b[0m\u001b[0m\n\u001b[0;32m---> 11\u001b[0;31m   \u001b[0mcar\u001b[0m\u001b[0;34m.\u001b[0m\u001b[0mgo\u001b[0m\u001b[0;34m(\u001b[0m\u001b[0;34m)\u001b[0m\u001b[0;34m\u001b[0m\u001b[0;34m\u001b[0m\u001b[0m\n\u001b[0m",
            "\u001b[0;31mAttributeError\u001b[0m: 'Car' object has no attribute 'go'"
          ]
        }
      ]
    }
  ]
}