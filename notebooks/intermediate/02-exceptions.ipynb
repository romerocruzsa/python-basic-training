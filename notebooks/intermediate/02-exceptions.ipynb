{
  "nbformat": 4,
  "nbformat_minor": 0,
  "metadata": {
    "colab": {
      "provenance": [],
      "authorship_tag": "ABX9TyMzodbBXtC1ZWt0xdVjTeKu",
      "include_colab_link": true
    },
    "kernelspec": {
      "name": "python3",
      "display_name": "Python 3"
    },
    "language_info": {
      "name": "python"
    }
  },
  "cells": [
    {
      "cell_type": "markdown",
      "metadata": {
        "id": "view-in-github",
        "colab_type": "text"
      },
      "source": [
        "<a href=\"https://colab.research.google.com/github/romerocruzsa/python-basic-training/blob/intermediate-uploads/PythonIntermediate_Part2.ipynb\" target=\"_parent\"><img src=\"https://colab.research.google.com/assets/colab-badge.svg\" alt=\"Open In Colab\"/></a>"
      ]
    },
    {
      "cell_type": "markdown",
      "source": [
        "Copyright 2020 Google LLC.\n",
        "\n",
        "*Changes made subject to discretion of revision author, Sebastián A. Cruz Romero*"
      ],
      "metadata": {
        "id": "VacbToADDZkW"
      }
    },
    {
      "cell_type": "code",
      "source": [
        "# Licensed under the Apache License, Version 2.0 (the \"License\");\n",
        "# you may not use this file except in compliance with the License.\n",
        "# You may obtain a copy of the License at\n",
        "#\n",
        "# https://www.apache.org/licenses/LICENSE-2.0\n",
        "#\n",
        "# Unless required by applicable law or agreed to in writing, software\n",
        "# distributed under the License is distributed on an \"AS IS\" BASIS,\n",
        "# WITHOUT WARRANTIES OR CONDITIONS OF ANY KIND, either express or implied.\n",
        "# See the License for the specific language governing permissions and\n",
        "# limitations under the License."
      ],
      "metadata": {
        "id": "L0TGNyDDDaSi"
      },
      "execution_count": 11,
      "outputs": []
    },
    {
      "cell_type": "markdown",
      "source": [
        "# Python Intermediate - Part 2"
      ],
      "metadata": {
        "id": "Ief-DfBf420S"
      }
    },
    {
      "cell_type": "markdown",
      "source": [
        "### **This notebook will cover the following topics:**\n",
        "1. Exceptions"
      ],
      "metadata": {
        "id": "CnaJiFdm5EKq"
      }
    },
    {
      "cell_type": "markdown",
      "source": [
        "## Exceptions"
      ],
      "metadata": {
        "id": "Wds5K7P96ool"
      }
    },
    {
      "cell_type": "markdown",
      "source": [
        "Inevitably in any coding language, things will go wrong. Data might be of the wrong type, memory might run out, an object that you try to iterate on might be non-iterable, the list goes on and on.\n",
        "\n",
        "Exceptions are a way to handle these cases, and tell you where you went wrong. Below is an example of an exception when you try to divide by zero."
      ],
      "metadata": {
        "id": "Jb4e-BCN627w"
      }
    },
    {
      "cell_type": "code",
      "execution_count": 12,
      "metadata": {
        "colab": {
          "base_uri": "https://localhost:8080/",
          "height": 139
        },
        "id": "ooZtHD0Q408j",
        "outputId": "d8f4f74b-4a77-477b-a2fd-9f346b493a46"
      },
      "outputs": [
        {
          "output_type": "error",
          "ename": "ZeroDivisionError",
          "evalue": "division by zero",
          "traceback": [
            "\u001b[0;31m---------------------------------------------------------------------------\u001b[0m",
            "\u001b[0;31mZeroDivisionError\u001b[0m                         Traceback (most recent call last)",
            "\u001b[0;32m<ipython-input-12-bc757c3fda29>\u001b[0m in \u001b[0;36m<cell line: 1>\u001b[0;34m()\u001b[0m\n\u001b[0;32m----> 1\u001b[0;31m \u001b[0;36m1\u001b[0m \u001b[0;34m/\u001b[0m \u001b[0;36m0\u001b[0m\u001b[0;34m\u001b[0m\u001b[0;34m\u001b[0m\u001b[0m\n\u001b[0m",
            "\u001b[0;31mZeroDivisionError\u001b[0m: division by zero"
          ]
        }
      ],
      "source": [
        "1 / 0"
      ]
    },
    {
      "cell_type": "markdown",
      "source": [
        "Dividing by zero is undefined in mathematics. Whenever you try to divide by zero in Python, you will get the `ZeroDivisionError` exception.\n",
        "\n",
        "In practice, you'd likely never hard-code a zero as a denominator. However, you might have two computed variables that you want to calculate the ratio of."
      ],
      "metadata": {
        "id": "UVlIJ07m7RlQ"
      }
    },
    {
      "cell_type": "code",
      "source": [
        "my_array = [2, 3, 4]\n",
        "your_array = []\n",
        "\n",
        "ratio = len(my_array) / len(your_array)"
      ],
      "metadata": {
        "id": "oFFgbZgh7Nct",
        "colab": {
          "base_uri": "https://localhost:8080/",
          "height": 173
        },
        "outputId": "d12eecd6-56a7-46fa-90dd-828718731d5e"
      },
      "execution_count": 13,
      "outputs": [
        {
          "output_type": "error",
          "ename": "ZeroDivisionError",
          "evalue": "division by zero",
          "traceback": [
            "\u001b[0;31m---------------------------------------------------------------------------\u001b[0m",
            "\u001b[0;31mZeroDivisionError\u001b[0m                         Traceback (most recent call last)",
            "\u001b[0;32m<ipython-input-13-e3d1c81be99c>\u001b[0m in \u001b[0;36m<cell line: 4>\u001b[0;34m()\u001b[0m\n\u001b[1;32m      2\u001b[0m \u001b[0myour_array\u001b[0m \u001b[0;34m=\u001b[0m \u001b[0;34m[\u001b[0m\u001b[0;34m]\u001b[0m\u001b[0;34m\u001b[0m\u001b[0;34m\u001b[0m\u001b[0m\n\u001b[1;32m      3\u001b[0m \u001b[0;34m\u001b[0m\u001b[0m\n\u001b[0;32m----> 4\u001b[0;31m \u001b[0mratio\u001b[0m \u001b[0;34m=\u001b[0m \u001b[0mlen\u001b[0m\u001b[0;34m(\u001b[0m\u001b[0mmy_array\u001b[0m\u001b[0;34m)\u001b[0m \u001b[0;34m/\u001b[0m \u001b[0mlen\u001b[0m\u001b[0;34m(\u001b[0m\u001b[0myour_array\u001b[0m\u001b[0;34m)\u001b[0m\u001b[0;34m\u001b[0m\u001b[0;34m\u001b[0m\u001b[0m\n\u001b[0m",
            "\u001b[0;31mZeroDivisionError\u001b[0m: division by zero"
          ]
        }
      ]
    },
    {
      "cell_type": "markdown",
      "source": [
        "There are a few ways to handle this scenario. One is defensive programming, where you check `if` the denominator is zero using an if statement. When you change the number of entries in `your_array`, you will see the output of the cell change."
      ],
      "metadata": {
        "id": "Vawjuvwy70Gj"
      }
    },
    {
      "cell_type": "code",
      "source": [
        "my_array = [2, 3, 4]\n",
        "your_array = []\n",
        "\n",
        "ratio = 0\n",
        "if len(your_array) != 0:\n",
        "  ratio = len(my_array) / len(your_array)\n",
        "else:\n",
        "  print(\"Couldn't calculate ratio, denominator is zero\")"
      ],
      "metadata": {
        "colab": {
          "base_uri": "https://localhost:8080/"
        },
        "id": "NHlQpvKU7ogE",
        "outputId": "d584a906-9b78-4305-e4d0-215747205210"
      },
      "execution_count": 14,
      "outputs": [
        {
          "output_type": "stream",
          "name": "stdout",
          "text": [
            "Couldn't calculate ratio, denominator is zero\n"
          ]
        }
      ]
    },
    {
      "cell_type": "markdown",
      "source": [
        "Another option is to allow an exception to be thrown, but then catch the exception. You can do this using the `try` keyword, which tries to complete any code within the block, unless an exception matching the `except` keyword is thrown."
      ],
      "metadata": {
        "id": "Ub4ylvNr8MgO"
      }
    },
    {
      "cell_type": "code",
      "source": [
        "my_array = [2, 3, 4]\n",
        "your_array = []\n",
        "\n",
        "ratio = 0\n",
        "try:\n",
        "  ratio = len(my_array) / len(your_array)\n",
        "except ZeroDivisionError:\n",
        "  print(\"Couldn't calculate ratio, denominator is zero\")"
      ],
      "metadata": {
        "id": "Itbifo0x8HIh",
        "colab": {
          "base_uri": "https://localhost:8080/"
        },
        "outputId": "9ff11586-b4cc-4444-9038-55ac1f26db57"
      },
      "execution_count": 15,
      "outputs": [
        {
          "output_type": "stream",
          "name": "stdout",
          "text": [
            "Couldn't calculate ratio, denominator is zero\n"
          ]
        }
      ]
    },
    {
      "cell_type": "markdown",
      "source": [
        "In the example above we caught the `ZeroDivisionError`. This code block could have been written to catch any exception by leaving out the error name."
      ],
      "metadata": {
        "id": "VZpHIglR7t9H"
      }
    },
    {
      "cell_type": "code",
      "source": [
        "My_array = [2, 3, 4]\n",
        "your_array = []\n",
        "\n",
        "ratio = 0\n",
        "try:\n",
        "  ratio = len(my_array) / len(your_array)\n",
        "except:\n",
        "  print(\"Couldn't calculate ratio, some error occurred\")"
      ],
      "metadata": {
        "colab": {
          "base_uri": "https://localhost:8080/"
        },
        "id": "8eRl5-tI7vI-",
        "outputId": "05a70a5a-e6d4-4a73-9ac8-46297477c48c"
      },
      "execution_count": 16,
      "outputs": [
        {
          "output_type": "stream",
          "name": "stdout",
          "text": [
            "Couldn't calculate ratio, some error occurred\n"
          ]
        }
      ]
    },
    {
      "cell_type": "markdown",
      "source": [
        "Catching every possible exception in the `except` block is easy, but can be problematic because you can hide bigger problems in your program. Typically it is best to catch and handle specific errors only.\n",
        "\n",
        "If an exception is thrown and not handled with an `except`, it terminates your program. In some cases, this is what you want to happen. For instance, if the program is out of memory, there isn't much you can do at the moment to handle the problem.\n",
        "\n",
        "There are varying opinions on whether it is better practice to prevent or handle exceptions. In the example above, is it best to check if a value is zero before dividing by it, or is it best to wrap division in a `try/except` block?\n",
        "\n",
        "In general, using exceptions for control flow is probably not a good idea. As the name suggests, exceptions should be used for \"exceptional\" cases - things that you don't expect.\n",
        "\n",
        "Let's look at some other common exceptions you'll see."
      ],
      "metadata": {
        "id": "gJBN7u5T_hVZ"
      }
    },
    {
      "cell_type": "markdown",
      "source": [
        "You'll get a `KeyError` if you try to access an element in a dictionary with square braces and the key doesn't exist."
      ],
      "metadata": {
        "id": "I5aapsAv8230"
      }
    },
    {
      "cell_type": "markdown",
      "source": [
        "Let's modify the `Cow` class to make `talk` an object (also known as instance) function instead of a class function."
      ],
      "metadata": {
        "id": "-ZP7qeeB87bb"
      }
    },
    {
      "cell_type": "code",
      "source": [
        "my_dict = {\n",
        "  \"a\": 1234\n",
        "}\n",
        "\n",
        "my_dict[\"b\"]"
      ],
      "metadata": {
        "colab": {
          "base_uri": "https://localhost:8080/",
          "height": 173
        },
        "id": "r7czhQZI8x0G",
        "outputId": "5aafe398-bcc7-43d5-8cf2-e889cf24b374"
      },
      "execution_count": 17,
      "outputs": [
        {
          "output_type": "error",
          "ename": "KeyError",
          "evalue": "'b'",
          "traceback": [
            "\u001b[0;31m---------------------------------------------------------------------------\u001b[0m",
            "\u001b[0;31mKeyError\u001b[0m                                  Traceback (most recent call last)",
            "\u001b[0;32m<ipython-input-17-5a50788346c6>\u001b[0m in \u001b[0;36m<cell line: 5>\u001b[0;34m()\u001b[0m\n\u001b[1;32m      3\u001b[0m }\n\u001b[1;32m      4\u001b[0m \u001b[0;34m\u001b[0m\u001b[0m\n\u001b[0;32m----> 5\u001b[0;31m \u001b[0mmy_dict\u001b[0m\u001b[0;34m[\u001b[0m\u001b[0;34m\"b\"\u001b[0m\u001b[0;34m]\u001b[0m\u001b[0;34m\u001b[0m\u001b[0;34m\u001b[0m\u001b[0m\n\u001b[0m",
            "\u001b[0;31mKeyError\u001b[0m: 'b'"
          ]
        }
      ]
    },
    {
      "cell_type": "markdown",
      "source": [
        "You'll get an `IndexError` if you try to access an index in a string, list, or tuple and that index doesn't exist."
      ],
      "metadata": {
        "id": "7EQO11ZH9AIy"
      }
    },
    {
      "cell_type": "code",
      "source": [
        "my_array = [1, 2, 3, 4]\n",
        "my_array[56]"
      ],
      "metadata": {
        "colab": {
          "base_uri": "https://localhost:8080/",
          "height": 156
        },
        "id": "OZUylP5y8_Bo",
        "outputId": "7691c5cb-c843-4e68-fe8d-a94a292eb4df"
      },
      "execution_count": 18,
      "outputs": [
        {
          "output_type": "error",
          "ename": "IndexError",
          "evalue": "list index out of range",
          "traceback": [
            "\u001b[0;31m---------------------------------------------------------------------------\u001b[0m",
            "\u001b[0;31mIndexError\u001b[0m                                Traceback (most recent call last)",
            "\u001b[0;32m<ipython-input-18-c4a734692bde>\u001b[0m in \u001b[0;36m<cell line: 2>\u001b[0;34m()\u001b[0m\n\u001b[1;32m      1\u001b[0m \u001b[0mmy_array\u001b[0m \u001b[0;34m=\u001b[0m \u001b[0;34m[\u001b[0m\u001b[0;36m1\u001b[0m\u001b[0;34m,\u001b[0m \u001b[0;36m2\u001b[0m\u001b[0;34m,\u001b[0m \u001b[0;36m3\u001b[0m\u001b[0;34m,\u001b[0m \u001b[0;36m4\u001b[0m\u001b[0;34m]\u001b[0m\u001b[0;34m\u001b[0m\u001b[0;34m\u001b[0m\u001b[0m\n\u001b[0;32m----> 2\u001b[0;31m \u001b[0mmy_array\u001b[0m\u001b[0;34m[\u001b[0m\u001b[0;36m56\u001b[0m\u001b[0;34m]\u001b[0m\u001b[0;34m\u001b[0m\u001b[0;34m\u001b[0m\u001b[0m\n\u001b[0m",
            "\u001b[0;31mIndexError\u001b[0m: list index out of range"
          ]
        }
      ]
    },
    {
      "cell_type": "markdown",
      "source": [
        "The comprehensive list of built-in exceptions can be found in the [official Python documentation](https://docs.python.org/3/library/exceptions.html). Built-in in exceptions are core exceptions provided by Python."
      ],
      "metadata": {
        "id": "wF1F7G38-s29"
      }
    },
    {
      "cell_type": "markdown",
      "source": [
        "**Creating Your Own Exceptions**\n",
        "\n",
        "To create your own error, you simply need to create a class that inherits from the built-in Exception class and then raise an instance of that class."
      ],
      "metadata": {
        "id": "3PA_fVT5E-GM"
      }
    },
    {
      "cell_type": "code",
      "source": [
        "class MyVeryOwnError(Exception):\n",
        "  pass\n",
        "\n",
        "raise MyVeryOwnError"
      ],
      "metadata": {
        "colab": {
          "base_uri": "https://localhost:8080/",
          "height": 173
        },
        "id": "hRUnjR3J9OVf",
        "outputId": "5d8d9d37-b04b-4efc-b3e8-1dbd9111097d"
      },
      "execution_count": 19,
      "outputs": [
        {
          "output_type": "error",
          "ename": "MyVeryOwnError",
          "evalue": "",
          "traceback": [
            "\u001b[0;31m---------------------------------------------------------------------------\u001b[0m",
            "\u001b[0;31mMyVeryOwnError\u001b[0m                            Traceback (most recent call last)",
            "\u001b[0;32m<ipython-input-19-1159e4800393>\u001b[0m in \u001b[0;36m<cell line: 4>\u001b[0;34m()\u001b[0m\n\u001b[1;32m      2\u001b[0m   \u001b[0;32mpass\u001b[0m\u001b[0;34m\u001b[0m\u001b[0;34m\u001b[0m\u001b[0m\n\u001b[1;32m      3\u001b[0m \u001b[0;34m\u001b[0m\u001b[0m\n\u001b[0;32m----> 4\u001b[0;31m \u001b[0;32mraise\u001b[0m \u001b[0mMyVeryOwnError\u001b[0m\u001b[0;34m\u001b[0m\u001b[0;34m\u001b[0m\u001b[0m\n\u001b[0m",
            "\u001b[0;31mMyVeryOwnError\u001b[0m: "
          ]
        }
      ]
    },
    {
      "cell_type": "markdown",
      "source": [
        "You can then use your error just like any system error. The custom exception is raised in `my_func` if the input is zero. When you change the value of the input to `my_func` in the `try` block, it changes whether the exception is thrown."
      ],
      "metadata": {
        "id": "nicq64EM9XQk"
      }
    },
    {
      "cell_type": "code",
      "source": [
        "class MyVeryOwnError(Exception):\n",
        "  pass\n",
        "\n",
        "def my_func(x):\n",
        "  if x == 0:\n",
        "    raise MyVeryOwnError\n",
        "  else:\n",
        "    return x\n",
        "\n",
        "try:\n",
        "  print(my_func(0))\n",
        "except MyVeryOwnError:\n",
        "  print(\"Handling my custom exception\")"
      ],
      "metadata": {
        "colab": {
          "base_uri": "https://localhost:8080/"
        },
        "id": "IpvwrTMVAHRU",
        "outputId": "78453b18-9934-4249-d369-e74329719433"
      },
      "execution_count": 20,
      "outputs": [
        {
          "output_type": "stream",
          "name": "stdout",
          "text": [
            "Handling my custom exception\n"
          ]
        }
      ]
    },
    {
      "cell_type": "markdown",
      "source": [
        "## Practice Exercises"
      ],
      "metadata": {
        "id": "qgMKJjjWCMSi"
      }
    },
    {
      "cell_type": "markdown",
      "source": [
        "#### **Exercise 1**"
      ],
      "metadata": {
        "id": "03_8SGf6D3wd"
      }
    },
    {
      "cell_type": "markdown",
      "source": [
        "What are some reasons that you might want to create your own exception?"
      ],
      "metadata": {
        "id": "MBtQHwxgD6JS"
      }
    },
    {
      "cell_type": "markdown",
      "source": [
        "**Student Solution**"
      ],
      "metadata": {
        "id": "D_KN-PWRD7rG"
      }
    },
    {
      "cell_type": "markdown",
      "source": [
        "> Your answer goes here"
      ],
      "metadata": {
        "id": "DfoQuVv0FiPO"
      }
    },
    {
      "cell_type": "markdown",
      "source": [
        "#### **Exercise 2**"
      ],
      "metadata": {
        "id": "TkhV5oVxCOOm"
      }
    },
    {
      "cell_type": "markdown",
      "source": [
        "Handle the exception in the code block below using `try/except`. If the addition can't be done, print \"Unable to add\"."
      ],
      "metadata": {
        "id": "gPk-eFyzCWLa"
      }
    },
    {
      "cell_type": "markdown",
      "source": [
        "**Student Solution**"
      ],
      "metadata": {
        "id": "BbARTQozCwQ1"
      }
    },
    {
      "cell_type": "code",
      "source": [
        "left = 1\n",
        "right = \"2\"\n",
        "\n",
        "# Your code goes here"
      ],
      "metadata": {
        "id": "ElCLJhFUCoKg"
      },
      "execution_count": 21,
      "outputs": []
    },
    {
      "cell_type": "markdown",
      "source": [
        "#### **Exercise 3**"
      ],
      "metadata": {
        "id": "ZhOKmQtHCWOT"
      }
    },
    {
      "cell_type": "markdown",
      "source": [
        "Using `if/else` or some other flow control, prevent the exception in the code below from being thrown."
      ],
      "metadata": {
        "id": "CwxDsiqBCvg1"
      }
    },
    {
      "cell_type": "markdown",
      "source": [
        "**Student Solution**"
      ],
      "metadata": {
        "id": "tZ0BRlXdCyWg"
      }
    },
    {
      "cell_type": "code",
      "source": [
        "array_one = [1, 2, 3]\n",
        "array_two = [4, 5]\n",
        "\n",
        "# Your code goes here\n",
        "class MyErrorDude(Exception):\n",
        "  pass"
      ],
      "metadata": {
        "id": "CDwDcD8OCfhI"
      },
      "execution_count": 22,
      "outputs": []
    },
    {
      "cell_type": "code",
      "source": [],
      "metadata": {
        "id": "2R0ZrwCSJxUP"
      },
      "execution_count": null,
      "outputs": []
    }
  ]
}