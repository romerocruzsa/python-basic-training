{
  "nbformat": 4,
  "nbformat_minor": 0,
  "metadata": {
    "colab": {
      "provenance": [],
      "authorship_tag": "ABX9TyP/sMUND4rNzZVFItak3VVL",
      "include_colab_link": true
    },
    "kernelspec": {
      "name": "python3",
      "display_name": "Python 3"
    },
    "language_info": {
      "name": "python"
    }
  },
  "cells": [
    {
      "cell_type": "markdown",
      "metadata": {
        "id": "view-in-github",
        "colab_type": "text"
      },
      "source": [
        "<a href=\"https://colab.research.google.com/github/romerocruzsa/python-basic-training/blob/colab-uploads/PythonBasics_Part1.ipynb\" target=\"_parent\"><img src=\"https://colab.research.google.com/assets/colab-badge.svg\" alt=\"Open In Colab\"/></a>"
      ]
    },
    {
      "cell_type": "markdown",
      "source": [
        "Copyright 2020 Google LLC.\n",
        "\n",
        "*Changes made subject to discretion of revision author, Sebastián A. Cruz Romero*"
      ],
      "metadata": {
        "id": "cjzAcbfODnJ8"
      }
    },
    {
      "cell_type": "code",
      "source": [
        "# Licensed under the Apache License, Version 2.0 (the \"License\");\n",
        "# you may not use this file except in compliance with the License.\n",
        "# You may obtain a copy of the License at\n",
        "#\n",
        "# https://www.apache.org/licenses/LICENSE-2.0\n",
        "#\n",
        "# Unless required by applicable law or agreed to in writing, software\n",
        "# distributed under the License is distributed on an \"AS IS\" BASIS,\n",
        "# WITHOUT WARRANTIES OR CONDITIONS OF ANY KIND, either express or implied.\n",
        "# See the License for the specific language governing permissions and\n",
        "# limitations under the License."
      ],
      "metadata": {
        "id": "Y8thDx-BDngl"
      },
      "execution_count": 63,
      "outputs": []
    },
    {
      "cell_type": "markdown",
      "source": [
        "# Python Basics - Part 1"
      ],
      "metadata": {
        "id": "S0lSKSi4I_Pz"
      }
    },
    {
      "cell_type": "markdown",
      "source": [
        "Python is the most common language used for machine learning. It is an approachable yet versatile language that's used for a variety of applications.\n",
        "\n",
        "It can take years to learn all the intricacies of Python, but luckily you can learn enough Python to become proficient in machine learning in a much shorter period of time.\n",
        "\n",
        "This Colab is a quick introduction to the core attributes of Python that you'll need to know to get started. This is only a brief peek into the parts of the language that you'll commonly encounter as a data scientist. As you progress through this course, we'll introduce you to the Python concepts you'll need along the way.\n",
        "\n",
        "If you already know Python, this lesson should be a quick refresher. You might be able to simply skip to the exercises at the bottom of the document.\n",
        "\n",
        "If you know another programming language, you will want to pay close attention because Python is markedly different than most popular languages in use today. If you are new to programming, welcome! Hopefully this lesson will give you the tools you need to get started with data science."
      ],
      "metadata": {
        "id": "LDwacwTxHbW8"
      }
    },
    {
      "cell_type": "markdown",
      "source": [
        "### **This notebook will cover the following topics:**\n",
        "1. Variables\n",
        "2. Basic Data Types\n",
        "  1. Strings\n",
        "  2. Integers\n",
        "  3. Floating-points\n",
        "  4. Booleans\n",
        "3. Printing"
      ],
      "metadata": {
        "id": "Yn9dbUrsQpQ7"
      }
    },
    {
      "cell_type": "markdown",
      "source": [
        "## Variables"
      ],
      "metadata": {
        "id": "-nP2XOo2Ho9Z"
      }
    },
    {
      "cell_type": "markdown",
      "source": [
        "One of the most important notions in any programming language is the **variable**. Variables are how we store data we want to use later.\n",
        "\n",
        "When we have an expression like `2 + 3`, Python calculates the value of `5` and then forgets that the value ever existed. We need some way to store the values of expressions so that they can be used later in the program. To do that, we use variables.\n",
        "\n",
        "In the example below, the value of `2 + 3` is stored in the variable `x`."
      ],
      "metadata": {
        "id": "524BNljzHzb6"
      }
    },
    {
      "cell_type": "code",
      "source": [
        "x = 2 + 3\n",
        "print(x)"
      ],
      "metadata": {
        "colab": {
          "base_uri": "https://localhost:8080/"
        },
        "id": "R2POtde1Hgvl",
        "outputId": "667f7691-95e3-4949-cd0f-020615a0c043"
      },
      "execution_count": 1,
      "outputs": [
        {
          "output_type": "stream",
          "name": "stdout",
          "text": [
            "5\n"
          ]
        }
      ]
    },
    {
      "cell_type": "markdown",
      "source": [
        "Variables store values, and those values can be used in expressions."
      ],
      "metadata": {
        "id": "Yc4_EZyJIBJ4"
      }
    },
    {
      "cell_type": "code",
      "source": [
        "x = 2\n",
        "y = 3\n",
        "print(x + y)"
      ],
      "metadata": {
        "colab": {
          "base_uri": "https://localhost:8080/"
        },
        "id": "k6oAcWSVH9Y4",
        "outputId": "7a3a85fc-5d31-45cc-c1eb-706fa0a26f93"
      },
      "execution_count": 2,
      "outputs": [
        {
          "output_type": "stream",
          "name": "stdout",
          "text": [
            "5\n"
          ]
        }
      ]
    },
    {
      "cell_type": "markdown",
      "source": [
        "A variable value can also be changed, hence the name *variable*."
      ],
      "metadata": {
        "id": "xo3AQTslINpa"
      }
    },
    {
      "cell_type": "code",
      "source": [
        "x = 123\n",
        "x = 456\n",
        "print(x)"
      ],
      "metadata": {
        "colab": {
          "base_uri": "https://localhost:8080/"
        },
        "id": "nKNb3ZK7IPxn",
        "outputId": "5d5568b5-2785-47a1-d4ef-6e80e4532250"
      },
      "execution_count": 3,
      "outputs": [
        {
          "output_type": "stream",
          "name": "stdout",
          "text": [
            "456\n"
          ]
        }
      ]
    },
    {
      "cell_type": "markdown",
      "source": [
        "There are very few rules regarding what you can name a variable. The first character needs to be an alphabetic character. After the first character, any alphanumeric character can be used. Underscores are also okay to use anywhere in a variable name, but stay away from naming a variable with two underscores at the beginning, since Python uses leading double-underscores for internal things. (This will be seen in a later lesson.)\n",
        "\n",
        "Here are a few valid variable names:"
      ],
      "metadata": {
        "id": "y9qxH0F1IV_K"
      }
    },
    {
      "cell_type": "code",
      "source": [
        "number = 1\n",
        "my_number = 2\n",
        "YourNumber = 3\n",
        "_the_number_four = 4\n",
        "n5 = 5\n",
        "NUMBER = 6\n",
        "\n",
        "number + my_number + YourNumber + _the_number_four + n5 + NUMBER"
      ],
      "metadata": {
        "colab": {
          "base_uri": "https://localhost:8080/"
        },
        "id": "fGjuHL2yISML",
        "outputId": "0dadf0b9-fd1b-40e6-86fd-fba8c0f6e94f"
      },
      "execution_count": 4,
      "outputs": [
        {
          "output_type": "execute_result",
          "data": {
            "text/plain": [
              "21"
            ]
          },
          "metadata": {},
          "execution_count": 4
        }
      ]
    },
    {
      "cell_type": "markdown",
      "source": [
        "Notice that `number` and `NUMBER` are different variables. Case matters.\n",
        "\n",
        "Although Python will accept other styles, it is common convention to name constants in all caps (e.g. `THE_NUMBER`) and variables using lower_with_underscore syntax (e.g. `a_number`). See the [Python Style Guide](https://peps.python.org/pep-0008/#naming-conventions) for more on naming conventions. Adhere to the guide when you can. It will help others understand your code and it will train you to be able to read other programmers' Python code."
      ],
      "metadata": {
        "id": "jPjqFVJVIndD"
      }
    },
    {
      "cell_type": "markdown",
      "source": [
        "\n",
        "Naming variables is an important aspect of computer programming. Variables serve as a form of documentation within your code. Good names will help your teammates and your future self understand what your code is doing when they are trying to modify it. Take some time to think about your variable names as you create new variables.\n",
        "\n",
        "It is also important to keep your variable naming style consistent. Don't use different naming styles (such as `this_variable` and `thisVariable`) in the same file/package unless you have a valid reason to do so."
      ],
      "metadata": {
        "id": "cpSDa_8zI0aZ"
      }
    },
    {
      "cell_type": "markdown",
      "source": [
        "## Basic Data Types"
      ],
      "metadata": {
        "id": "E271vtdSI5pN"
      }
    },
    {
      "cell_type": "markdown",
      "source": [
        "This section will introduce you to some of the most common data types that you'll encounter. Data types are the foundational building blocks for any Python code. That includes but is not limited to:\n",
        "1. Strings\n",
        "2. Integers\n",
        "3. Floating-points\n",
        "4. Booleans"
      ],
      "metadata": {
        "id": "NSEpnci-SNtw"
      }
    },
    {
      "cell_type": "markdown",
      "source": [
        "### Strings"
      ],
      "metadata": {
        "id": "ZDZYSlcPJCL2"
      }
    },
    {
      "cell_type": "markdown",
      "source": [
        "The **string** data type can contain zero or more characters. In order for Python to know that a string is a value and not part of the code, strings have to be wrapped in quotes.\n",
        "\n",
        "Some example strings are:"
      ],
      "metadata": {
        "id": "wUTZ68M3JElw"
      }
    },
    {
      "cell_type": "code",
      "source": [
        "\"Python is a \"\n",
        "'useful programming language'"
      ],
      "metadata": {
        "colab": {
          "base_uri": "https://localhost:8080/",
          "height": 35
        },
        "id": "8Janyy7LIal-",
        "outputId": "df1ff458-54d5-4c35-fa2d-67b11169f4e1"
      },
      "execution_count": 5,
      "outputs": [
        {
          "output_type": "execute_result",
          "data": {
            "text/plain": [
              "'useful programming language'"
            ],
            "application/vnd.google.colaboratory.intrinsic+json": {
              "type": "string"
            }
          },
          "metadata": {},
          "execution_count": 5
        }
      ]
    },
    {
      "cell_type": "markdown",
      "source": [
        "Single and double-quotes are interchangeable, and both occur frequently. In general, try to pick one style of quotation marks and stick with it, unless you need to use that type of quote in a string.\n",
        "\n",
        "The following string requires the `'` character within the string, so it makes sense to use `\"` as the quotation marks."
      ],
      "metadata": {
        "id": "0c6i8pbpJLuO"
      }
    },
    {
      "cell_type": "code",
      "source": [
        "\"I've been learning Python\""
      ],
      "metadata": {
        "colab": {
          "base_uri": "https://localhost:8080/",
          "height": 35
        },
        "id": "44W9b0jSJQpO",
        "outputId": "a2c706b6-79a3-4343-9bc7-91c0ed330a65"
      },
      "execution_count": 6,
      "outputs": [
        {
          "output_type": "execute_result",
          "data": {
            "text/plain": [
              "\"I've been learning Python\""
            ],
            "application/vnd.google.colaboratory.intrinsic+json": {
              "type": "string"
            }
          },
          "metadata": {},
          "execution_count": 6
        }
      ]
    },
    {
      "cell_type": "markdown",
      "source": [
        "But what if you need to use both `'` and `\"` in the same string? In that case you can *escape* the embedded quote using the `\\` character. The `\\` tells Python to read the character `'` as it is, and not as the end of the quotation."
      ],
      "metadata": {
        "id": "r7EqKyVCJS7R"
      }
    },
    {
      "cell_type": "code",
      "source": [
        "'They\\'ve had a \"good\" trip'"
      ],
      "metadata": {
        "colab": {
          "base_uri": "https://localhost:8080/",
          "height": 35
        },
        "id": "G_0JUguEJbDV",
        "outputId": "90d93dc7-61bc-4d2b-86d8-dec49a20e7fb"
      },
      "execution_count": 7,
      "outputs": [
        {
          "output_type": "execute_result",
          "data": {
            "text/plain": [
              "'They\\'ve had a \"good\" trip'"
            ],
            "application/vnd.google.colaboratory.intrinsic+json": {
              "type": "string"
            }
          },
          "metadata": {},
          "execution_count": 7
        }
      ]
    },
    {
      "cell_type": "markdown",
      "source": [
        "You probably noticed that the escape character, `\\`,appears in the output. This is just a side effect of how Colab is printing the string. We'll learn a cleaner method of printing a string soon.\n",
        "\n",
        "The triple-quote (`\"\"\"` or `'''`) is another type of quote that you can use to create a string. The triple-quote allows you to have a multi-line string. It is often used when writing documentation directly in your code."
      ],
      "metadata": {
        "id": "fKwluGSbJg_-"
      }
    },
    {
      "cell_type": "code",
      "source": [
        "\"\"\"This is a string\n",
        "surrounded by three double-quotes\n",
        "and spanning multiple lines.\n",
        "\"\"\"\n",
        "\n",
        "'''This is a string\n",
        "surrounded by three single-quotes\n",
        "and spanning multiple lines.\n",
        "'''"
      ],
      "metadata": {
        "colab": {
          "base_uri": "https://localhost:8080/",
          "height": 35
        },
        "id": "OFqDdIkGJlOc",
        "outputId": "bec0fa06-36ad-46ff-bf17-491ecbc691c2"
      },
      "execution_count": 8,
      "outputs": [
        {
          "output_type": "execute_result",
          "data": {
            "text/plain": [
              "'This is a string\\nsurrounded by three single-quotes\\nand spanning multiple lines.\\n'"
            ],
            "application/vnd.google.colaboratory.intrinsic+json": {
              "type": "string"
            }
          },
          "metadata": {},
          "execution_count": 8
        }
      ]
    },
    {
      "cell_type": "markdown",
      "source": [
        "You can see in the output that the string shows up on one line with `\\n` added where the line breaks were. `\\n` is a special escape sequence that means \"line feed\", which is typewriter-speak for moving to the next line. `\\t` is another common escape sequence that represents a tab. `\\\\` adds a backslash `\\` to the string.\n",
        "\n",
        "Strings can be stored in variables. The `+` operator also works on strings, by concatenating them together."
      ],
      "metadata": {
        "id": "5rbtBfaGJqSl"
      }
    },
    {
      "cell_type": "code",
      "source": [
        "s1 = \"The Python \"\n",
        "s2 = \"programming\"\n",
        "s3 = \" language is easy to learn\"\n",
        "print(s1 + s2 + s3)"
      ],
      "metadata": {
        "colab": {
          "base_uri": "https://localhost:8080/"
        },
        "id": "dausH0FzJm3Z",
        "outputId": "13c7c1e7-d903-42ee-81d3-afdb21d7e4b3"
      },
      "execution_count": 9,
      "outputs": [
        {
          "output_type": "stream",
          "name": "stdout",
          "text": [
            "The Python programming language is easy to learn\n"
          ]
        }
      ]
    },
    {
      "cell_type": "markdown",
      "source": [
        "The `*` operator also works with strings, resulting in the string repeated multiple times. However, other arithmetic operators such as `-` and `/` don't work with strings."
      ],
      "metadata": {
        "id": "9H0_60B6Lgxa"
      }
    },
    {
      "cell_type": "code",
      "source": [
        "'ABC ' * 5"
      ],
      "metadata": {
        "colab": {
          "base_uri": "https://localhost:8080/",
          "height": 35
        },
        "id": "kg2zlmdtJ1W2",
        "outputId": "b134487c-5d38-4c5d-fb72-5c9a25a34b4d"
      },
      "execution_count": 10,
      "outputs": [
        {
          "output_type": "execute_result",
          "data": {
            "text/plain": [
              "'ABC ABC ABC ABC ABC '"
            ],
            "application/vnd.google.colaboratory.intrinsic+json": {
              "type": "string"
            }
          },
          "metadata": {},
          "execution_count": 10
        }
      ]
    },
    {
      "cell_type": "markdown",
      "source": [
        "Python has a handy built-in way to find the *length* of a string, which is the number of characters in the string."
      ],
      "metadata": {
        "id": "D0k8o_OvNEIm"
      }
    },
    {
      "cell_type": "code",
      "source": [
        "len(\"pneumonoultramicroscopicsilicovolcanoconiosis\")"
      ],
      "metadata": {
        "colab": {
          "base_uri": "https://localhost:8080/"
        },
        "id": "U6jefOI7NGfG",
        "outputId": "c3b651dc-4291-47bf-c442-d4642daf400a"
      },
      "execution_count": 11,
      "outputs": [
        {
          "output_type": "execute_result",
          "data": {
            "text/plain": [
              "45"
            ]
          },
          "metadata": {},
          "execution_count": 11
        }
      ]
    },
    {
      "cell_type": "markdown",
      "source": [
        "If you need to extract a specific character from a string, you can specify that character by *indexing* it. Notice that in Python, the first character of a string is at index 0. Most popular programming languages start counting at 0."
      ],
      "metadata": {
        "id": "HNtzKJFSNJcZ"
      }
    },
    {
      "cell_type": "code",
      "source": [
        "\"abcdefghijklmnopqrstuvwxyz\"[1]"
      ],
      "metadata": {
        "colab": {
          "base_uri": "https://localhost:8080/",
          "height": 35
        },
        "id": "vDsu-jxsNH0z",
        "outputId": "18322c86-d11d-4fe5-80c2-d959d904f412"
      },
      "execution_count": 12,
      "outputs": [
        {
          "output_type": "execute_result",
          "data": {
            "text/plain": [
              "'b'"
            ],
            "application/vnd.google.colaboratory.intrinsic+json": {
              "type": "string"
            }
          },
          "metadata": {},
          "execution_count": 12
        }
      ]
    },
    {
      "cell_type": "markdown",
      "source": [
        "You can also extract a *slice* of a string. A slice is a portion of a string referenced by the starting and ending index. The starting index is inclusive, and the ending index is exclusive. The slice below returns a four-character string."
      ],
      "metadata": {
        "id": "zX675r_zNRkc"
      }
    },
    {
      "cell_type": "code",
      "source": [
        "alphabet = \"abcdefghijklmnopqrstuvwxyz\"\n",
        "alphabet[1:5]"
      ],
      "metadata": {
        "colab": {
          "base_uri": "https://localhost:8080/",
          "height": 35
        },
        "id": "3aLDL3ePNNEc",
        "outputId": "75cb02f9-68f0-4bae-d69b-1ac55436feda"
      },
      "execution_count": 13,
      "outputs": [
        {
          "output_type": "execute_result",
          "data": {
            "text/plain": [
              "'bcde'"
            ],
            "application/vnd.google.colaboratory.intrinsic+json": {
              "type": "string"
            }
          },
          "metadata": {},
          "execution_count": 13
        }
      ]
    },
    {
      "cell_type": "markdown",
      "source": [
        "Slices have some handy shortcuts if you want to start at the beginning or go all the way to the end of a string."
      ],
      "metadata": {
        "id": "TYu1lCJ4NUcI"
      }
    },
    {
      "cell_type": "code",
      "source": [
        "alphabet[:3]"
      ],
      "metadata": {
        "colab": {
          "base_uri": "https://localhost:8080/",
          "height": 35
        },
        "id": "xBDgZwdoNVtw",
        "outputId": "38b703fe-718a-4a55-81c1-02af837be472"
      },
      "execution_count": 14,
      "outputs": [
        {
          "output_type": "execute_result",
          "data": {
            "text/plain": [
              "'abc'"
            ],
            "application/vnd.google.colaboratory.intrinsic+json": {
              "type": "string"
            }
          },
          "metadata": {},
          "execution_count": 14
        }
      ]
    },
    {
      "cell_type": "code",
      "source": [
        "alphabet[23:]"
      ],
      "metadata": {
        "colab": {
          "base_uri": "https://localhost:8080/",
          "height": 35
        },
        "id": "0pTpZbcMNZHL",
        "outputId": "430cf30d-8aa3-4ae5-97f0-244e6242e2a3"
      },
      "execution_count": 15,
      "outputs": [
        {
          "output_type": "execute_result",
          "data": {
            "text/plain": [
              "'xyz'"
            ],
            "application/vnd.google.colaboratory.intrinsic+json": {
              "type": "string"
            }
          },
          "metadata": {},
          "execution_count": 15
        }
      ]
    },
    {
      "cell_type": "markdown",
      "source": [
        "Strings are *objects* in Python. We won't get into the details of what an object is in this tutorial, other than to mention that objects can have functions and methods called on them using **dot notation**. Below is an example object call on the alphabet string, that converts the entire string to uppercase. Notice that the function is called `alphabet.upper()` instead of `upper(alphabet)`, as we saw with the `len()` function."
      ],
      "metadata": {
        "id": "Z1CE0XVyNXKH"
      }
    },
    {
      "cell_type": "code",
      "source": [
        "alphabet.upper()"
      ],
      "metadata": {
        "colab": {
          "base_uri": "https://localhost:8080/",
          "height": 35
        },
        "id": "3AWC0FwINjxi",
        "outputId": "1bdd0304-625c-49b2-f8b1-47b3850af4c8"
      },
      "execution_count": 16,
      "outputs": [
        {
          "output_type": "execute_result",
          "data": {
            "text/plain": [
              "'ABCDEFGHIJKLMNOPQRSTUVWXYZ'"
            ],
            "application/vnd.google.colaboratory.intrinsic+json": {
              "type": "string"
            }
          },
          "metadata": {},
          "execution_count": 16
        }
      ]
    },
    {
      "cell_type": "markdown",
      "source": [
        "### Integers"
      ],
      "metadata": {
        "id": "pqiq0DkCSeNZ"
      }
    },
    {
      "cell_type": "markdown",
      "source": [
        "Integers are just whole numbers. This includes positive whole numbers (1, 2, 3, ...), 0, and negative whole numbers (-1, -2, -3, ...). The cell below demonstrates the addition of two integers."
      ],
      "metadata": {
        "id": "CtQP_wHsSl-7"
      }
    },
    {
      "cell_type": "code",
      "source": [
        "42 + 8"
      ],
      "metadata": {
        "colab": {
          "base_uri": "https://localhost:8080/"
        },
        "id": "lKifd8MCSoRi",
        "outputId": "72240107-8a07-46c1-f5fd-61f253cc778b"
      },
      "execution_count": 17,
      "outputs": [
        {
          "output_type": "execute_result",
          "data": {
            "text/plain": [
              "50"
            ]
          },
          "metadata": {},
          "execution_count": 17
        }
      ]
    },
    {
      "cell_type": "markdown",
      "source": [
        "Python can do all the common operations you are familiar with."
      ],
      "metadata": {
        "id": "lediuSe7Sq_3"
      }
    },
    {
      "cell_type": "code",
      "source": [
        "substraction = 4 - 2\n",
        "multiplication = 2*3\n",
        "exponents = 2**3\n",
        "\n",
        "print(substraction)\n",
        "print(multiplication)\n",
        "print(exponents)"
      ],
      "metadata": {
        "colab": {
          "base_uri": "https://localhost:8080/"
        },
        "id": "445C8DEGSzoX",
        "outputId": "517f27a4-2238-40db-dcb7-70cdaa90c07e"
      },
      "execution_count": 18,
      "outputs": [
        {
          "output_type": "stream",
          "name": "stdout",
          "text": [
            "2\n",
            "6\n",
            "8\n"
          ]
        }
      ]
    },
    {
      "cell_type": "markdown",
      "source": [
        "**Division** is a bit more complicated. If a number doesn't divide evenly, such as `13 / 5`, we get what is called a floating-point number. We will talk about floating-points in a bit, but for now, we can use `//` when dividing, also known as \"floor division\". This operator removes any decimal remainder (e.g. 14.1 and 14.9 both become 14). To find this remainder, we can use a modulo operator, `%`."
      ],
      "metadata": {
        "id": "5gMGT1f-THp5"
      }
    },
    {
      "cell_type": "code",
      "source": [
        "quotient = 14 // 4\n",
        "remainder = 14 % 4 # Modulo\n",
        "\n",
        "print(quotient)\n",
        "print(remainder)"
      ],
      "metadata": {
        "colab": {
          "base_uri": "https://localhost:8080/"
        },
        "id": "slCCLU81TFFS",
        "outputId": "26db39d5-7530-43c3-8aa3-b46ecb56f85e"
      },
      "execution_count": 19,
      "outputs": [
        {
          "output_type": "stream",
          "name": "stdout",
          "text": [
            "3\n",
            "2\n"
          ]
        }
      ]
    },
    {
      "cell_type": "markdown",
      "source": [
        "Multiple mathematical operations can be combined, as below:"
      ],
      "metadata": {
        "id": "ImaQbcokTW9q"
      }
    },
    {
      "cell_type": "code",
      "source": [
        "7 ** 7 + 7 * 7 - 7 * 7 // 7"
      ],
      "metadata": {
        "colab": {
          "base_uri": "https://localhost:8080/"
        },
        "id": "n5k3TJqlTX1A",
        "outputId": "a0299d79-ec3e-4389-b5bd-beb8f86ddca5"
      },
      "execution_count": 20,
      "outputs": [
        {
          "output_type": "execute_result",
          "data": {
            "text/plain": [
              "823585"
            ]
          },
          "metadata": {},
          "execution_count": 20
        }
      ]
    },
    {
      "cell_type": "markdown",
      "source": [
        "The code above can be a bit difficult to read. How does Python know which numbers to process first?\n",
        "\n",
        "Python enforces an order of precedence where operations like taking the exponent come before multiplication and division, which come before addition and subtraction. (See this guide to [order of operations](https://www.mathsisfun.com/operation-order-pemdas.html).) There are actually more operators than what we've seen so far and it can be hard to remember the order of operations, so when in doubt you can wrap parentheses around operations to make things clearer."
      ],
      "metadata": {
        "id": "HfXNMdTiTeKi"
      }
    },
    {
      "cell_type": "code",
      "source": [
        "(7 ** 7) + (7 * 7) - ((7 * 7) // 7)"
      ],
      "metadata": {
        "colab": {
          "base_uri": "https://localhost:8080/"
        },
        "id": "3_2vGvCoTk5m",
        "outputId": "ea22f904-caac-4506-89df-ab1b991988af"
      },
      "execution_count": 21,
      "outputs": [
        {
          "output_type": "execute_result",
          "data": {
            "text/plain": [
              "823585"
            ]
          },
          "metadata": {},
          "execution_count": 21
        }
      ]
    },
    {
      "cell_type": "markdown",
      "source": [
        "### Floating-point Numbers"
      ],
      "metadata": {
        "id": "KQTRL4jvUMow"
      }
    },
    {
      "cell_type": "markdown",
      "source": [
        "It might seem complicated, but Python has a few ways of representing numbers. You have already seen the integer data type. This section is about floating-point numbers.\n",
        "\n",
        "The different data types representing numbers have a different place in the world of computing. In some languages, it is quite challenging to move from one type of number to another (e.g. from an integer to a floating-point). In Python, the mixing of integers and floating-point numbers is more fluid. This is great most of the time, but can be problematic at times. It is important to be aware, especially when doing division, when you are working with floating-point numbers or integers."
      ],
      "metadata": {
        "id": "AHyFSR6JUPXf"
      }
    },
    {
      "cell_type": "markdown",
      "source": [
        "Earlier we looked at floor division using `//`. The cell below uses regular division using `/`."
      ],
      "metadata": {
        "id": "CkQWeD9uUSik"
      }
    },
    {
      "cell_type": "code",
      "source": [
        "50 / 10"
      ],
      "metadata": {
        "colab": {
          "base_uri": "https://localhost:8080/"
        },
        "id": "Y0_uV3YIUV8T",
        "outputId": "10b5b80d-2e29-46e2-f369-c7e06b20570c"
      },
      "execution_count": 22,
      "outputs": [
        {
          "output_type": "execute_result",
          "data": {
            "text/plain": [
              "5.0"
            ]
          },
          "metadata": {},
          "execution_count": 22
        }
      ]
    },
    {
      "cell_type": "markdown",
      "source": [
        "In this case we can see that there is a decimal point (`.`) in the output. This is generally how we'll know that we're working with floating-point numbers."
      ],
      "metadata": {
        "id": "aFjViqQsUYUC"
      }
    },
    {
      "cell_type": "markdown",
      "source": [
        "You can force operations to be floating-point operations by including one floating-point number in the equation. Note the difference between the following two numbers."
      ],
      "metadata": {
        "id": "AxzsdQnAUdZp"
      }
    },
    {
      "cell_type": "code",
      "source": [
        "print(2 + 3)\n",
        "print(2.0 + 3)"
      ],
      "metadata": {
        "colab": {
          "base_uri": "https://localhost:8080/"
        },
        "id": "apIb108gUewb",
        "outputId": "01a9a738-1223-4129-e70e-3979d0c17873"
      },
      "execution_count": 23,
      "outputs": [
        {
          "output_type": "stream",
          "name": "stdout",
          "text": [
            "5\n",
            "5.0\n"
          ]
        }
      ]
    },
    {
      "cell_type": "markdown",
      "source": [
        "The cell below demonstrates a standard division of two floating-point values."
      ],
      "metadata": {
        "id": "VkpES0FjUhd1"
      }
    },
    {
      "cell_type": "code",
      "source": [
        "322.231 / 0.03"
      ],
      "metadata": {
        "colab": {
          "base_uri": "https://localhost:8080/"
        },
        "id": "8n1359AyUuVx",
        "outputId": "683b0190-74d5-45a9-95e8-774b660de5c4"
      },
      "execution_count": 24,
      "outputs": [
        {
          "output_type": "execute_result",
          "data": {
            "text/plain": [
              "10741.033333333333"
            ]
          },
          "metadata": {},
          "execution_count": 24
        }
      ]
    },
    {
      "cell_type": "markdown",
      "source": [
        "\n",
        "The result `10741.033333333333` is clearly a floating-point number, with a decimal portion of `.033333333333`. Here is what happens when we apply floor division to two floating-point values:"
      ],
      "metadata": {
        "id": "hJLRtmXTUwUC"
      }
    },
    {
      "cell_type": "markdown",
      "source": [
        "\n",
        "Note that the result `10741.0` has a decimal portion of `.0` now, but the decimal point indicates that it is a floating-point value."
      ],
      "metadata": {
        "id": "3YYNyLvwU12h"
      }
    },
    {
      "cell_type": "markdown",
      "source": [
        "Python has a very useful package with more advanced math tools. To import this package, all you need to do is add the following line to your code."
      ],
      "metadata": {
        "id": "RxXvcZCqU53j"
      }
    },
    {
      "cell_type": "code",
      "source": [
        "import math"
      ],
      "metadata": {
        "id": "p9VW2JQbU61V"
      },
      "execution_count": 25,
      "outputs": []
    },
    {
      "cell_type": "markdown",
      "source": [
        "This package gives us access to a bunch of useful things, such as trigonometric functions like sines and cosines, and mathematical constants like *𝝅* and *𝐞*. To use them, we just type `math`. followed by the specific function we want to use. In Colab, if you've already imported the library, typing `math`. should show a list of available functions."
      ],
      "metadata": {
        "id": "0EvgnjTdU9EA"
      }
    },
    {
      "cell_type": "markdown",
      "source": [
        "If you get an error running the following cell, make sure you run the cell above which imports the `math` package."
      ],
      "metadata": {
        "id": "FnQE_KnsV5bZ"
      }
    },
    {
      "cell_type": "code",
      "source": [
        "math.pi"
      ],
      "metadata": {
        "colab": {
          "base_uri": "https://localhost:8080/"
        },
        "id": "aS2fSLKeU8YG",
        "outputId": "a3b425dd-dfcb-4196-8805-643eec47b488"
      },
      "execution_count": 26,
      "outputs": [
        {
          "output_type": "execute_result",
          "data": {
            "text/plain": [
              "3.141592653589793"
            ]
          },
          "metadata": {},
          "execution_count": 26
        }
      ]
    },
    {
      "cell_type": "markdown",
      "source": [
        "Here, `math.pi` (𝛑) is represented as a floating-point number. Since 𝛑 is an irrational number, its value cannot be represented with a decimal, so the value of `math.pi` is not exactly the value of 𝛑. However for most use cases, it is close enough."
      ],
      "metadata": {
        "id": "zNr2Lf_dV-lZ"
      }
    },
    {
      "cell_type": "markdown",
      "source": [
        "While computers cannot generate truly random numbers, computer scientists have come up with some very clever ways to get pseudo-random numbers. These numbers aren't perfectly random, but are usually close enough such that it doesn't matter. In Python, it is very easy to get a variety of pseudo-random values using the `random` library. It is imported using the same syntax as seen earlier to import the `math` library."
      ],
      "metadata": {
        "id": "BiRB2UimWKYU"
      }
    },
    {
      "cell_type": "code",
      "source": [
        "import random"
      ],
      "metadata": {
        "id": "7s-ZsZn2WPRO"
      },
      "execution_count": 27,
      "outputs": []
    },
    {
      "cell_type": "markdown",
      "source": [
        "As we saw with the `math` library, any time we want to use a function from the library, we need to preface the function name with `random`. To get a random floating-point value uniformly chosen between 0 and 10, we can type the following command."
      ],
      "metadata": {
        "id": "CvOw1Wm9WSWH"
      }
    },
    {
      "cell_type": "markdown",
      "source": [
        "f you get an error running the following cell, make sure you run the cell above which imports the `random` package."
      ],
      "metadata": {
        "id": "lLeM-czBWYDM"
      }
    },
    {
      "cell_type": "code",
      "source": [
        "random.uniform(0,10)"
      ],
      "metadata": {
        "colab": {
          "base_uri": "https://localhost:8080/"
        },
        "id": "kyCGgxYJWRmy",
        "outputId": "e922c629-1409-406b-de1a-978c37d18d6e"
      },
      "execution_count": 28,
      "outputs": [
        {
          "output_type": "execute_result",
          "data": {
            "text/plain": [
              "5.055339898113758"
            ]
          },
          "metadata": {},
          "execution_count": 28
        }
      ]
    },
    {
      "cell_type": "markdown",
      "source": [
        "Alternatively, we can get a random value between 0 and 1 using `random.random()` and simply multiply it by 10 to achieve the same thing. There are cases where one method might be preferable over the other, so it is useful to know them both."
      ],
      "metadata": {
        "id": "Q8O7rrMEWiE6"
      }
    },
    {
      "cell_type": "code",
      "source": [
        "random.random()*10"
      ],
      "metadata": {
        "colab": {
          "base_uri": "https://localhost:8080/"
        },
        "id": "3LlkSPJIWl2i",
        "outputId": "163f3d04-a43e-4ee2-f891-3bf8fdbdeb52"
      },
      "execution_count": 29,
      "outputs": [
        {
          "output_type": "execute_result",
          "data": {
            "text/plain": [
              "7.300987909020471"
            ]
          },
          "metadata": {},
          "execution_count": 29
        }
      ]
    },
    {
      "cell_type": "markdown",
      "source": [
        "There are a lot more kinds of random numbers that we can use, but we'll talk about that more a bit later.\n",
        "\n",
        "Don't be intimidated by the differences and interactions between floating-point numbers and integers. Most of the time you won't need to be concerned about it. However, if you see surprising results when doing math in Python, be sure to double-check the data types of the numbers in your operations."
      ],
      "metadata": {
        "id": "GpnbjWpxYiQc"
      }
    },
    {
      "cell_type": "markdown",
      "source": [
        "### Booleans"
      ],
      "metadata": {
        "id": "PKAJbGfmWsFX"
      }
    },
    {
      "cell_type": "markdown",
      "source": [
        "The boolean is another core data type in Python. Booleans, often abbreviated to \"bools\", can be thought of as switches, with an \"on\" and an \"off\". Bools are represented simply by **True** and **False**."
      ],
      "metadata": {
        "id": "W1Bmg50JW8GA"
      }
    },
    {
      "cell_type": "code",
      "source": [
        "True"
      ],
      "metadata": {
        "colab": {
          "base_uri": "https://localhost:8080/"
        },
        "id": "3MZq2dqUW6W2",
        "outputId": "8c8e5d58-d43f-4819-b0fa-0c90d7d502f4"
      },
      "execution_count": 30,
      "outputs": [
        {
          "output_type": "execute_result",
          "data": {
            "text/plain": [
              "True"
            ]
          },
          "metadata": {},
          "execution_count": 30
        }
      ]
    },
    {
      "cell_type": "code",
      "source": [
        "False"
      ],
      "metadata": {
        "colab": {
          "base_uri": "https://localhost:8080/"
        },
        "id": "X1PUfN_WXCXZ",
        "outputId": "0e5b864d-35db-40ac-9425-249dd63b3e77"
      },
      "execution_count": 31,
      "outputs": [
        {
          "output_type": "execute_result",
          "data": {
            "text/plain": [
              "False"
            ]
          },
          "metadata": {},
          "execution_count": 31
        }
      ]
    },
    {
      "cell_type": "markdown",
      "source": [
        "\n",
        "Bools are often combined with logical operators such as **`and`** and **`or`**. Suppose you have two boolean variables, `a` and `b`.\n",
        "\n",
        "* `a and b` is `True` if and only if both `a` and `b` are `True`, otherwise it is `False`.\n",
        "* `a or b` is `True` if and only if at least one of `a` or `b` is `True`, otherwise it is `False`.\n",
        "\n",
        "Here's a visual representation to help you out.\n",
        "\n",
        "![image.png](data:image/png;base64,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)"
      ],
      "metadata": {
        "id": "Dzfm-90jW6dq"
      }
    },
    {
      "cell_type": "markdown",
      "source": [
        "**Boolean Statements for `and`**"
      ],
      "metadata": {
        "id": "scnILS0TX5b7"
      }
    },
    {
      "cell_type": "code",
      "source": [
        "True and True"
      ],
      "metadata": {
        "colab": {
          "base_uri": "https://localhost:8080/"
        },
        "id": "Phjedcu1W6ji",
        "outputId": "095df50c-50b1-46d9-e8da-45f8dd0bbe88"
      },
      "execution_count": 32,
      "outputs": [
        {
          "output_type": "execute_result",
          "data": {
            "text/plain": [
              "True"
            ]
          },
          "metadata": {},
          "execution_count": 32
        }
      ]
    },
    {
      "cell_type": "code",
      "source": [
        "True and False"
      ],
      "metadata": {
        "colab": {
          "base_uri": "https://localhost:8080/"
        },
        "id": "vju_W9KVXzPT",
        "outputId": "ec9fdfc9-45c6-4c51-bf27-a81ed58503da"
      },
      "execution_count": 33,
      "outputs": [
        {
          "output_type": "execute_result",
          "data": {
            "text/plain": [
              "False"
            ]
          },
          "metadata": {},
          "execution_count": 33
        }
      ]
    },
    {
      "cell_type": "code",
      "source": [
        "False and True"
      ],
      "metadata": {
        "colab": {
          "base_uri": "https://localhost:8080/"
        },
        "id": "P3HD9wPdX1fa",
        "outputId": "07822f75-bd47-4cbf-e30a-034c056001fb"
      },
      "execution_count": 34,
      "outputs": [
        {
          "output_type": "execute_result",
          "data": {
            "text/plain": [
              "False"
            ]
          },
          "metadata": {},
          "execution_count": 34
        }
      ]
    },
    {
      "cell_type": "code",
      "source": [
        "False and False"
      ],
      "metadata": {
        "colab": {
          "base_uri": "https://localhost:8080/"
        },
        "id": "7_AMIwTNX3Mc",
        "outputId": "b1f749f9-2cf7-447e-de07-4ec1d6129592"
      },
      "execution_count": 35,
      "outputs": [
        {
          "output_type": "execute_result",
          "data": {
            "text/plain": [
              "False"
            ]
          },
          "metadata": {},
          "execution_count": 35
        }
      ]
    },
    {
      "cell_type": "markdown",
      "source": [
        "**Boolean Statements for `or`**"
      ],
      "metadata": {
        "id": "aaz-3_qqW63G"
      }
    },
    {
      "cell_type": "code",
      "source": [
        "True or True"
      ],
      "metadata": {
        "colab": {
          "base_uri": "https://localhost:8080/"
        },
        "id": "OK2j5PPAW7Gt",
        "outputId": "e9cd9377-85fc-49aa-e753-817aa84d78a0"
      },
      "execution_count": 36,
      "outputs": [
        {
          "output_type": "execute_result",
          "data": {
            "text/plain": [
              "True"
            ]
          },
          "metadata": {},
          "execution_count": 36
        }
      ]
    },
    {
      "cell_type": "code",
      "source": [
        "True or False"
      ],
      "metadata": {
        "colab": {
          "base_uri": "https://localhost:8080/"
        },
        "id": "klCoWNuRYGsG",
        "outputId": "6e641c4d-b95e-4664-f025-7358ab375c58"
      },
      "execution_count": 37,
      "outputs": [
        {
          "output_type": "execute_result",
          "data": {
            "text/plain": [
              "True"
            ]
          },
          "metadata": {},
          "execution_count": 37
        }
      ]
    },
    {
      "cell_type": "code",
      "source": [
        "False or True"
      ],
      "metadata": {
        "colab": {
          "base_uri": "https://localhost:8080/"
        },
        "id": "tgHCQe7PYGvN",
        "outputId": "126a4245-2118-4f36-93bd-be7ef3f38766"
      },
      "execution_count": 38,
      "outputs": [
        {
          "output_type": "execute_result",
          "data": {
            "text/plain": [
              "True"
            ]
          },
          "metadata": {},
          "execution_count": 38
        }
      ]
    },
    {
      "cell_type": "code",
      "source": [
        "False or False"
      ],
      "metadata": {
        "colab": {
          "base_uri": "https://localhost:8080/"
        },
        "id": "-jWq4SObYHJ3",
        "outputId": "3817e74c-e14d-4deb-b38c-0b6043571b49"
      },
      "execution_count": 39,
      "outputs": [
        {
          "output_type": "execute_result",
          "data": {
            "text/plain": [
              "False"
            ]
          },
          "metadata": {},
          "execution_count": 39
        }
      ]
    },
    {
      "cell_type": "markdown",
      "source": [
        "These expressions of `truthiness` can be expanded beyond two operands:\n"
      ],
      "metadata": {
        "id": "ppP56VhFW7dq"
      }
    },
    {
      "cell_type": "code",
      "source": [
        "False and True or True and False or True"
      ],
      "metadata": {
        "colab": {
          "base_uri": "https://localhost:8080/"
        },
        "id": "TIHbs2keYo3X",
        "outputId": "2eab02ae-0f9e-49a5-eba1-85b3b31eb46d"
      },
      "execution_count": 40,
      "outputs": [
        {
          "output_type": "execute_result",
          "data": {
            "text/plain": [
              "True"
            ]
          },
          "metadata": {},
          "execution_count": 40
        }
      ]
    },
    {
      "cell_type": "markdown",
      "source": [
        "Just like with numbers, you can change the order in which the boolean operators are conducted, with parentheses."
      ],
      "metadata": {
        "id": "7P9jkx0oYr-x"
      }
    },
    {
      "cell_type": "code",
      "source": [
        "False and (True or True and False or True)"
      ],
      "metadata": {
        "colab": {
          "base_uri": "https://localhost:8080/"
        },
        "id": "hsKwBKoeYuFd",
        "outputId": "7e001b2f-494a-47d2-f3a2-6dfe230173b5"
      },
      "execution_count": 41,
      "outputs": [
        {
          "output_type": "execute_result",
          "data": {
            "text/plain": [
              "False"
            ]
          },
          "metadata": {},
          "execution_count": 41
        }
      ]
    },
    {
      "cell_type": "markdown",
      "source": [
        "Truthiness can be flipped with the **`not`** operator:"
      ],
      "metadata": {
        "id": "XcNE2HXqYwAq"
      }
    },
    {
      "cell_type": "code",
      "source": [
        "not True"
      ],
      "metadata": {
        "colab": {
          "base_uri": "https://localhost:8080/"
        },
        "id": "dWcuzyVCY06N",
        "outputId": "1df90b3d-a315-4e0a-cf84-8c5139153e42"
      },
      "execution_count": 42,
      "outputs": [
        {
          "output_type": "execute_result",
          "data": {
            "text/plain": [
              "False"
            ]
          },
          "metadata": {},
          "execution_count": 42
        }
      ]
    },
    {
      "cell_type": "code",
      "source": [
        "not False"
      ],
      "metadata": {
        "colab": {
          "base_uri": "https://localhost:8080/"
        },
        "id": "Xn3S_vcMY15f",
        "outputId": "55450a67-219d-4e3a-e63d-68f8cc9460ce"
      },
      "execution_count": 43,
      "outputs": [
        {
          "output_type": "execute_result",
          "data": {
            "text/plain": [
              "True"
            ]
          },
          "metadata": {},
          "execution_count": 43
        }
      ]
    },
    {
      "cell_type": "markdown",
      "source": [
        "In most cases, you won't be working directly with **`True`** and  **`False`**. Most of the time, these values will be returned from other expressions. Take for instance the greater than (>), less than (<), greater than or equal to (≥), and less than or equal to (≤) expressions below:"
      ],
      "metadata": {
        "id": "6vWa-H9aY5BF"
      }
    },
    {
      "cell_type": "code",
      "source": [
        "2 > 1"
      ],
      "metadata": {
        "colab": {
          "base_uri": "https://localhost:8080/"
        },
        "id": "5JRGdemKZ7ti",
        "outputId": "a742a51c-d3cf-48e6-aaef-1884e73ef1b4"
      },
      "execution_count": 44,
      "outputs": [
        {
          "output_type": "execute_result",
          "data": {
            "text/plain": [
              "True"
            ]
          },
          "metadata": {},
          "execution_count": 44
        }
      ]
    },
    {
      "cell_type": "code",
      "source": [
        "2 < 1"
      ],
      "metadata": {
        "colab": {
          "base_uri": "https://localhost:8080/"
        },
        "id": "T1Iffv09Z-qo",
        "outputId": "ce78c3e1-e652-4f89-a586-354472f52586"
      },
      "execution_count": 45,
      "outputs": [
        {
          "output_type": "execute_result",
          "data": {
            "text/plain": [
              "False"
            ]
          },
          "metadata": {},
          "execution_count": 45
        }
      ]
    },
    {
      "cell_type": "code",
      "source": [
        "1 >= 1"
      ],
      "metadata": {
        "colab": {
          "base_uri": "https://localhost:8080/"
        },
        "id": "jkSflk6GZ-mw",
        "outputId": "d2286545-959b-4b3f-8079-8d9fc4214d80"
      },
      "execution_count": 46,
      "outputs": [
        {
          "output_type": "execute_result",
          "data": {
            "text/plain": [
              "True"
            ]
          },
          "metadata": {},
          "execution_count": 46
        }
      ]
    },
    {
      "cell_type": "code",
      "source": [
        "2 <= 1"
      ],
      "metadata": {
        "colab": {
          "base_uri": "https://localhost:8080/"
        },
        "id": "q6lu-RJ8Z-it",
        "outputId": "7aabcaf5-16d4-4a53-9d8d-a918b2884336"
      },
      "execution_count": 47,
      "outputs": [
        {
          "output_type": "execute_result",
          "data": {
            "text/plain": [
              "False"
            ]
          },
          "metadata": {},
          "execution_count": 47
        }
      ]
    },
    {
      "cell_type": "markdown",
      "source": [
        "There are also checks for equality and inequality:"
      ],
      "metadata": {
        "id": "nzz8fZg1aDe4"
      }
    },
    {
      "cell_type": "code",
      "source": [
        "1 == 2"
      ],
      "metadata": {
        "colab": {
          "base_uri": "https://localhost:8080/"
        },
        "id": "n9PkBiy5aHVT",
        "outputId": "266c4966-58cb-45f1-a761-394e0a470d1b"
      },
      "execution_count": 48,
      "outputs": [
        {
          "output_type": "execute_result",
          "data": {
            "text/plain": [
              "False"
            ]
          },
          "metadata": {},
          "execution_count": 48
        }
      ]
    },
    {
      "cell_type": "code",
      "source": [
        "1 != 2"
      ],
      "metadata": {
        "colab": {
          "base_uri": "https://localhost:8080/"
        },
        "id": "b90tNSB6Z-Xn",
        "outputId": "5b64bc51-a849-4d23-877f-87c4b1692d0c"
      },
      "execution_count": 49,
      "outputs": [
        {
          "output_type": "execute_result",
          "data": {
            "text/plain": [
              "True"
            ]
          },
          "metadata": {},
          "execution_count": 49
        }
      ]
    },
    {
      "cell_type": "markdown",
      "source": [
        "Why is \"equals\" represented as `==` instead of just `=?` As you saw earlier with variables, you can use `=` to assign a value to a variable. Therefore, Python needs a different symbol to check for equality. If you want to assign the variable a to the value 3, you can use `a = 3`. Now, if you want to check if it is equal to 3, you can use `a == 3`."
      ],
      "metadata": {
        "id": "i1PUmihaaHMZ"
      }
    },
    {
      "cell_type": "code",
      "source": [
        "a = 3\n",
        "print(a)\n",
        "print(a == 3)\n",
        "print(a == 2)\n",
        "a = 2\n",
        "print(a)\n",
        "print(a == 2)"
      ],
      "metadata": {
        "colab": {
          "base_uri": "https://localhost:8080/"
        },
        "id": "LqPKQsKV3Oqu",
        "outputId": "62685c78-7f40-4d22-eb70-a1c52904c550"
      },
      "execution_count": 50,
      "outputs": [
        {
          "output_type": "stream",
          "name": "stdout",
          "text": [
            "3\n",
            "True\n",
            "False\n",
            "2\n",
            "True\n"
          ]
        }
      ]
    },
    {
      "cell_type": "markdown",
      "source": [
        "You can combine the logical **`and`**, **`or`**, and **`not`** expressions and the **`>`**, **`>=`**, **`<`**, **`<=`**, **`==`**, **`!=`** expressions. Parentheses are again used to change the order of operation evaluation."
      ],
      "metadata": {
        "id": "ipZlbclV3T5T"
      }
    },
    {
      "cell_type": "code",
      "source": [
        "(1 < 2) and (3 == 3) or ((4 > 1) and (not 1 < 2))"
      ],
      "metadata": {
        "colab": {
          "base_uri": "https://localhost:8080/"
        },
        "id": "zMnI2z4N3lyt",
        "outputId": "2ca4a1e2-0afd-4c4f-bd0c-41c84a4f27c3"
      },
      "execution_count": 51,
      "outputs": [
        {
          "output_type": "execute_result",
          "data": {
            "text/plain": [
              "True"
            ]
          },
          "metadata": {},
          "execution_count": 51
        }
      ]
    },
    {
      "cell_type": "markdown",
      "source": [
        "We can also use the **`>`**, **`>=`**, **`<`**, **`<=`**, **`==`**, **`!=`** expressions with two strings to determine whether strings are in alphabetical order."
      ],
      "metadata": {
        "id": "-TA8Tvww3nht"
      }
    },
    {
      "cell_type": "code",
      "source": [
        "'apple' < 'banana'"
      ],
      "metadata": {
        "colab": {
          "base_uri": "https://localhost:8080/"
        },
        "id": "DJHVfGQO3uit",
        "outputId": "be088bbe-af81-46d4-a014-9290e40048ea"
      },
      "execution_count": 52,
      "outputs": [
        {
          "output_type": "execute_result",
          "data": {
            "text/plain": [
              "True"
            ]
          },
          "metadata": {},
          "execution_count": 52
        }
      ]
    },
    {
      "cell_type": "markdown",
      "source": [
        "Of note is that capital letters are sorted before lowercase e.g. `'A' < 'a'`."
      ],
      "metadata": {
        "id": "qx5n_1Y-3zAH"
      }
    },
    {
      "cell_type": "code",
      "source": [
        "'Apple' < 'apple'"
      ],
      "metadata": {
        "colab": {
          "base_uri": "https://localhost:8080/"
        },
        "id": "JNwljQS63yNV",
        "outputId": "8f90deb3-e23a-4295-e1eb-0c096b4756fd"
      },
      "execution_count": 53,
      "outputs": [
        {
          "output_type": "execute_result",
          "data": {
            "text/plain": [
              "True"
            ]
          },
          "metadata": {},
          "execution_count": 53
        }
      ]
    },
    {
      "cell_type": "markdown",
      "source": [
        "## Printing"
      ],
      "metadata": {
        "id": "6qeccFWiNpBo"
      }
    },
    {
      "cell_type": "markdown",
      "source": [
        "\n",
        "So far, we have relied on Colab to print out the data that we have been working with. This works fine for simple examples, but it doesn't work if you want to print multiple times in a code snippet.\n",
        "\n",
        "The **`print`** function allows you to print any data structure to the screen."
      ],
      "metadata": {
        "id": "_yoD4fK7Nllo"
      }
    },
    {
      "cell_type": "code",
      "source": [
        "my_variable = \"I'm a variable\"\n",
        "print(my_variable)\n",
        "print(\"Hello class!\")\n",
        "print(12345)\n",
        "print(123.45)\n",
        "print(['a', 3, 'element list'])\n",
        "print(('a', 3, 'element tuple'))\n",
        "print({\"my\": \"dictionary\"})"
      ],
      "metadata": {
        "colab": {
          "base_uri": "https://localhost:8080/"
        },
        "id": "JLH7YHaFNyvX",
        "outputId": "b2488b5b-e8f6-4f63-dca5-f44a6c232e99"
      },
      "execution_count": 54,
      "outputs": [
        {
          "output_type": "stream",
          "name": "stdout",
          "text": [
            "I'm a variable\n",
            "Hello class!\n",
            "12345\n",
            "123.45\n",
            "['a', 3, 'element list']\n",
            "('a', 3, 'element tuple')\n",
            "{'my': 'dictionary'}\n"
          ]
        }
      ]
    },
    {
      "cell_type": "markdown",
      "source": [
        "You'll notice that `print` adds a new line to the output every time it is called. We can add an `end=''` argument to the `print` to take away the new line."
      ],
      "metadata": {
        "id": "fvVZo039OTgW"
      }
    },
    {
      "cell_type": "code",
      "source": [
        "print(\"The magic number is \", end='')\n",
        "print(42)"
      ],
      "metadata": {
        "colab": {
          "base_uri": "https://localhost:8080/"
        },
        "id": "1hRN4YtSOZWa",
        "outputId": "a9a2fa36-94df-48fd-d046-182ed2c962d4"
      },
      "execution_count": 55,
      "outputs": [
        {
          "output_type": "stream",
          "name": "stdout",
          "text": [
            "The magic number is 42\n"
          ]
        }
      ]
    },
    {
      "cell_type": "markdown",
      "source": [
        "There is another Python feature that, though not strictly just for printing, is commonly used when printing: **text formatting**.\n",
        "\n",
        "Text formatting allows you to print multiple values in a single `print` statement and to mix strings and numbers."
      ],
      "metadata": {
        "id": "vgxL_-pPOeFJ"
      }
    },
    {
      "cell_type": "code",
      "source": [
        "print(\"%s says that the numbers %d and %f sum to %f\" % (\"Bob\", 3, 5.1, 3 + 5.1))"
      ],
      "metadata": {
        "colab": {
          "base_uri": "https://localhost:8080/"
        },
        "id": "Zx1NE1i_Oc1T",
        "outputId": "293f8a75-3784-4c85-c4d0-6bcedb067a36"
      },
      "execution_count": 56,
      "outputs": [
        {
          "output_type": "stream",
          "name": "stdout",
          "text": [
            "Bob says that the numbers 3 and 5.100000 sum to 8.100000\n"
          ]
        }
      ]
    },
    {
      "cell_type": "markdown",
      "source": [
        "There is quite a bit going on in the code above, so let's break it down into pieces:\n",
        "\n",
        "The first string we see in the `print` call is `\"%s says that the numbers %d and %f sum to %f\"`. This string contains `%s`, `%d`, and `%f` placeholders. These placeholders tell Python that we expect a string (`%s`), integer (`%d`), or floating-point number (`%f`) that we'll put in the string. (A floating-point number is any non-integer number.)\n",
        "\n",
        "Next we see a percentage sign `%` after the string. This is the string formatting operator. It comes after a string and precedes the tuple containing the data that will populate the placeholders in the string.\n",
        "\n",
        "Finally comes the tuple containing the data that will populate the placeholders. The data in the tuple should be in the same order that the placeholders appear in the string. For example, the second placeholder is `%d`, and the second item in the tuple is the integer `3`."
      ],
      "metadata": {
        "id": "zMLKs6feOmQt"
      }
    },
    {
      "cell_type": "markdown",
      "source": [
        "There is a more modern and object-oriented formatting function that can be used to achieve the same goal. Notice the placeholders in the string passed to the `print` function are all curly braces. Also, the floating-point values are truncated to the appropriate number of decimal points in the output."
      ],
      "metadata": {
        "id": "Mn61VkSYQCJC"
      }
    },
    {
      "cell_type": "code",
      "source": [
        "print(\"{} says that the numbers {} and {} sum to {}\".format(\"Bob\", 3, 5.1, 3 + 5.1))"
      ],
      "metadata": {
        "colab": {
          "base_uri": "https://localhost:8080/"
        },
        "id": "5HDrtD8UP_hL",
        "outputId": "3e44b793-f916-4785-d901-48046e8ff89c"
      },
      "execution_count": 57,
      "outputs": [
        {
          "output_type": "stream",
          "name": "stdout",
          "text": [
            "Bob says that the numbers 3 and 5.1 sum to 8.1\n"
          ]
        }
      ]
    },
    {
      "cell_type": "markdown",
      "source": [
        "When the values you want to print are saved as variables, you can also pass them in the `print` function by typing `f` before the quotation marks and putting the variable names in the curly braces."
      ],
      "metadata": {
        "id": "lXG6cDe9QHQb"
      }
    },
    {
      "cell_type": "code",
      "source": [
        "name = \"Bob\"\n",
        "value1 = 3\n",
        "value2 = 5.1\n",
        "print(f\"{name} says that the numbers {value1} and {value2} sum to {value1 + value2}\")"
      ],
      "metadata": {
        "colab": {
          "base_uri": "https://localhost:8080/"
        },
        "id": "x8OvQj4FQHDJ",
        "outputId": "05279378-0349-48d8-e835-8d3c43679839"
      },
      "execution_count": 58,
      "outputs": [
        {
          "output_type": "stream",
          "name": "stdout",
          "text": [
            "Bob says that the numbers 3 and 5.1 sum to 8.1\n"
          ]
        }
      ]
    },
    {
      "cell_type": "markdown",
      "source": [
        "# Practice Exercises"
      ],
      "metadata": {
        "id": "Z-xOynWGQWFc"
      }
    },
    {
      "cell_type": "markdown",
      "source": [
        "#### **Exercise 1: Print Statements**"
      ],
      "metadata": {
        "id": "aiT6QXlLUImJ"
      }
    },
    {
      "cell_type": "code",
      "source": [
        "#@markdown Run this cell before starting the exercise.\n",
        "#@markdown It initializes the values of some hidden variables.\n",
        "\n",
        "name = \"Alex\"\n",
        "favorite_food = \"chocolate\""
      ],
      "metadata": {
        "id": "0hlRkixpQYsU"
      },
      "execution_count": 59,
      "outputs": []
    },
    {
      "cell_type": "markdown",
      "source": [
        "We have hidden the values of variables `name` and `favorite_food` in the cell above. Use a `print` statement to find out their values."
      ],
      "metadata": {
        "id": "KNW1vG0WQdVr"
      }
    },
    {
      "cell_type": "markdown",
      "source": [
        "**Student Solution**"
      ],
      "metadata": {
        "id": "yRT4f5TJTzj3"
      }
    },
    {
      "cell_type": "code",
      "source": [],
      "metadata": {
        "id": "TYw2o1UkQab-"
      },
      "execution_count": 59,
      "outputs": []
    },
    {
      "cell_type": "markdown",
      "source": [
        "#### **Exercise 2: Four Fours Problem**\n",
        "\n",
        "Don't spend more than 15 minutes on this problem, but give it a few tries.\n",
        "\n",
        "Change the operations and add parenthesis as necessary to try and come up with as many numbers between 1 and 42 as you can."
      ],
      "metadata": {
        "id": "-x0mrAKcT31w"
      }
    },
    {
      "cell_type": "markdown",
      "source": [
        "**Student Solution**"
      ],
      "metadata": {
        "id": "7_fBgMKwUADo"
      }
    },
    {
      "cell_type": "code",
      "source": [],
      "metadata": {
        "id": "fiLje794T_cv"
      },
      "execution_count": 59,
      "outputs": []
    },
    {
      "cell_type": "markdown",
      "source": [
        "#### **Exercise 3: Operators and Comparators**"
      ],
      "metadata": {
        "id": "rS-KCGfh36Jg"
      }
    },
    {
      "cell_type": "code",
      "source": [
        "#@markdown Run this cell before starting the exercise.\n",
        "#@markdown It initializes the values of some hidden variables.\n",
        "\n",
        "favorite_letter = 'K'\n",
        "favorite_number = 42"
      ],
      "metadata": {
        "id": "-ugh-7jB3-8w"
      },
      "execution_count": 60,
      "outputs": []
    },
    {
      "cell_type": "markdown",
      "source": [
        "We've hidden the values of variables `favorite_letter` and `favorite_number` (an integer between 0 and 100). Use boolean expressions to find the values of the letter and the number."
      ],
      "metadata": {
        "id": "WvLXCQGp4FO2"
      }
    },
    {
      "cell_type": "markdown",
      "source": [
        "**Student Solution**"
      ],
      "metadata": {
        "id": "KVxI16yH4Plj"
      }
    },
    {
      "cell_type": "code",
      "source": [
        "# Edit the expression below until you discover the hidden number\n",
        "print(favorite_number <= 100)"
      ],
      "metadata": {
        "colab": {
          "base_uri": "https://localhost:8080/"
        },
        "id": "IzBkDbRb4CNY",
        "outputId": "0be7501c-d15a-4b9f-e304-9dc054a0cc46"
      },
      "execution_count": 61,
      "outputs": [
        {
          "output_type": "stream",
          "name": "stdout",
          "text": [
            "True\n"
          ]
        }
      ]
    },
    {
      "cell_type": "markdown",
      "source": [
        "**Student Solution**"
      ],
      "metadata": {
        "id": "82a9QD5m4RsT"
      }
    },
    {
      "cell_type": "code",
      "source": [
        "# Edit the expression below until you discover the hidden number\n",
        "print(favorite_letter <= 'Z')"
      ],
      "metadata": {
        "colab": {
          "base_uri": "https://localhost:8080/"
        },
        "id": "qMw6RYWn4VEE",
        "outputId": "e81babe2-7ce9-481c-89a1-c195d24f1d8e"
      },
      "execution_count": 62,
      "outputs": [
        {
          "output_type": "stream",
          "name": "stdout",
          "text": [
            "True\n"
          ]
        }
      ]
    },
    {
      "cell_type": "code",
      "source": [],
      "metadata": {
        "id": "1nJdTX1B4YoO"
      },
      "execution_count": 62,
      "outputs": []
    }
  ]
}