{
  "nbformat": 4,
  "nbformat_minor": 0,
  "metadata": {
    "colab": {
      "provenance": [],
      "authorship_tag": "ABX9TyNB/suHf3UldoE4G+L9uWXA",
      "include_colab_link": true
    },
    "kernelspec": {
      "name": "python3",
      "display_name": "Python 3"
    },
    "language_info": {
      "name": "python"
    }
  },
  "cells": [
    {
      "cell_type": "markdown",
      "metadata": {
        "id": "view-in-github",
        "colab_type": "text"
      },
      "source": [
        "<a href=\"https://colab.research.google.com/github/romerocruzsa/python-basic-training/blob/colab-uploads/PythonBasics_Part2.ipynb\" target=\"_parent\"><img src=\"https://colab.research.google.com/assets/colab-badge.svg\" alt=\"Open In Colab\"/></a>"
      ]
    },
    {
      "cell_type": "markdown",
      "source": [
        "Copyright 2020 Google LLC.\n",
        "\n",
        "*Changes made subject to discretion of revision author, Sebastián A. Cruz Romero*"
      ],
      "metadata": {
        "id": "Z3GSzSIoEqbh"
      }
    },
    {
      "cell_type": "code",
      "execution_count": 1,
      "metadata": {
        "id": "4Xourk18EpkA"
      },
      "outputs": [],
      "source": [
        "# Licensed under the Apache License, Version 2.0 (the \"License\");\n",
        "# you may not use this file except in compliance with the License.\n",
        "# You may obtain a copy of the License at\n",
        "#\n",
        "# https://www.apache.org/licenses/LICENSE-2.0\n",
        "#\n",
        "# Unless required by applicable law or agreed to in writing, software\n",
        "# distributed under the License is distributed on an \"AS IS\" BASIS,\n",
        "# WITHOUT WARRANTIES OR CONDITIONS OF ANY KIND, either express or implied.\n",
        "# See the License for the specific language governing permissions and\n",
        "# limitations under the License."
      ]
    },
    {
      "cell_type": "markdown",
      "source": [
        "# Python Basics - Part 2"
      ],
      "metadata": {
        "id": "qrS8VrCgErMy"
      }
    },
    {
      "cell_type": "markdown",
      "source": [
        "Python is the most common language used for machine learning. It is an approachable yet versatile language that's used for a variety of applications.\n",
        "\n",
        "It can take years to learn all the intricacies of Python, but luckily you can learn enough Python to become proficient in machine learning in a much shorter period of time.\n",
        "\n",
        "This Colab is a quick introduction to the core attributes of Python that you'll need to know to get started. This is only a brief peek into the parts of the language that you'll commonly encounter as a data scientist. As you progress through this course, we'll introduce you to the Python concepts you'll need along the way.\n",
        "\n",
        "If you already know Python, this lesson should be a quick refresher. You might be able to simply skip to the exercises at the bottom of the document.\n",
        "\n",
        "If you know another programming language, you will want to pay close attention because Python is markedly different than most popular languages in use today. If you are new to programming, welcome! Hopefully this lesson will give you the tools you need to get started with data science."
      ],
      "metadata": {
        "id": "W-Z0x0oUErKd"
      }
    },
    {
      "cell_type": "markdown",
      "source": [
        "### **This notebook will cover the following topics:**\n",
        "1. Basic Data Structures\n",
        "  1. Lists\n",
        "  2. Tuples\n",
        "  3. Dictionaries"
      ],
      "metadata": {
        "id": "fHWKhra7ErIA"
      }
    },
    {
      "cell_type": "markdown",
      "source": [
        "## Lists"
      ],
      "metadata": {
        "id": "-eMBWg86ErFl"
      }
    },
    {
      "cell_type": "markdown",
      "source": [
        "So far, the data types we've seen can be thought of as singular entities. We've seen:\n",
        "\n",
        "* strings\n",
        "* integers\n",
        "* floating-points\n",
        "* booleans\n",
        "\n",
        "Often, you'll find yourself needing to work with multiple data elements together. There are several options for organizing a collection of data into a data-structure. One option is to use a list.\n",
        "\n",
        "A list is just a list of multiple values."
      ],
      "metadata": {
        "id": "j9-l6yT4Eq0p"
      }
    },
    {
      "cell_type": "code",
      "source": [
        "[9, 8, 7, 6, 5]"
      ],
      "metadata": {
        "colab": {
          "base_uri": "https://localhost:8080/"
        },
        "id": "PslwQiDWQSnZ",
        "outputId": "2d7dc52a-4ee5-40cf-876a-879d0937752c"
      },
      "execution_count": 2,
      "outputs": [
        {
          "output_type": "execute_result",
          "data": {
            "text/plain": [
              "[9, 8, 7, 6, 5]"
            ]
          },
          "metadata": {},
          "execution_count": 2
        }
      ]
    },
    {
      "cell_type": "markdown",
      "source": [
        "The values in a list don't need to have the same data type."
      ],
      "metadata": {
        "id": "Ohw2HvCwQe7N"
      }
    },
    {
      "cell_type": "code",
      "source": [
        "[True, \"Shark!\", 3.4, False, 6]"
      ],
      "metadata": {
        "colab": {
          "base_uri": "https://localhost:8080/"
        },
        "id": "rdFban8TQ_a5",
        "outputId": "8434f04d-50cc-4dce-b31f-8a039114ddcb"
      },
      "execution_count": 3,
      "outputs": [
        {
          "output_type": "execute_result",
          "data": {
            "text/plain": [
              "[True, 'Shark!', 3.4, False, 6]"
            ]
          },
          "metadata": {},
          "execution_count": 3
        }
      ]
    },
    {
      "cell_type": "markdown",
      "source": [
        "You can assign a list to a variable."
      ],
      "metadata": {
        "id": "JODgw6BiR9pl"
      }
    },
    {
      "cell_type": "code",
      "source": [
        "my_list = [True, \"Shark!\", 3.4, False, 6]\n",
        "my_list"
      ],
      "metadata": {
        "colab": {
          "base_uri": "https://localhost:8080/"
        },
        "id": "nzCRW2kjQdg9",
        "outputId": "bf22a6a5-31bb-4d7e-fe80-16d174ea225f"
      },
      "execution_count": 4,
      "outputs": [
        {
          "output_type": "execute_result",
          "data": {
            "text/plain": [
              "[True, 'Shark!', 3.4, False, 6]"
            ]
          },
          "metadata": {},
          "execution_count": 4
        }
      ]
    },
    {
      "cell_type": "markdown",
      "source": [
        "You can also index a list and take slices from it, just like you can from a string. Conceptually, you can think of \"a string\" to be a sequence of characters similar to a list."
      ],
      "metadata": {
        "id": "jt0tx-5WRL07"
      }
    },
    {
      "cell_type": "code",
      "source": [
        "print(my_list[3])\n",
        "print(my_list[3:])"
      ],
      "metadata": {
        "colab": {
          "base_uri": "https://localhost:8080/"
        },
        "id": "UFnGXtihQb-b",
        "outputId": "67746328-a600-4868-f830-1bb947b8fc71"
      },
      "execution_count": 5,
      "outputs": [
        {
          "output_type": "stream",
          "name": "stdout",
          "text": [
            "False\n",
            "[False, 6]\n"
          ]
        }
      ]
    },
    {
      "cell_type": "markdown",
      "source": [
        "Indexing can also be used to selectively replace items in a list."
      ],
      "metadata": {
        "id": "DlMX1tMSSE8b"
      }
    },
    {
      "cell_type": "code",
      "source": [
        "print(my_list)\n",
        "my_list[1] = \"Wolf!\"\n",
        "print(my_list)"
      ],
      "metadata": {
        "colab": {
          "base_uri": "https://localhost:8080/"
        },
        "id": "9mk7vzNCSBlm",
        "outputId": "0c3f7b32-25ac-4add-a0b6-c35bc75bbfff"
      },
      "execution_count": 6,
      "outputs": [
        {
          "output_type": "stream",
          "name": "stdout",
          "text": [
            "[True, 'Shark!', 3.4, False, 6]\n",
            "[True, 'Wolf!', 3.4, False, 6]\n"
          ]
        }
      ]
    },
    {
      "cell_type": "markdown",
      "source": [
        "Lists have other interesting features. For example, there is an in-built method to sort a list."
      ],
      "metadata": {
        "id": "--DsN_VcSIz5"
      }
    },
    {
      "cell_type": "code",
      "source": [
        "number_list = [4, 2, 7, 9 ,3, 5, 3, 2, 9]\n",
        "number_list.sort()\n",
        "number_list"
      ],
      "metadata": {
        "colab": {
          "base_uri": "https://localhost:8080/"
        },
        "id": "MXajypSSSKga",
        "outputId": "4933e4b4-7a59-47db-ab72-c2e4b8e2a4b9"
      },
      "execution_count": 7,
      "outputs": [
        {
          "output_type": "execute_result",
          "data": {
            "text/plain": [
              "[2, 2, 3, 3, 4, 5, 7, 9, 9]"
            ]
          },
          "metadata": {},
          "execution_count": 7
        }
      ]
    },
    {
      "cell_type": "markdown",
      "source": [
        "You can append an item to a list using `append()`."
      ],
      "metadata": {
        "id": "F4EWlg-3SOFy"
      }
    },
    {
      "cell_type": "code",
      "source": [
        "letter_list = [\"a\", \"b\", \"c\"]\n",
        "letter_list.append(\"d\")\n",
        "letter_list"
      ],
      "metadata": {
        "colab": {
          "base_uri": "https://localhost:8080/"
        },
        "id": "tC7ahPBsSVG4",
        "outputId": "318ff08d-8f76-4df3-886e-66badb6a762e"
      },
      "execution_count": 8,
      "outputs": [
        {
          "output_type": "execute_result",
          "data": {
            "text/plain": [
              "['a', 'b', 'c', 'd']"
            ]
          },
          "metadata": {},
          "execution_count": 8
        }
      ]
    },
    {
      "cell_type": "markdown",
      "source": [
        "You can append multiple items to a list using `extend()`."
      ],
      "metadata": {
        "id": "pfCDC0TmSV_B"
      }
    },
    {
      "cell_type": "code",
      "source": [
        "letter_list.extend([\"e\", \"f\", \"g\"])\n",
        "letter_list"
      ],
      "metadata": {
        "colab": {
          "base_uri": "https://localhost:8080/"
        },
        "id": "pLcZpy42SX-d",
        "outputId": "3120efa8-5e81-437d-cd83-36c906f7abb2"
      },
      "execution_count": 9,
      "outputs": [
        {
          "output_type": "execute_result",
          "data": {
            "text/plain": [
              "['a', 'b', 'c', 'd', 'e', 'f', 'g']"
            ]
          },
          "metadata": {},
          "execution_count": 9
        }
      ]
    },
    {
      "cell_type": "markdown",
      "source": [
        "You can even have lists within lists!"
      ],
      "metadata": {
        "id": "I15ldXZkSaF6"
      }
    },
    {
      "cell_type": "code",
      "source": [
        "[\"List 1\", [\"List 2\", 3, 4], False]"
      ],
      "metadata": {
        "colab": {
          "base_uri": "https://localhost:8080/"
        },
        "id": "XMltOtq_SbQC",
        "outputId": "e75fe089-b0dd-471f-88c7-7f5c6d53b822"
      },
      "execution_count": 10,
      "outputs": [
        {
          "output_type": "execute_result",
          "data": {
            "text/plain": [
              "['List 1', ['List 2', 3, 4], False]"
            ]
          },
          "metadata": {},
          "execution_count": 10
        }
      ]
    },
    {
      "cell_type": "markdown",
      "source": [
        "Lists-of-lists come in really handy, especially in data science since much of the data that you'll work with will be in a tabular format. In these cases, the internal lists are typically the same size. For example, you might have a list of data points about a customer, such as their age, income, and the amount they spent at your company last month."
      ],
      "metadata": {
        "id": "5WGkOgyqSfzC"
      }
    },
    {
      "cell_type": "code",
      "source": [
        "customers = [\n",
        "    [\"C0\", 42, 56000, 12.30],\n",
        "    [\"C1\", 19, 15000, 43.21],\n",
        "    [\"C2\", 35, 123000, 45.67],\n",
        "]\n",
        "customers"
      ],
      "metadata": {
        "colab": {
          "base_uri": "https://localhost:8080/"
        },
        "id": "XjzvnDmpSgzN",
        "outputId": "343160f3-d4a3-440f-e4aa-43ff396c46cd"
      },
      "execution_count": 11,
      "outputs": [
        {
          "output_type": "execute_result",
          "data": {
            "text/plain": [
              "[['C0', 42, 56000, 12.3], ['C1', 19, 15000, 43.21], ['C2', 35, 123000, 45.67]]"
            ]
          },
          "metadata": {},
          "execution_count": 11
        }
      ]
    },
    {
      "cell_type": "markdown",
      "source": [
        "You can use multiple indexing to get data out of a nested list. In the example below, we pull out the income of our second customer."
      ],
      "metadata": {
        "id": "Q6Mk3-1RSp-a"
      }
    },
    {
      "cell_type": "code",
      "source": [
        "customers[1][2]"
      ],
      "metadata": {
        "colab": {
          "base_uri": "https://localhost:8080/"
        },
        "id": "irtaN1VISqlV",
        "outputId": "fe568356-29d4-4c0f-b75b-ef3d3fee0ef9"
      },
      "execution_count": 12,
      "outputs": [
        {
          "output_type": "execute_result",
          "data": {
            "text/plain": [
              "15000"
            ]
          },
          "metadata": {},
          "execution_count": 12
        }
      ]
    },
    {
      "cell_type": "markdown",
      "source": [
        "We will explore lists more deeply and other data structures in future tutorials."
      ],
      "metadata": {
        "id": "n2-BzETTSs6Y"
      }
    },
    {
      "cell_type": "markdown",
      "source": [
        "## Tuples"
      ],
      "metadata": {
        "id": "4qygdMBESuQB"
      }
    },
    {
      "cell_type": "markdown",
      "source": [
        "Tuples look and feel a whole lot like lists in Python. They can contain a sequence of data of any type, including lists and other tuples. The primary difference between lists and tuples is that you can't modify a tuple like you can a list.\n",
        "\n",
        "Before we get too deep into immutability (whether you can change an object's value), let's take a look at a tuple."
      ],
      "metadata": {
        "id": "vwDOaSzhSvtQ"
      }
    },
    {
      "cell_type": "code",
      "source": [
        "my_tuple = (1, \"dog\", 3.987, False, [\"a\", \"list\", \"inside\", 1.0, \"tuple\"])\n",
        "my_tuple"
      ],
      "metadata": {
        "colab": {
          "base_uri": "https://localhost:8080/"
        },
        "id": "Awe33y8XSr3D",
        "outputId": "d6af3dec-c6d3-480a-fbe5-d84d6843782a"
      },
      "execution_count": 13,
      "outputs": [
        {
          "output_type": "execute_result",
          "data": {
            "text/plain": [
              "(1, 'dog', 3.987, False, ['a', 'list', 'inside', 1.0, 'tuple'])"
            ]
          },
          "metadata": {},
          "execution_count": 13
        }
      ]
    },
    {
      "cell_type": "markdown",
      "source": [
        "The visible difference between a list and a tuple is that we create a tuple with parentheses instead of square brackets.\n",
        "\n",
        "You can index a tuple and take a slice from a tuple just like you can from a list.\n",
        "\n",
        "The only difference is that you can't change the values inside a tuple, like you can with a list. This is useful because Python can perform some optimizations when it knows a data structure can't change. This gives tuples a few powerful properties that lists don't have. We'll take a peek at one of these properties now, and we'll also learn more later in this tutorial.\n",
        "\n",
        "We will use a property of a tuple to swap the values of two variables. In most languages, you need three variables to swap the value of two variables. Here is an example."
      ],
      "metadata": {
        "id": "VnNt3YEoS2Og"
      }
    },
    {
      "cell_type": "code",
      "source": [
        "var1 = \"Python\"\n",
        "var2 = \"Perl\"\n",
        "\n",
        "tmp = var1\n",
        "var1 = var2\n",
        "var2 = tmp\n",
        "\n",
        "var1, var2"
      ],
      "metadata": {
        "colab": {
          "base_uri": "https://localhost:8080/"
        },
        "id": "VEmUirlrS2mJ",
        "outputId": "06982ea0-bf18-47e5-9582-ba11251a8be0"
      },
      "execution_count": 14,
      "outputs": [
        {
          "output_type": "execute_result",
          "data": {
            "text/plain": [
              "('Perl', 'Python')"
            ]
          },
          "metadata": {},
          "execution_count": 14
        }
      ]
    },
    {
      "cell_type": "markdown",
      "source": [
        "We had to introduce the tmp variable to perform the swap, and needed three lines of code. With tuples, we can do this more cleanly.\n",
        "\n",
        "**Note:** You might have noticed that when we put `var1`, `var2` at the bottom of the last code section a tuple was printed out. Any sequence of variables separated by commas in Python automatically creates a tuple."
      ],
      "metadata": {
        "id": "TzwZSiRtS5lj"
      }
    },
    {
      "cell_type": "code",
      "source": [
        "var1 = \"Perl\"\n",
        "var2 = \"Python\"\n",
        "\n",
        "(var1, var2) = (var2, var1)\n",
        "\n",
        "var1, var2"
      ],
      "metadata": {
        "colab": {
          "base_uri": "https://localhost:8080/"
        },
        "id": "8Im67Bn5S36_",
        "outputId": "56b6e09e-f1d1-41e5-9cf2-d0fa73e55c8c"
      },
      "execution_count": 15,
      "outputs": [
        {
          "output_type": "execute_result",
          "data": {
            "text/plain": [
              "('Python', 'Perl')"
            ]
          },
          "metadata": {},
          "execution_count": 15
        }
      ]
    },
    {
      "cell_type": "markdown",
      "source": [
        "As you can see, swapping variables using tuples is much easier to read and less error-prone than having to use three variables. It uses the property that the values in a tuple are **immutable**.\n",
        "\n",
        "Tuples come up everywhere when programming in Python. Sometimes you won't even realize that you are working with a tuple, since they are so integrated with the language."
      ],
      "metadata": {
        "id": "wDdXAzt-TCco"
      }
    },
    {
      "cell_type": "markdown",
      "source": [
        "## Dictionaries"
      ],
      "metadata": {
        "id": "d6pAGa5oTXwZ"
      }
    },
    {
      "cell_type": "markdown",
      "source": [
        "Dictionaries are another fundamental data structure in Python. If you have experience with other programming languages, you might have encountered a similar data structure with a different name such as a map, a hashmap, or a hashtable.\n",
        "\n",
        "Dictionaries contain key/value pairs. The reason this data structure is called a dictionary is because you can \"look up\" keys and find the corresponding value, just like you can look up a word in the Oxford Dictionary and find its definitions.\n",
        "\n",
        "Let's take a look at some code that creates a dictionary and accesses a value in the dictionary by key."
      ],
      "metadata": {
        "id": "aHPhctQ-Taa8"
      }
    },
    {
      "cell_type": "code",
      "source": [
        "my_dictionary = {\n",
        "    \"pet\": \"cat\",\n",
        "    \"car\": \"Tesla\",\n",
        "    \"lodging\": \"apartment\",\n",
        "}\n",
        "\n",
        "my_dictionary[\"pet\"]"
      ],
      "metadata": {
        "colab": {
          "base_uri": "https://localhost:8080/",
          "height": 35
        },
        "id": "X3DPdxSgTAD5",
        "outputId": "405cb349-c4ac-48a3-fe1a-dee8b45cb7ae"
      },
      "execution_count": 16,
      "outputs": [
        {
          "output_type": "execute_result",
          "data": {
            "text/plain": [
              "'cat'"
            ],
            "application/vnd.google.colaboratory.intrinsic+json": {
              "type": "string"
            }
          },
          "metadata": {},
          "execution_count": 16
        }
      ]
    },
    {
      "cell_type": "markdown",
      "source": [
        "Notice that we use the same *indexing* notation that should be familiar to you from strings, lists, and tuples. However, instead of a numeric index, the look up is done by key.\n",
        "\n",
        "A key can be any non-mutable data value. Keys can be numbers, strings, and even tuples. You can't use a dictionary or list as a key, but you can use them as values.\n",
        "\n",
        "The data types of the keys do not need to be the same."
      ],
      "metadata": {
        "id": "cUAJ58cdTg0S"
      }
    },
    {
      "cell_type": "code",
      "source": [
        "the_dictionary = {\n",
        "    57: \"the sneaky fox\",\n",
        "    \"many things\": [1, \"little list\", \" of \", 5.0, \"things\"],\n",
        "    (8, \"ocho\"): \"Hi there\",\n",
        "    \"KEY_ONE\": {\n",
        "        \"a\": \"dictionary\",\n",
        "        \"as a\": \"value\"\n",
        "    },\n",
        "}\n",
        "\n",
        "the_dictionary[(8, \"ocho\")]"
      ],
      "metadata": {
        "colab": {
          "base_uri": "https://localhost:8080/",
          "height": 35
        },
        "id": "4roxPvoKTekr",
        "outputId": "3500ffae-bca7-4076-a3f7-32b68cfaf8d0"
      },
      "execution_count": 17,
      "outputs": [
        {
          "output_type": "execute_result",
          "data": {
            "text/plain": [
              "'Hi there'"
            ],
            "application/vnd.google.colaboratory.intrinsic+json": {
              "type": "string"
            }
          },
          "metadata": {},
          "execution_count": 17
        }
      ]
    },
    {
      "cell_type": "markdown",
      "source": [
        "The dictionary above is much more unstructured than dictionaries that you'll typically encounter in practice. However, it illustrates the broad range of key types and value types that a dictionary can store.\n",
        "\n",
        "You can also index many levels down in a dictionary. For example, in `the_dictionary` above, there is a sub-dictionary at the `KEY_ONE` key. Let's pull something out of this dictionary within a dictionary."
      ],
      "metadata": {
        "id": "Eb8ldgZkTo9Y"
      }
    },
    {
      "cell_type": "code",
      "source": [
        "the_dictionary[\"KEY_ONE\"]['as a']"
      ],
      "metadata": {
        "colab": {
          "base_uri": "https://localhost:8080/",
          "height": 35
        },
        "id": "W_AfEQH_TlOd",
        "outputId": "a32bf6da-acec-4c57-8749-514cc4b0d2ca"
      },
      "execution_count": 18,
      "outputs": [
        {
          "output_type": "execute_result",
          "data": {
            "text/plain": [
              "'value'"
            ],
            "application/vnd.google.colaboratory.intrinsic+json": {
              "type": "string"
            }
          },
          "metadata": {},
          "execution_count": 18
        }
      ]
    },
    {
      "cell_type": "markdown",
      "source": [
        "We can also use indexing to access the values of the list that is the value in `the_dictionary` for the key `\"many things\"`."
      ],
      "metadata": {
        "id": "0wwKztk7TyVq"
      }
    },
    {
      "cell_type": "code",
      "source": [
        "the_dictionary[\"many things\"][1]"
      ],
      "metadata": {
        "colab": {
          "base_uri": "https://localhost:8080/",
          "height": 35
        },
        "id": "tm16TiJCTwji",
        "outputId": "958cb67f-a5d6-43c6-9757-a310c49c6f65"
      },
      "execution_count": 19,
      "outputs": [
        {
          "output_type": "execute_result",
          "data": {
            "text/plain": [
              "'little list'"
            ],
            "application/vnd.google.colaboratory.intrinsic+json": {
              "type": "string"
            }
          },
          "metadata": {},
          "execution_count": 19
        }
      ]
    },
    {
      "cell_type": "markdown",
      "source": [
        "Dictionaries, lists, tuples, and other data structures can contain as much nesting as you need.\n",
        "\n",
        "Dictionaries store their values by key. Only one value can exist per key, so if you write a new value to a key, the old value goes away."
      ],
      "metadata": {
        "id": "3f1vTWYrT6xK"
      }
    },
    {
      "cell_type": "code",
      "source": [
        "my_dictionary = {\n",
        "    \"k1\": \"name\",\n",
        "    \"k2\": \"age\"\n",
        "}\n",
        "\n",
        "my_dictionary[\"k1\"] = \"surname\"\n",
        "\n",
        "my_dictionary"
      ],
      "metadata": {
        "colab": {
          "base_uri": "https://localhost:8080/"
        },
        "id": "NYgtyrF9T87t",
        "outputId": "3344e9ab-5d70-4b24-a192-4fd5112dd69c"
      },
      "execution_count": 20,
      "outputs": [
        {
          "output_type": "execute_result",
          "data": {
            "text/plain": [
              "{'k1': 'surname', 'k2': 'age'}"
            ]
          },
          "metadata": {},
          "execution_count": 20
        }
      ]
    },
    {
      "cell_type": "markdown",
      "source": [
        "You can add entiries to a dictionary by assigning them to a key."
      ],
      "metadata": {
        "id": "mE1dEMzaUBQ9"
      }
    },
    {
      "cell_type": "code",
      "source": [
        "del my_dictionary[\"k2\"]\n",
        "\n",
        "my_dictionary"
      ],
      "metadata": {
        "colab": {
          "base_uri": "https://localhost:8080/"
        },
        "id": "Msh636-4T_be",
        "outputId": "e962e72c-ea9d-41f7-bc27-f28b21dc2669"
      },
      "execution_count": 21,
      "outputs": [
        {
          "output_type": "execute_result",
          "data": {
            "text/plain": [
              "{'k1': 'surname'}"
            ]
          },
          "metadata": {},
          "execution_count": 21
        }
      ]
    },
    {
      "cell_type": "markdown",
      "source": [
        "To see if a key exists in a dictionary, you can use the in operator. Notice that it returns a boolean value."
      ],
      "metadata": {
        "id": "VheYOoxAUash"
      }
    },
    {
      "cell_type": "code",
      "source": [
        "\"k2\" in my_dictionary"
      ],
      "metadata": {
        "colab": {
          "base_uri": "https://localhost:8080/"
        },
        "id": "0mEdHUsEUbjA",
        "outputId": "54f33453-0077-402a-e061-412838119496"
      },
      "execution_count": 22,
      "outputs": [
        {
          "output_type": "execute_result",
          "data": {
            "text/plain": [
              "False"
            ]
          },
          "metadata": {},
          "execution_count": 22
        }
      ]
    },
    {
      "cell_type": "markdown",
      "source": [
        "It is advisable to check if a key exists in a dictionary before trying to index that key. If you try to access a key that doesn't exist using square brackets, your program will throw an error and possibly crash.\n",
        "\n",
        "There is also a safer **`get`** method on the dictionary object. You provide `get` with a key and a default value to return if the key isn't present."
      ],
      "metadata": {
        "id": "FwWlKRkqVAJw"
      }
    },
    {
      "cell_type": "code",
      "source": [
        "my_dictionary.get(\"k2\", \"There is no 'k2' key value\")"
      ],
      "metadata": {
        "colab": {
          "base_uri": "https://localhost:8080/",
          "height": 35
        },
        "id": "r-AtYdiPVNS8",
        "outputId": "b980b761-ff85-44b9-9af0-197164be9555"
      },
      "execution_count": 23,
      "outputs": [
        {
          "output_type": "execute_result",
          "data": {
            "text/plain": [
              "\"There is no 'k2' key value\""
            ],
            "application/vnd.google.colaboratory.intrinsic+json": {
              "type": "string"
            }
          },
          "metadata": {},
          "execution_count": 23
        }
      ]
    },
    {
      "cell_type": "markdown",
      "source": [
        "For more on dictionaries, check out the [official Python dictionary documentation](https://docs.python.org/3/tutorial/datastructures.html#dictionaries).\n",
        "\n",
        "We've learned about the most fundamental data structures in Python:\n",
        "\n",
        "* numbers\n",
        "* booleans\n",
        "* lists\n",
        "* tuples\n",
        "* dictionaries\n",
        "\n",
        "We've learned how to store data in variables and how to change data in variables, dictionaries and lists. Each of these data types have more functionality than we have gone over in this tutorial, so please take some time to get a broader idea of what can be done with these data types in Python.\n",
        "\n",
        "There are also many data types that we did not cover. As we encounter the need for other types of data in our study of machine learning and data science, we will introduce and explain some of them."
      ],
      "metadata": {
        "id": "4dZfS5HTVWrY"
      }
    }
  ]
}