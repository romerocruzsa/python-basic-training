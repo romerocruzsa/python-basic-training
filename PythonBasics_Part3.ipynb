{
  "nbformat": 4,
  "nbformat_minor": 0,
  "metadata": {
    "colab": {
      "provenance": [],
      "collapsed_sections": [
        "I5aapsAv8230",
        "BOIuzxk0-kYH",
        "FBA6wQRK_CoB"
      ],
      "authorship_tag": "ABX9TyNnh9fCp+CLkpB+O8Pq2YRv",
      "include_colab_link": true
    },
    "kernelspec": {
      "name": "python3",
      "display_name": "Python 3"
    },
    "language_info": {
      "name": "python"
    }
  },
  "cells": [
    {
      "cell_type": "markdown",
      "metadata": {
        "id": "view-in-github",
        "colab_type": "text"
      },
      "source": [
        "<a href=\"https://colab.research.google.com/github/romerocruzsa/python-basic-training/blob/colab-uploads/PythonBasics_Part3.ipynb\" target=\"_parent\"><img src=\"https://colab.research.google.com/assets/colab-badge.svg\" alt=\"Open In Colab\"/></a>"
      ]
    },
    {
      "cell_type": "markdown",
      "source": [
        "Copyright 2020 Google LLC.\n",
        "\n",
        "*Changes made subject to discretion of revision author, Sebastián A. Cruz Romero*"
      ],
      "metadata": {
        "id": "VacbToADDZkW"
      }
    },
    {
      "cell_type": "code",
      "source": [
        "# Licensed under the Apache License, Version 2.0 (the \"License\");\n",
        "# you may not use this file except in compliance with the License.\n",
        "# You may obtain a copy of the License at\n",
        "#\n",
        "# https://www.apache.org/licenses/LICENSE-2.0\n",
        "#\n",
        "# Unless required by applicable law or agreed to in writing, software\n",
        "# distributed under the License is distributed on an \"AS IS\" BASIS,\n",
        "# WITHOUT WARRANTIES OR CONDITIONS OF ANY KIND, either express or implied.\n",
        "# See the License for the specific language governing permissions and\n",
        "# limitations under the License."
      ],
      "metadata": {
        "id": "L0TGNyDDDaSi"
      },
      "execution_count": 1,
      "outputs": []
    },
    {
      "cell_type": "markdown",
      "source": [
        "# Python Basics - Part 3"
      ],
      "metadata": {
        "id": "Ief-DfBf420S"
      }
    },
    {
      "cell_type": "markdown",
      "source": [
        "Python is the most common language used for machine learning. It is an approachable yet versatile language that's used for a variety of applications.\n",
        "\n",
        "It can take years to learn all the intricacies of Python, but luckily you can learn enough Python to become proficient in machine learning in a much shorter period of time.\n",
        "\n",
        "This Colab is a quick introduction to the core attributes of Python that you'll need to know to get started. This is only a brief peek into the parts of the language that you'll commonly encounter as a data scientist. As you progress through this course, we'll introduce you to the Python concepts you'll need along the way.\n",
        "\n",
        "If you already know Python, this lesson should be a quick refresher. You might be able to simply skip to the exercises at the bottom of the document.\n",
        "\n",
        "If you know another programming language, you will want to pay close attention because Python is markedly different than most popular languages in use today. If you are new to programming, welcome! Hopefully this lesson will give you the tools you need to get started with data science."
      ],
      "metadata": {
        "id": "blRqctBt5BLf"
      }
    },
    {
      "cell_type": "markdown",
      "source": [
        "### **This notebook will cover the following topics:**\n",
        "1. Conditional Decisions\n",
        "2. Loops\n",
        "  1. For\n",
        "  2. While\n",
        "  3. Break\n",
        "  4. Continue\n",
        "  5. Pass\n",
        "3. Functions"
      ],
      "metadata": {
        "id": "CnaJiFdm5EKq"
      }
    },
    {
      "cell_type": "markdown",
      "source": [
        "## Conditional Decisions"
      ],
      "metadata": {
        "id": "Wds5K7P96ool"
      }
    },
    {
      "cell_type": "markdown",
      "source": [
        "One of the most common patterns in computer science and data science is the 'if' statement. You can use 'if' to check if a condition is met, and do different things based on whether it is met or not. The 'if' statement looks at a boolean value and if that value is 'True', runs some code."
      ],
      "metadata": {
        "id": "Jb4e-BCN627w"
      }
    },
    {
      "cell_type": "code",
      "execution_count": 2,
      "metadata": {
        "colab": {
          "base_uri": "https://localhost:8080/"
        },
        "id": "ooZtHD0Q408j",
        "outputId": "fe128b73-e32a-4596-8c78-947ca37b8466"
      },
      "outputs": [
        {
          "output_type": "stream",
          "name": "stdout",
          "text": [
            "One is less than three\n"
          ]
        }
      ],
      "source": [
        "if 1 > 3:\n",
        "  print(\"One is greater than three\")\n",
        "\n",
        "if 1 < 3:\n",
        "  print(\"One is less than three\")"
      ]
    },
    {
      "cell_type": "markdown",
      "source": [
        "Only the second print statement is run, since it is not `True` that `1 > 3` but it is `True` that `1 < 3`.\n",
        "\n",
        "Notice that the two `print` statements are indented beneath each `if` statement. This isn't by accident. Python creates \"blocks\" of code using the code's indentation level. This indentation can be done with tabs or with spaces, but it must be consistent throughout your code file."
      ],
      "metadata": {
        "id": "UVlIJ07m7RlQ"
      }
    },
    {
      "cell_type": "markdown",
      "source": [
        "```\n",
        "block 1\n",
        " block 1.1\n",
        "   block 1.1.1\n",
        "\n",
        "   block 1.1.1\n",
        "\n",
        " block 1.1\n",
        "```"
      ],
      "metadata": {
        "id": "GKHqE3PX7kwh"
      }
    },
    {
      "cell_type": "markdown",
      "source": [
        "The code below shows blocks in action."
      ],
      "metadata": {
        "id": "yC6-Nj5I7swu"
      }
    },
    {
      "cell_type": "code",
      "source": [
        "if False:\n",
        "  print(\"This shouldn't print.\")\n",
        "print(\"But this will always print.\")"
      ],
      "metadata": {
        "colab": {
          "base_uri": "https://localhost:8080/"
        },
        "id": "gskS9FJR7O5n",
        "outputId": "3e665dd2-fa27-4d00-f8cc-c092bd7671f9"
      },
      "execution_count": 3,
      "outputs": [
        {
          "output_type": "stream",
          "name": "stdout",
          "text": [
            "But this will always print.\n"
          ]
        }
      ]
    },
    {
      "cell_type": "markdown",
      "source": [
        "In many situations, you will want to run some code if a condition is met, and some different code when it is not. For this, you can use `else`."
      ],
      "metadata": {
        "id": "Vawjuvwy70Gj"
      }
    },
    {
      "cell_type": "code",
      "source": [
        "if 1 > 3:\n",
        "  print(\"Math as we know it is broken!\")\n",
        "else:\n",
        "  print(\"Everything looks normal.\")"
      ],
      "metadata": {
        "colab": {
          "base_uri": "https://localhost:8080/"
        },
        "id": "NHlQpvKU7ogE",
        "outputId": "9f8b03dc-c7c5-4a8e-9a55-9aab70b4f416"
      },
      "execution_count": 4,
      "outputs": [
        {
          "output_type": "stream",
          "name": "stdout",
          "text": [
            "Everything looks normal.\n"
          ]
        }
      ]
    },
    {
      "cell_type": "markdown",
      "source": [
        "You might also want to check many if conditions and only execute the code if one condition passes. For this, you can use the `elif` clause (short for \"else if\").\n",
        "\n",
        "For example, these would be useful if we wanted to do a simple rock, paper, scissors game."
      ],
      "metadata": {
        "id": "Ub4ylvNr8MgO"
      }
    },
    {
      "cell_type": "code",
      "source": [
        "# Choose a random option from the list for the computer player.\n",
        "import random\n",
        "computer = random.choice([\"rock\", \"paper\", \"scissors\"])\n",
        "\n",
        "my_choice = \"paper\" # Feel free to change this.\n",
        "\n",
        "print(f\"You chose {my_choice}!\")\n",
        "print(f\"The computer chose {computer}!\")\n",
        "\n",
        "if my_choice == computer:\n",
        "  print(\"Draw! Go again!\")\n",
        "\n",
        "elif my_choice == \"rock\" and computer == \"paper\":\n",
        "  print(\"The computer wins. Try again?\")\n",
        "\n",
        "elif my_choice == \"rock\" and computer == \"scissors\":\n",
        "  print(\"You smashed the computer's scissors!\")\n",
        "\n",
        "elif my_choice == \"paper\" and computer == \"rock\":\n",
        "  print(\"You wrapped up the computer's rock!\")\n",
        "\n",
        "elif my_choice == \"paper\" and computer == \"scissors\":\n",
        "  print(\"The computer wins. Try again?\")\n",
        "\n",
        "elif my_choice == \"scissors\" and computer == \"rock\":\n",
        "  print(\"The computer wins. Try again?\")\n",
        "\n",
        "elif my_choice == \"scissors\" and computer == \"paper\":\n",
        "  print(\"You sliced up the computer's paper!\")"
      ],
      "metadata": {
        "colab": {
          "base_uri": "https://localhost:8080/"
        },
        "id": "Itbifo0x8HIh",
        "outputId": "087430c6-9e95-411d-b315-5e61b041a922"
      },
      "execution_count": 5,
      "outputs": [
        {
          "output_type": "stream",
          "name": "stdout",
          "text": [
            "You chose paper!\n",
            "The computer chose paper!\n",
            "Draw! Go again!\n"
          ]
        }
      ]
    },
    {
      "cell_type": "markdown",
      "source": [
        "## Loops"
      ],
      "metadata": {
        "id": "gJBN7u5T_hVZ"
      }
    },
    {
      "cell_type": "markdown",
      "source": [
        "### `for` Loops"
      ],
      "metadata": {
        "id": "I5aapsAv8230"
      }
    },
    {
      "cell_type": "markdown",
      "source": [
        "The `for` loop is a powerful tool that lets us look at every item in a data structure in order and perform operations on each element."
      ],
      "metadata": {
        "id": "-ZP7qeeB87bb"
      }
    },
    {
      "cell_type": "code",
      "source": [
        "my_list = ['a', 'b', 'c']\n",
        "\n",
        "for item in my_list:\n",
        "  print(item)"
      ],
      "metadata": {
        "colab": {
          "base_uri": "https://localhost:8080/"
        },
        "id": "r7czhQZI8x0G",
        "outputId": "b4a4eddb-9298-43b9-c640-75261585a63b"
      },
      "execution_count": 6,
      "outputs": [
        {
          "output_type": "stream",
          "name": "stdout",
          "text": [
            "a\n",
            "b\n",
            "c\n"
          ]
        }
      ]
    },
    {
      "cell_type": "markdown",
      "source": [
        "As you can see, the `for` loop executes `print` three times. once for each item in the list."
      ],
      "metadata": {
        "id": "7EQO11ZH9AIy"
      }
    },
    {
      "cell_type": "markdown",
      "source": [
        "The `for` loop works for tuples too."
      ],
      "metadata": {
        "id": "fYjMc3gn9IqQ"
      }
    },
    {
      "cell_type": "code",
      "source": [
        "my_tuple = (5, 3, 1, -1, -3, -5)\n",
        "for x in my_tuple:\n",
        "  print(x)"
      ],
      "metadata": {
        "colab": {
          "base_uri": "https://localhost:8080/"
        },
        "id": "OZUylP5y8_Bo",
        "outputId": "9dfc4cc0-fce1-4193-ef3a-1cb954e0c761"
      },
      "execution_count": 7,
      "outputs": [
        {
          "output_type": "stream",
          "name": "stdout",
          "text": [
            "5\n",
            "3\n",
            "1\n",
            "-1\n",
            "-3\n",
            "-5\n"
          ]
        }
      ]
    },
    {
      "cell_type": "markdown",
      "source": [
        "Dictionaries are a little more interesting. By default, the loop works by indexing the keys."
      ],
      "metadata": {
        "id": "AS2IjmXQ9PpL"
      }
    },
    {
      "cell_type": "code",
      "source": [
        "my_dictionary = {\n",
        "    \"first_name\": \"Jane\",\n",
        "    \"last_name\": \"Doe\",\n",
        "    \"title\": \"Dr.\"\n",
        "}\n",
        "\n",
        "for k in my_dictionary:\n",
        "  print(f\"{k}: {my_dictionary[k]}\")"
      ],
      "metadata": {
        "colab": {
          "base_uri": "https://localhost:8080/"
        },
        "id": "hRUnjR3J9OVf",
        "outputId": "e2f278ef-e34b-46db-839a-638f278c051d"
      },
      "execution_count": 8,
      "outputs": [
        {
          "output_type": "stream",
          "name": "stdout",
          "text": [
            "first_name: Jane\n",
            "last_name: Doe\n",
            "title: Dr.\n"
          ]
        }
      ]
    },
    {
      "cell_type": "markdown",
      "source": [
        "If only the dictionary's values are of concern to you, it is possible to ask the dictionary to return its values by using the `values()` method."
      ],
      "metadata": {
        "id": "nicq64EM9XQk"
      }
    },
    {
      "cell_type": "code",
      "source": [
        "for v in my_dictionary.values():\n",
        "  print(v)"
      ],
      "metadata": {
        "colab": {
          "base_uri": "https://localhost:8080/"
        },
        "id": "iBLDj5ED9R96",
        "outputId": "b26cf79e-c97f-43cd-fc49-13a2c2edd4af"
      },
      "execution_count": 9,
      "outputs": [
        {
          "output_type": "stream",
          "name": "stdout",
          "text": [
            "Jane\n",
            "Doe\n",
            "Dr.\n"
          ]
        }
      ]
    },
    {
      "cell_type": "markdown",
      "source": [
        "If you want both the keys and the values without needing to lookup up `my_dictionary[k]`, you can ask the dictionary for its `items()`."
      ],
      "metadata": {
        "id": "v0kkAQ4E9dP7"
      }
    },
    {
      "cell_type": "code",
      "source": [
        "for (k, v) in my_dictionary.items():\n",
        "  print(f\"{k}: {v}\")"
      ],
      "metadata": {
        "colab": {
          "base_uri": "https://localhost:8080/"
        },
        "id": "ZA_oLyXl9bXR",
        "outputId": "d3177cc4-d2dc-4e9e-e4e0-059db810fd1b"
      },
      "execution_count": 10,
      "outputs": [
        {
          "output_type": "stream",
          "name": "stdout",
          "text": [
            "first_name: Jane\n",
            "last_name: Doe\n",
            "title: Dr.\n"
          ]
        }
      ]
    },
    {
      "cell_type": "markdown",
      "source": [
        "You can also use `for` to operate on a string character by character. Each item in a string is a single character."
      ],
      "metadata": {
        "id": "1PixYojN9kGk"
      }
    },
    {
      "cell_type": "code",
      "source": [
        "for c in \"this string\":\n",
        "  print(c)"
      ],
      "metadata": {
        "colab": {
          "base_uri": "https://localhost:8080/"
        },
        "id": "sCIIKoHe9a-B",
        "outputId": "acd919b0-b4c4-4ad5-899f-9e1700ba9b1a"
      },
      "execution_count": 11,
      "outputs": [
        {
          "output_type": "stream",
          "name": "stdout",
          "text": [
            "t\n",
            "h\n",
            "i\n",
            "s\n",
            " \n",
            "s\n",
            "t\n",
            "r\n",
            "i\n",
            "n\n",
            "g\n"
          ]
        }
      ]
    },
    {
      "cell_type": "markdown",
      "source": [
        "If you want to iterate over a list or tuple and need the index of each item, you can use the `range` function along with the `len` function to get the indices of the list or tuple."
      ],
      "metadata": {
        "id": "ZB-qaS9m9re_"
      }
    },
    {
      "cell_type": "code",
      "source": [
        "for i in range(len(my_list)):\n",
        "  print(f\"{i}: {my_list[i]}\")"
      ],
      "metadata": {
        "colab": {
          "base_uri": "https://localhost:8080/"
        },
        "id": "Y9s6INnU9ojP",
        "outputId": "953d7c1a-dc3f-4bbd-fe6b-e96573c945cc"
      },
      "execution_count": 12,
      "outputs": [
        {
          "output_type": "stream",
          "name": "stdout",
          "text": [
            "0: a\n",
            "1: b\n",
            "2: c\n"
          ]
        }
      ]
    },
    {
      "cell_type": "markdown",
      "source": [
        "`range` is a function that returns a sequence of numbers. It can take one argument, two arguments, or three arguments.\n",
        "\n",
        "When you give one argument to `range`, it is considered to be the end of the range (exclusive)."
      ],
      "metadata": {
        "id": "E7Ps2jp797hb"
      }
    },
    {
      "cell_type": "code",
      "source": [
        "for i in range(5):\n",
        "    print(i)"
      ],
      "metadata": {
        "colab": {
          "base_uri": "https://localhost:8080/"
        },
        "id": "dcHAI6Uu91mz",
        "outputId": "602e4441-5195-40b8-d21f-958280128c98"
      },
      "execution_count": 13,
      "outputs": [
        {
          "output_type": "stream",
          "name": "stdout",
          "text": [
            "0\n",
            "1\n",
            "2\n",
            "3\n",
            "4\n"
          ]
        }
      ]
    },
    {
      "cell_type": "markdown",
      "source": [
        "When you give two arguments to `range`, they are considered to be the start (inclusive) and end (exclusive) of the sequence."
      ],
      "metadata": {
        "id": "Hx0so86q-H_D"
      }
    },
    {
      "cell_type": "code",
      "source": [
        "for i in range(6, 12):\n",
        "    print(i)"
      ],
      "metadata": {
        "colab": {
          "base_uri": "https://localhost:8080/"
        },
        "id": "VbiJOk61-GHP",
        "outputId": "7824408c-169a-4236-9dc3-3aee1795b6c5"
      },
      "execution_count": 14,
      "outputs": [
        {
          "output_type": "stream",
          "name": "stdout",
          "text": [
            "6\n",
            "7\n",
            "8\n",
            "9\n",
            "10\n",
            "11\n"
          ]
        }
      ]
    },
    {
      "cell_type": "markdown",
      "source": [
        "When you give three arguments to `range`, they are considered to be the start (inclusive), end (exclusive), and step size of the sequence."
      ],
      "metadata": {
        "id": "Xxk7ydXX-OUa"
      }
    },
    {
      "cell_type": "code",
      "source": [
        "for i in range(20, 100, 10):\n",
        "    print(i)"
      ],
      "metadata": {
        "colab": {
          "base_uri": "https://localhost:8080/"
        },
        "id": "-7D3a_yX-MlH",
        "outputId": "491005ee-31c9-4539-84b2-85b973351176"
      },
      "execution_count": 15,
      "outputs": [
        {
          "output_type": "stream",
          "name": "stdout",
          "text": [
            "20\n",
            "30\n",
            "40\n",
            "50\n",
            "60\n",
            "70\n",
            "80\n",
            "90\n"
          ]
        }
      ]
    },
    {
      "cell_type": "markdown",
      "source": [
        "Ranges are lazily evaluated so even very large ranges will not occupy a significant amount of memory.\n",
        "\n",
        "`for` loops can also be useful for making a list. For example, if we want to generate a list of random numbers, we could use the `random` library within a `for` loop."
      ],
      "metadata": {
        "id": "TdtQ84vB-Xau"
      }
    },
    {
      "cell_type": "code",
      "source": [
        "import random\n",
        "\n",
        "random_numbers = []\n",
        "for i in range(10):\n",
        "    random_numbers.append(random.randint(0, 10))\n",
        "print(random_numbers)"
      ],
      "metadata": {
        "colab": {
          "base_uri": "https://localhost:8080/"
        },
        "id": "JOM4J_Eu-W_I",
        "outputId": "b8782ce5-3ef7-4eb4-ef8a-a50192ba3048"
      },
      "execution_count": 16,
      "outputs": [
        {
          "output_type": "stream",
          "name": "stdout",
          "text": [
            "[9, 6, 1, 7, 10, 0, 9, 8, 3, 5]\n"
          ]
        }
      ]
    },
    {
      "cell_type": "markdown",
      "source": [
        "### `while` Loops"
      ],
      "metadata": {
        "id": "BOIuzxk0-kYH"
      }
    },
    {
      "cell_type": "markdown",
      "source": [
        "The `while` loop allows you to repeat a block of code until some arbitrary condition is met."
      ],
      "metadata": {
        "id": "95z0B1bu-ubB"
      }
    },
    {
      "cell_type": "code",
      "source": [
        "counter = 0\n",
        "\n",
        "while counter < 5:\n",
        "  print(\"Not done yet, counter = %d\" % counter)\n",
        "  counter += 1\n",
        "\n",
        "print(\"Done, counter = %d\" % counter)"
      ],
      "metadata": {
        "colab": {
          "base_uri": "https://localhost:8080/"
        },
        "id": "AZ07tVGX-pCY",
        "outputId": "da579d05-5956-4075-c957-fb045c3f2565"
      },
      "execution_count": 17,
      "outputs": [
        {
          "output_type": "stream",
          "name": "stdout",
          "text": [
            "Not done yet, counter = 0\n",
            "Not done yet, counter = 1\n",
            "Not done yet, counter = 2\n",
            "Not done yet, counter = 3\n",
            "Not done yet, counter = 4\n",
            "Done, counter = 5\n"
          ]
        }
      ]
    },
    {
      "cell_type": "markdown",
      "source": [
        "`while` loops can be useful in many situations, especially those when you don't know for sure how many times you might need to loop.\n",
        "\n",
        "**Note:** You might have also noticed the `+=` operator in the example above. This is a shortcut that Python provides so that we don't have to write out `counter = counter + 1`. There are equivalents for subtraction, multiplication, division, and more."
      ],
      "metadata": {
        "id": "JxTTDBDR-065"
      }
    },
    {
      "cell_type": "markdown",
      "source": [
        "### `break`"
      ],
      "metadata": {
        "id": "FBA6wQRK_CoB"
      }
    },
    {
      "cell_type": "markdown",
      "source": [
        "There are times when you might want to exit a loop before it is complete. For this case, you can use the break statement.\n",
        "\n",
        "In the example below, the `break` statement causes the loop to exit after only five iterations, despite having a range of 1,000,000 numbers to iterate."
      ],
      "metadata": {
        "id": "DYwD-vsV_H0U"
      }
    },
    {
      "cell_type": "code",
      "source": [
        "for x in range(1000000):\n",
        "  if x >= 5:\n",
        "    break\n",
        "  print(x)"
      ],
      "metadata": {
        "colab": {
          "base_uri": "https://localhost:8080/"
        },
        "id": "NJpN9hKj_F1Y",
        "outputId": "e84bb854-0aee-4f78-f2e9-305593f1332f"
      },
      "execution_count": 18,
      "outputs": [
        {
          "output_type": "stream",
          "name": "stdout",
          "text": [
            "0\n",
            "1\n",
            "2\n",
            "3\n",
            "4\n"
          ]
        }
      ]
    },
    {
      "cell_type": "markdown",
      "source": [
        "### `continue`"
      ],
      "metadata": {
        "id": "D_339V5y_NOy"
      }
    },
    {
      "cell_type": "markdown",
      "source": [
        "`continue` is similar to `break`, but instead of exiting the loop entirely, it just skips the current iteration.\n",
        "\n",
        "Let's see this in action with a loop that prints numbers between 0 and 7 except 4 and 6."
      ],
      "metadata": {
        "id": "MM_6Tfpy_YOA"
      }
    },
    {
      "cell_type": "code",
      "source": [
        "for x in range(10):\n",
        "  if x == 4 or x == 6:\n",
        "    continue\n",
        "  print(x)"
      ],
      "metadata": {
        "colab": {
          "base_uri": "https://localhost:8080/"
        },
        "id": "CtELKYTP_Lp5",
        "outputId": "6d83d338-4f66-4d24-9a0e-ce7231f77f46"
      },
      "execution_count": 19,
      "outputs": [
        {
          "output_type": "stream",
          "name": "stdout",
          "text": [
            "0\n",
            "1\n",
            "2\n",
            "3\n",
            "5\n",
            "7\n",
            "8\n",
            "9\n"
          ]
        }
      ]
    },
    {
      "cell_type": "markdown",
      "source": [
        "### `pass`"
      ],
      "metadata": {
        "id": "XMXLwNC1_6jS"
      }
    },
    {
      "cell_type": "markdown",
      "source": [
        "`pass` is Python keyword that is used as a placeholder when code hasn't been written yet. You'll see `pass` often in your exercises as a placeholder for the code you'll need to write."
      ],
      "metadata": {
        "id": "wB0oxyYn__Mt"
      }
    },
    {
      "cell_type": "code",
      "source": [
        "def do_nothing_function():\n",
        "  pass\n",
        "\n",
        "do_nothing_function()"
      ],
      "metadata": {
        "id": "-PowJ_pDAIhp"
      },
      "execution_count": 20,
      "outputs": []
    },
    {
      "cell_type": "markdown",
      "source": [
        "## Functions"
      ],
      "metadata": {
        "id": "7X7SzPV9_sKI"
      }
    },
    {
      "cell_type": "markdown",
      "source": [
        "Functions are a way to organize and re-use your code. Functions allow you to take a block of your code, give it a name, and then call that code by name as many times as you need to.\n",
        "\n",
        "Functions are defined in Python using the `def` statement."
      ],
      "metadata": {
        "id": "cDqfvbfaATC3"
      }
    },
    {
      "cell_type": "code",
      "source": [
        "def my_function():\n",
        "  print(\"I wrote a function\")\n",
        "\n",
        "my_function()\n",
        "my_function()\n",
        "my_function()"
      ],
      "metadata": {
        "colab": {
          "base_uri": "https://localhost:8080/"
        },
        "id": "pmMHVCxK_5yw",
        "outputId": "b98352c4-5b97-4fca-c50c-e53dcdafe39b"
      },
      "execution_count": 21,
      "outputs": [
        {
          "output_type": "stream",
          "name": "stdout",
          "text": [
            "I wrote a function\n",
            "I wrote a function\n",
            "I wrote a function\n"
          ]
        }
      ]
    },
    {
      "cell_type": "markdown",
      "source": [
        "Standard function definitions always begin with the `def` keyword followed by the name of the function. Function naming follows the same rules as variable naming."
      ],
      "metadata": {
        "id": "9gvTBOirAZwF"
      }
    },
    {
      "cell_type": "markdown",
      "source": [
        "All function definitions are composed of:\n",
        "\n",
        "* The `def` keyword which tells Python you are about to define a function\n",
        "* Any arguments that you want to pass to the function, wrapped in parentheses (more details on this below)\n",
        "* A colon to end the statement"
      ],
      "metadata": {
        "id": "NaaBg39hAZyt"
      }
    },
    {
      "cell_type": "markdown",
      "source": [
        "The function's code is indented under the function definition.\n",
        "\n",
        "The arguments that come between the parentheses hold the names of variables that can be used in the function. Function arguments, also called parameters, are used to provide the function with data.\n",
        "\n",
        "**Note:** The reason `my_function` above has nothing within the parentheses is because that particular function has no arguments. A function can have zero or more arguments."
      ],
      "metadata": {
        "id": "11MPz-3dAZ1_"
      }
    },
    {
      "cell_type": "code",
      "source": [
        "def doubler(n):\n",
        "  print(n*2)\n",
        "\n",
        "doubler(2)"
      ],
      "metadata": {
        "colab": {
          "base_uri": "https://localhost:8080/"
        },
        "id": "yO8bOhLLAYL3",
        "outputId": "3b8ca17a-a99b-458b-939f-a69f28073173"
      },
      "execution_count": 22,
      "outputs": [
        {
          "output_type": "stream",
          "name": "stdout",
          "text": [
            "4\n"
          ]
        }
      ]
    },
    {
      "cell_type": "markdown",
      "source": [
        "Instead of just printing an output, functions can also return data."
      ],
      "metadata": {
        "id": "KgMMIQOgA1l1"
      }
    },
    {
      "cell_type": "code",
      "source": [
        "def doubler(n):\n",
        "  return n*2\n",
        "\n",
        "print(doubler(2))"
      ],
      "metadata": {
        "colab": {
          "base_uri": "https://localhost:8080/"
        },
        "id": "FUBOQwfSA4Pa",
        "outputId": "f61ec988-0004-4d05-f860-2b8225985572"
      },
      "execution_count": 23,
      "outputs": [
        {
          "output_type": "stream",
          "name": "stdout",
          "text": [
            "4\n"
          ]
        }
      ]
    },
    {
      "cell_type": "markdown",
      "source": [
        "Functions can return multiple values as a tuple. The following function returns the minimum and maximum (in that order) of the numbers in a list or tuple."
      ],
      "metadata": {
        "id": "xAJr4lbFA1jF"
      }
    },
    {
      "cell_type": "code",
      "source": [
        "def min_max(numbers):\n",
        "  min = 0\n",
        "  max = 0\n",
        "  for n in numbers:\n",
        "    if n > max:\n",
        "      max = n\n",
        "    if n < min:\n",
        "      min = n\n",
        "  return min, max\n",
        "\n",
        "print(min_max([-6, 78, -102, 45, 5.98, 3.1243]))"
      ],
      "metadata": {
        "colab": {
          "base_uri": "https://localhost:8080/"
        },
        "id": "0Pz6mSpHA8Fb",
        "outputId": "07ae5d5c-7c15-428e-eb44-d4f41a086351"
      },
      "execution_count": 24,
      "outputs": [
        {
          "output_type": "stream",
          "name": "stdout",
          "text": [
            "(-102, 78)\n"
          ]
        }
      ]
    },
    {
      "cell_type": "markdown",
      "source": [
        "It is important to note that when you pass data to a function, the function gets a *copy* of the data. For numeric, boolean, and string data types, that means that the function can't directly modify the data you passed in. For lists and dictionaries, it is a little more complicated. The function gets a *copy of the location/address* of the data structure. While the function can't change that address, it can modify the data structure.\n",
        "\n",
        "Let's see some examples to solidify the point. In this first example we can see that the number changer can't make any changes to the variable `my_number`."
      ],
      "metadata": {
        "id": "Eg2d8ljWA1g7"
      }
    },
    {
      "cell_type": "code",
      "source": [
        "def number_changer(n):\n",
        "  n = 42\n",
        "\n",
        "my_number = 24\n",
        "number_changer(my_number)\n",
        "print(my_number)"
      ],
      "metadata": {
        "colab": {
          "base_uri": "https://localhost:8080/"
        },
        "id": "wDmhxlkSBKgG",
        "outputId": "8ef86aef-9cea-4636-c87a-62dcdff9edbe"
      },
      "execution_count": 25,
      "outputs": [
        {
          "output_type": "stream",
          "name": "stdout",
          "text": [
            "24\n"
          ]
        }
      ]
    },
    {
      "cell_type": "markdown",
      "source": [
        "The same is true for booleans. The function below can't modify `my_bool`."
      ],
      "metadata": {
        "id": "MojnywORA1ev"
      }
    },
    {
      "cell_type": "code",
      "source": [
        "def bool_changer(b):\n",
        "  b = False\n",
        "\n",
        "my_bool = True\n",
        "bool_changer(my_bool)\n",
        "print(my_bool)"
      ],
      "metadata": {
        "colab": {
          "base_uri": "https://localhost:8080/"
        },
        "id": "OyDe6UjkBPfH",
        "outputId": "0ee12903-7de1-4226-80c7-411950c535dd"
      },
      "execution_count": 26,
      "outputs": [
        {
          "output_type": "stream",
          "name": "stdout",
          "text": [
            "True\n"
          ]
        }
      ]
    },
    {
      "cell_type": "markdown",
      "source": [
        "The same is true for strings"
      ],
      "metadata": {
        "id": "ldkNBZZAA1cb"
      }
    },
    {
      "cell_type": "code",
      "source": [
        "def string_changer(s):\n",
        "  s = \"Got you!\"\n",
        "\n",
        "my_string = \"You can't get me\"\n",
        "string_changer(my_string)\n",
        "print(my_string)"
      ],
      "metadata": {
        "colab": {
          "base_uri": "https://localhost:8080/"
        },
        "id": "ecKn9tbEBXAg",
        "outputId": "646215b8-1ab5-4374-c01a-6ff843d37604"
      },
      "execution_count": 27,
      "outputs": [
        {
          "output_type": "stream",
          "name": "stdout",
          "text": [
            "You can't get me\n"
          ]
        }
      ]
    },
    {
      "cell_type": "markdown",
      "source": [
        "However, lists can be modified. See the example below."
      ],
      "metadata": {
        "id": "KaYAhqKgA1Uo"
      }
    },
    {
      "cell_type": "code",
      "source": [
        "def list_changer(list_parameter):\n",
        "  list_parameter[0] = \"changed!\"\n",
        "\n",
        "my_list = [1, 2, 3]\n",
        "list_changer(my_list)\n",
        "print(my_list)"
      ],
      "metadata": {
        "colab": {
          "base_uri": "https://localhost:8080/"
        },
        "id": "ITlo3pvtAze1",
        "outputId": "251a1c21-3749-46d4-8b5f-ecdb9d8601d6"
      },
      "execution_count": 28,
      "outputs": [
        {
          "output_type": "stream",
          "name": "stdout",
          "text": [
            "['changed!', 2, 3]\n"
          ]
        }
      ]
    },
    {
      "cell_type": "markdown",
      "source": [
        "What do you think the code below will do?"
      ],
      "metadata": {
        "id": "qJE9DKciBbD4"
      }
    },
    {
      "cell_type": "code",
      "source": [
        "def list_changer(list_parameter):\n",
        "  list_parameter = [\"this is my list now\"]\n",
        "\n",
        "my_list = [1, 2, 3]\n",
        "list_changer(my_list)\n",
        "print(my_list)"
      ],
      "metadata": {
        "colab": {
          "base_uri": "https://localhost:8080/"
        },
        "id": "LD00WNP-BZ6K",
        "outputId": "8a2c2577-752d-4fb7-e16d-7f20615910d3"
      },
      "execution_count": 29,
      "outputs": [
        {
          "output_type": "stream",
          "name": "stdout",
          "text": [
            "[1, 2, 3]\n"
          ]
        }
      ]
    },
    {
      "cell_type": "markdown",
      "source": [
        "\n",
        "Functions cannot change the value of the entire list, they can only change individual values within the list.\n",
        "\n",
        "Dictionaries interact with functions exactly like lists do."
      ],
      "metadata": {
        "id": "6w0yIZCFBfXB"
      }
    },
    {
      "cell_type": "code",
      "source": [
        "def dictionary_changer(d):\n",
        "  d[\"my_entry\"] = 100\n",
        "\n",
        "my_dictionary = {\"a\": 100, \"b\": \"bee\"}\n",
        "dictionary_changer(my_dictionary)\n",
        "print(my_dictionary)"
      ],
      "metadata": {
        "colab": {
          "base_uri": "https://localhost:8080/"
        },
        "id": "M6fmyccRBbgK",
        "outputId": "042d319b-a226-42b9-c461-df2ce7e2a331"
      },
      "execution_count": 30,
      "outputs": [
        {
          "output_type": "stream",
          "name": "stdout",
          "text": [
            "{'a': 100, 'b': 'bee', 'my_entry': 100}\n"
          ]
        }
      ]
    },
    {
      "cell_type": "code",
      "source": [
        "def dictionary_changer(d):\n",
        "  d = {\"this is\": \"my dictionary\"}\n",
        "\n",
        "my_dictionary = {\"a\": 100, \"b\": \"bee\"}\n",
        "dictionary_changer(my_dictionary)\n",
        "print(my_dictionary)"
      ],
      "metadata": {
        "colab": {
          "base_uri": "https://localhost:8080/"
        },
        "id": "_RtcWTPvBkkF",
        "outputId": "46c8aee5-a669-4675-fb02-b45cc14bd8fb"
      },
      "execution_count": 31,
      "outputs": [
        {
          "output_type": "stream",
          "name": "stdout",
          "text": [
            "{'a': 100, 'b': 'bee'}\n"
          ]
        }
      ]
    },
    {
      "cell_type": "markdown",
      "source": [
        "So, how can you get a function to modify a number, bool, or string? You can simply assign the return value of the function to the original variable."
      ],
      "metadata": {
        "id": "zMPkCi7FBuDO"
      }
    },
    {
      "cell_type": "code",
      "source": [
        "def number_changer(n):\n",
        "  return n + 1\n",
        "\n",
        "def boolean_changer(b):\n",
        "  return not b\n",
        "\n",
        "def string_changer(s):\n",
        "  return s.upper()\n",
        "\n",
        "my_number = 42\n",
        "my_bool = False\n",
        "my_string = \"Python\"\n",
        "\n",
        "my_number = number_changer(my_number)\n",
        "my_bool = boolean_changer(my_bool)\n",
        "my_string = string_changer(my_string)\n",
        "\n",
        "print(my_number)\n",
        "print(my_bool)\n",
        "print(my_string)"
      ],
      "metadata": {
        "colab": {
          "base_uri": "https://localhost:8080/"
        },
        "id": "wCkkIo8yBsjI",
        "outputId": "8577699d-1d35-474f-d771-deb861bbd407"
      },
      "execution_count": 32,
      "outputs": [
        {
          "output_type": "stream",
          "name": "stdout",
          "text": [
            "43\n",
            "True\n",
            "PYTHON\n"
          ]
        }
      ]
    },
    {
      "cell_type": "markdown",
      "source": [
        "## Practice Exercises"
      ],
      "metadata": {
        "id": "qgMKJjjWCMSi"
      }
    },
    {
      "cell_type": "markdown",
      "source": [
        "#### **Exercise 1**"
      ],
      "metadata": {
        "id": "03_8SGf6D3wd"
      }
    },
    {
      "cell_type": "markdown",
      "source": [
        "In the code block below, complete the function by making it return the number cubed."
      ],
      "metadata": {
        "id": "MBtQHwxgD6JS"
      }
    },
    {
      "cell_type": "markdown",
      "source": [
        "**Student Solution**"
      ],
      "metadata": {
        "id": "D_KN-PWRD7rG"
      }
    },
    {
      "cell_type": "code",
      "source": [
        "def cube(n):\n",
        "  # Your code goes here\n",
        "  pass"
      ],
      "metadata": {
        "id": "PuKYkgAxEAKu"
      },
      "execution_count": 33,
      "outputs": []
    },
    {
      "cell_type": "markdown",
      "source": [
        "#### **Exercise 2**"
      ],
      "metadata": {
        "id": "TkhV5oVxCOOm"
      }
    },
    {
      "cell_type": "markdown",
      "source": [
        "In the code block below, complete the function by making it return the sum of the even numbers of the provided sequence (list or tuple)."
      ],
      "metadata": {
        "id": "gPk-eFyzCWLa"
      }
    },
    {
      "cell_type": "markdown",
      "source": [
        "**Student Solution**"
      ],
      "metadata": {
        "id": "BbARTQozCwQ1"
      }
    },
    {
      "cell_type": "code",
      "source": [
        "def sum_of_sevens(seq):\n",
        "  # Your code goes here\n",
        "  pass"
      ],
      "metadata": {
        "id": "ElCLJhFUCoKg"
      },
      "execution_count": 34,
      "outputs": []
    },
    {
      "cell_type": "markdown",
      "source": [
        "#### **Exercise 3**"
      ],
      "metadata": {
        "id": "ZhOKmQtHCWOT"
      }
    },
    {
      "cell_type": "markdown",
      "source": [
        "We've provided a helper function for you that will take a random step, returning either -1 or 1. It is your job to use this function in another function that takes in a starting value `start` and an ending value `end`, and goes on a random walk from `start` until it reaches `end`. Your function should return the number of steps required to reach `end`. (Note that it may help for debugging to print the value of the random walk at each step.)"
      ],
      "metadata": {
        "id": "CwxDsiqBCvg1"
      }
    },
    {
      "cell_type": "code",
      "source": [
        "import random\n",
        "\n",
        "def random_step():\n",
        "  # Returns either -1 or 1 at random\n",
        "  return random.choice([-1, 1])"
      ],
      "metadata": {
        "id": "EvSRrMxnDBFv"
      },
      "execution_count": 35,
      "outputs": []
    },
    {
      "cell_type": "markdown",
      "source": [
        "**Student Solution**"
      ],
      "metadata": {
        "id": "tZ0BRlXdCyWg"
      }
    },
    {
      "cell_type": "code",
      "source": [
        "def random_walks(start, num_steps):\n",
        "  # Your code goes here\n",
        "  pass"
      ],
      "metadata": {
        "id": "XyPC5ZkcCVWu"
      },
      "execution_count": 36,
      "outputs": []
    },
    {
      "cell_type": "markdown",
      "source": [
        "#### **Exercise 4**"
      ],
      "metadata": {
        "id": "L_JBf3TlERSY"
      }
    },
    {
      "cell_type": "markdown",
      "source": [
        "Write a function that implements rock, paper, scissors below. Your function should take in the player's choice of rock, paper, or scissors and plays a game against the computer, which chooses randomly. Feel free to copy code from the \"Conditional Decisions\" section."
      ],
      "metadata": {
        "id": "X0wFYEyJEV1X"
      }
    },
    {
      "cell_type": "markdown",
      "source": [
        "**Student Solution**"
      ],
      "metadata": {
        "id": "FhSJIV_yEYOy"
      }
    },
    {
      "cell_type": "code",
      "source": [
        "from random import randrange\n",
        "\n",
        "def rock_paper_scissors(player_choice):\n",
        "  # Add code here that takes in the players choice of rock, paper, or scissors\n",
        "  # and plays a game against the computer, which chooses randomly.\n",
        "  # You can copy code from the \"Conditional Decisions\" section if you like.\n",
        "  pass"
      ],
      "metadata": {
        "id": "5dwezx6TETiM"
      },
      "execution_count": 37,
      "outputs": []
    }
  ]
}