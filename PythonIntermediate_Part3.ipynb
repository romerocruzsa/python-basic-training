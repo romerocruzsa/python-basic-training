{
  "nbformat": 4,
  "nbformat_minor": 0,
  "metadata": {
    "colab": {
      "provenance": [],
      "authorship_tag": "ABX9TyOTnQruRAdxG4Xg7h02Rck6",
      "include_colab_link": true
    },
    "kernelspec": {
      "name": "python3",
      "display_name": "Python 3"
    },
    "language_info": {
      "name": "python"
    }
  },
  "cells": [
    {
      "cell_type": "markdown",
      "metadata": {
        "id": "view-in-github",
        "colab_type": "text"
      },
      "source": [
        "<a href=\"https://colab.research.google.com/github/romerocruzsa/python-basic-training/blob/intermediate-uploads/PythonIntermediate_Part3.ipynb\" target=\"_parent\"><img src=\"https://colab.research.google.com/assets/colab-badge.svg\" alt=\"Open In Colab\"/></a>"
      ]
    },
    {
      "cell_type": "markdown",
      "source": [
        "Copyright 2020 Google LLC.\n",
        "\n",
        "*Changes made subject to discretion of revision author, Sebastián A. Cruz Romero*"
      ],
      "metadata": {
        "id": "VacbToADDZkW"
      }
    },
    {
      "cell_type": "code",
      "source": [
        "# Licensed under the Apache License, Version 2.0 (the \"License\");\n",
        "# you may not use this file except in compliance with the License.\n",
        "# You may obtain a copy of the License at\n",
        "#\n",
        "# https://www.apache.org/licenses/LICENSE-2.0\n",
        "#\n",
        "# Unless required by applicable law or agreed to in writing, software\n",
        "# distributed under the License is distributed on an \"AS IS\" BASIS,\n",
        "# WITHOUT WARRANTIES OR CONDITIONS OF ANY KIND, either express or implied.\n",
        "# See the License for the specific language governing permissions and\n",
        "# limitations under the License."
      ],
      "metadata": {
        "id": "L0TGNyDDDaSi"
      },
      "execution_count": 1,
      "outputs": []
    },
    {
      "cell_type": "markdown",
      "source": [
        "# Python Intermediate - Part 3"
      ],
      "metadata": {
        "id": "Ief-DfBf420S"
      }
    },
    {
      "cell_type": "markdown",
      "source": [
        "### **This notebook will cover the following topics:**\n",
        "1. Lambdas"
      ],
      "metadata": {
        "id": "CnaJiFdm5EKq"
      }
    },
    {
      "cell_type": "markdown",
      "source": [
        "## Lambdas"
      ],
      "metadata": {
        "id": "Wds5K7P96ool"
      }
    },
    {
      "cell_type": "markdown",
      "source": [
        "In this Colab, we will move on to the concept of lambda functions. You'll learn what a lambda function is and how to use them in your code."
      ],
      "metadata": {
        "id": "Jb4e-BCN627w"
      }
    },
    {
      "cell_type": "markdown",
      "source": [
        "You have previously seen how to create named functions and call them."
      ],
      "metadata": {
        "id": "16keCSPZHFh_"
      }
    },
    {
      "cell_type": "code",
      "execution_count": 2,
      "metadata": {
        "colab": {
          "base_uri": "https://localhost:8080/"
        },
        "id": "ooZtHD0Q408j",
        "outputId": "0991d7d0-267d-4d95-d004-424496086063"
      },
      "outputs": [
        {
          "output_type": "stream",
          "name": "stdout",
          "text": [
            "Hello World!\n"
          ]
        }
      ],
      "source": [
        "def my_function():\n",
        "  print(\"Hello World!\")\n",
        "\n",
        "my_function()"
      ]
    },
    {
      "cell_type": "code",
      "source": [
        "def say_hello():\n",
        "  print(\"Hello\")\n",
        "\n",
        "greeting = say_hello\n",
        "\n",
        "greeting()"
      ],
      "metadata": {
        "id": "oFFgbZgh7Nct",
        "colab": {
          "base_uri": "https://localhost:8080/"
        },
        "outputId": "9b130c56-01d0-4ec0-8959-53770fe7e148"
      },
      "execution_count": 3,
      "outputs": [
        {
          "output_type": "stream",
          "name": "stdout",
          "text": [
            "Hello\n"
          ]
        }
      ]
    },
    {
      "cell_type": "markdown",
      "source": [
        "And you can pass functions to other functions:"
      ],
      "metadata": {
        "id": "ldaA5pDrHROI"
      }
    },
    {
      "cell_type": "code",
      "source": [
        "def say_hello():\n",
        "  print(\"Hello\")\n",
        "\n",
        "def call_another_function(f):\n",
        "  print(\"Calling function {}\".format(f))\n",
        "  f()\n",
        "\n",
        "call_another_function(say_hello)"
      ],
      "metadata": {
        "colab": {
          "base_uri": "https://localhost:8080/"
        },
        "id": "NHlQpvKU7ogE",
        "outputId": "d8bdd7e0-b22e-4257-87f1-fe5e36d1f7e0"
      },
      "execution_count": 4,
      "outputs": [
        {
          "output_type": "stream",
          "name": "stdout",
          "text": [
            "Calling function <function say_hello at 0x7f600b61a3b0>\n",
            "Hello\n"
          ]
        }
      ]
    },
    {
      "cell_type": "markdown",
      "source": [
        "Often, functions can be defined in one line, so it would be nice to have a shorthand rather than having to use the `def` notation. This is exactly the use case for a **`lambda` function**.\n",
        "\n",
        "Lambda functions start with the `lambda` keyword. A colon signals the start of the function body."
      ],
      "metadata": {
        "id": "Ub4ylvNr8MgO"
      }
    },
    {
      "cell_type": "code",
      "source": [
        "my_lambda_func = lambda: print(\"This is a lambda function\")\n",
        "\n",
        "my_lambda_func()"
      ],
      "metadata": {
        "id": "Itbifo0x8HIh",
        "colab": {
          "base_uri": "https://localhost:8080/"
        },
        "outputId": "b983ab29-1249-4220-b1e8-10ca71c7c1a8"
      },
      "execution_count": 5,
      "outputs": [
        {
          "output_type": "stream",
          "name": "stdout",
          "text": [
            "This is a lambda function\n"
          ]
        }
      ]
    },
    {
      "cell_type": "markdown",
      "source": [
        "Lambda functions can accept arguments. Just put the variable names between the `lambda` keyword and the colon:"
      ],
      "metadata": {
        "id": "VZpHIglR7t9H"
      }
    },
    {
      "cell_type": "code",
      "source": [
        "add_one = lambda x: x + 1\n",
        "print(add_one(2))\n",
        "\n",
        "add = lambda x, y: x + y\n",
        "print(add(1, 2))"
      ],
      "metadata": {
        "colab": {
          "base_uri": "https://localhost:8080/"
        },
        "id": "8eRl5-tI7vI-",
        "outputId": "9caa7dfa-e4ee-4abc-b168-b75895cec26b"
      },
      "execution_count": 6,
      "outputs": [
        {
          "output_type": "stream",
          "name": "stdout",
          "text": [
            "3\n",
            "3\n"
          ]
        }
      ]
    },
    {
      "cell_type": "markdown",
      "source": [
        "Sometimes lambda functions do not even need to be named. For example, when you are passing a function to another object (e.g. another function), you can pass a lambda function directly."
      ],
      "metadata": {
        "id": "gJBN7u5T_hVZ"
      }
    },
    {
      "cell_type": "code",
      "source": [
        "def call_another_function(f):\n",
        "  print(\"Calling function {}\".format(f))\n",
        "  f()\n",
        "\n",
        "call_another_function(lambda: print(\"This is a lambda function\"))"
      ],
      "metadata": {
        "colab": {
          "base_uri": "https://localhost:8080/"
        },
        "id": "r7czhQZI8x0G",
        "outputId": "f900b0dc-f4b5-468a-9faf-24540225363c"
      },
      "execution_count": 7,
      "outputs": [
        {
          "output_type": "stream",
          "name": "stdout",
          "text": [
            "Calling function <function <lambda> at 0x7f600b61a4d0>\n",
            "This is a lambda function\n"
          ]
        }
      ]
    },
    {
      "cell_type": "markdown",
      "source": [
        "There are many places where it is Pythonic to use lambdas instead of named functions. Some examples are the [map](https://docs.python.org/3/library/functions.html#map), [filter](https://docs.python.org/3/library/functions.html#filter), and [sorted](https://docs.python.org/3/library/functions.html#sorted) built-in functions.\n",
        "\n",
        "One of the most standard use cases of a lambda function is to apply a function to every element of a list. You can do this using map. The code below adds one to every element in the list. (We end up needing the list function to make the return value of map become a [list](https://docs.python.org/3/library/functions.html#func-list) again.)"
      ],
      "metadata": {
        "id": "7EQO11ZH9AIy"
      }
    },
    {
      "cell_type": "code",
      "source": [
        "my_list = [4, 7, 9, 12, 34, 67]\n",
        "\n",
        "def add_one(x):\n",
        "  return x + 1\n",
        "\n",
        "list(map(add_one, my_list))"
      ],
      "metadata": {
        "colab": {
          "base_uri": "https://localhost:8080/"
        },
        "id": "OZUylP5y8_Bo",
        "outputId": "54bb3351-092b-43ff-d557-4aee4b80f5ca"
      },
      "execution_count": 8,
      "outputs": [
        {
          "output_type": "execute_result",
          "data": {
            "text/plain": [
              "[5, 8, 10, 13, 35, 68]"
            ]
          },
          "metadata": {},
          "execution_count": 8
        }
      ]
    },
    {
      "cell_type": "markdown",
      "source": [
        "With a lambda function, this can be done in one line."
      ],
      "metadata": {
        "id": "wF1F7G38-s29"
      }
    },
    {
      "cell_type": "code",
      "source": [
        "my_list = [4, 7, 9, 12, 34, 67]\n",
        "\n",
        "list(map(lambda x: x + 1, my_list))"
      ],
      "metadata": {
        "colab": {
          "base_uri": "https://localhost:8080/"
        },
        "id": "hRUnjR3J9OVf",
        "outputId": "e21f79a2-52de-4cb7-9cf5-8510e2c8aa1d"
      },
      "execution_count": 9,
      "outputs": [
        {
          "output_type": "execute_result",
          "data": {
            "text/plain": [
              "[5, 8, 10, 13, 35, 68]"
            ]
          },
          "metadata": {},
          "execution_count": 9
        }
      ]
    },
    {
      "cell_type": "markdown",
      "source": [
        "## Practice Exercises"
      ],
      "metadata": {
        "id": "qgMKJjjWCMSi"
      }
    },
    {
      "cell_type": "markdown",
      "source": [
        "#### **Exercise 1**"
      ],
      "metadata": {
        "id": "03_8SGf6D3wd"
      }
    },
    {
      "cell_type": "markdown",
      "source": [
        "Use the [map](https://docs.python.org/3/library/functions.html#map) function and a lambda to change all of the following strings to uppercase."
      ],
      "metadata": {
        "id": "MBtQHwxgD6JS"
      }
    },
    {
      "cell_type": "markdown",
      "source": [
        "**Student Solution**"
      ],
      "metadata": {
        "id": "D_KN-PWRD7rG"
      }
    },
    {
      "cell_type": "code",
      "source": [
        "my_strings = [\"I\", \"love\", \"LaMbDa\", \"Functions\"]\n",
        "\n",
        "# Your code goes here"
      ],
      "metadata": {
        "id": "U2vyO85tIqQc"
      },
      "execution_count": 10,
      "outputs": []
    },
    {
      "cell_type": "markdown",
      "source": [
        "#### **Exercise 2**"
      ],
      "metadata": {
        "id": "TkhV5oVxCOOm"
      }
    },
    {
      "cell_type": "markdown",
      "source": [
        "Use the [sorted](https://docs.python.org/3/library/functions.html#sorted) function and a lambda to sort the values in `my_list` by the \"sort_order\" value in each dictionary contained within the list."
      ],
      "metadata": {
        "id": "gPk-eFyzCWLa"
      }
    },
    {
      "cell_type": "markdown",
      "source": [
        "**Student Solution**"
      ],
      "metadata": {
        "id": "BbARTQozCwQ1"
      }
    },
    {
      "cell_type": "code",
      "source": [
        "my_list = [\n",
        "  {\"value\": 123, \"sort_order\": 1},\n",
        "  {\"value\": 543, \"sort_order\": 0},\n",
        "  {\"value\": 101, \"sort_order\": 4},\n",
        "  {\"value\": 654, \"sort_order\": 3},\n",
        "]\n",
        "\n",
        "# Your code goes here"
      ],
      "metadata": {
        "id": "ElCLJhFUCoKg"
      },
      "execution_count": 11,
      "outputs": []
    }
  ]
}